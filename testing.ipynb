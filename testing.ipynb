{
 "cells": [
  {
   "cell_type": "code",
   "execution_count": 55,
   "metadata": {},
   "outputs": [],
   "source": [
    "from Crop import Crop"
   ]
  },
  {
   "cell_type": "code",
   "execution_count": 56,
   "metadata": {},
   "outputs": [],
   "source": [
    "onion_stress = [\"Botrytis leaf blight\",\n",
    "                \"Downy Mildew\", \"Armyworm\", \"Leaf Miner\"]\n",
    "onion_stressDesc = [\n",
    "    \"\"\"Botrytis leaf blight, sometimes also referred to as Botrytis leaf spot, occurs on onions. \n",
    "    White, sunken spots on leaves are usually the first sign of infection. Spots are small, oval-shaped, and range from 0.06 to 0.25 inch (0.5–6 mm) long. \n",
    "    They sometimes have a light-green halo and may appear water-soaked. The epidermis around the spots may be silvery. \n",
    "    When numerous spots are present, leaf tips die back, and whole leaves may eventually die.\"\"\".strip(),\n",
    "    \"\"\"\n",
    "    At the field level, symptoms of downy mildew are first noticed as circular clumps of yellowed plants that are a few to many feet in diameter. \n",
    "    As the disease progresses, the yellowing patterns often enlarge in the direction of prevailing winds.\n",
    "    On individual plants, leaf tissue becomes pale green, then tan to brown or yellow, and finally collapses. Lesions may exhibit a violet-to-purple color. \n",
    "    When leaves are wet, or when humidity is very high, signs of Peronospora destructor are visible on the surface of older leaves as fine, furry, grayish-white growths. \n",
    "    These growths may later turn purple or brown as a result of a secondary infection of the lesion by other fungi, \n",
    "    such as those that cause PURPLE BLOTCH AND STEMPYLIUM LEAF BLIGHT, as these fungi can produce purple pigmentation and dark spores.\n",
    "    \"\"\".strip(),\n",
    "    \"\"\"\n",
    "\n",
    "    \"\"\".strip(),\n",
    "    \"\"\"\n",
    "    Adults have yellow heads, knees, sides of abdomens; otherwise mostly dark gray, just over 1/10 inch long.\n",
    "    Pupae are red-brown, slightly longer than adults.\n",
    "    Larvae are white to yellow, up to about 1/3 inch long.\n",
    "    Eggs are white, about 1/50 inch long, found on leaves.\n",
    "    Adult feeding holes found in rows, with milky white sap coming out.\n",
    "    \"\"\".strip()\n",
    "]\n",
    "onion_stressSoln = [\n",
    "    [\"apply appropriate fungicide sprays\".strip()],\n",
    "    [\"\"\"\n",
    "    Spray at the first sign of the disease. After the first spray, scout fields and make subsequent applications when weather conditions are favorable for the disease. \n",
    "    Rotate with fungicides from different mode-of-action groups to reduce the risk of fungicide resistance development. \n",
    "    Fungicides may be applied on a 7-day schedule (only as consistent with the label), if necessary. \n",
    "    For all fungicides, thorough coverage of foliage is important in the control of downy mildew. \n",
    "    apply appropriate foliar fungicides taking care to apply thoroughly to waxy leaves. \n",
    "    Chlorothalonil and mancozeb are the main protectant fungicides for downy mildew.\n",
    "    \"\"\".strip()],\n",
    "    [\"\".strip()],\n",
    "    [\"\"\"\n",
    "    Pyrethrin This organic pesticide will kill leaf miners as they leave the egg and enter the leaf. \n",
    "    Since they have to chew into the leaf, they ingest the poison with the leaf and die. \n",
    "    However, pyrethrin also kills good insects such as bee and leaf miner preditors. \n",
    "    Use to spot treat concentrations of leaf miners rather than blanket the whole garden with it. \n",
    "    Be sure you get it on the bottom side of the leaf.\n",
    "    \"\"\".strip()]\n",
    "]\n",
    "onion_data = Crop(\"Onion\", \"Allium cepa\", onion_stress,\n",
    "                  onion_stressDesc, onion_stressSoln)"
   ]
  },
  {
   "cell_type": "code",
   "execution_count": 57,
   "metadata": {},
   "outputs": [
    {
     "name": "stdout",
     "output_type": "stream",
     "text": [
      "[{'Crop': 'Onion', 'Scientific': 'Allium cepa', 'Stress': 'Botrytis leaf blight', 'Description': 'Botrytis leaf blight, sometimes also referred to as Botrytis leaf spot, occurs on onions. \\n    White, sunken spots on leaves are usually the first sign of infection. Spots are small, oval-shaped, and range from 0.06 to 0.25 inch (0.5–6 mm) long. \\n    They sometimes have a light-green halo and may appear water-soaked. The epidermis around the spots may be silvery. \\n    When numerous spots are present, leaf tips die back, and whole leaves may eventually die.', 'Solutions': ['apply appropriate fungicide sprays']}, {'Crop': 'Onion', 'Scientific': 'Allium cepa', 'Stress': 'Downy Mildew', 'Description': 'At the field level, symptoms of downy mildew are first noticed as circular clumps of yellowed plants that are a few to many feet in diameter. \\n    As the disease progresses, the yellowing patterns often enlarge in the direction of prevailing winds.\\n    On individual plants, leaf tissue becomes pale green, then tan to brown or yellow, and finally collapses. Lesions may exhibit a violet-to-purple color. \\n    When leaves are wet, or when humidity is very high, signs of Peronospora destructor are visible on the surface of older leaves as fine, furry, grayish-white growths. \\n    These growths may later turn purple or brown as a result of a secondary infection of the lesion by other fungi, \\n    such as those that cause PURPLE BLOTCH AND STEMPYLIUM LEAF BLIGHT, as these fungi can produce purple pigmentation and dark spores.', 'Solutions': ['Spray at the first sign of the disease. After the first spray, scout fields and make subsequent applications when weather conditions are favorable for the disease. \\n    Rotate with fungicides from different mode-of-action groups to reduce the risk of fungicide resistance development. \\n    Fungicides may be applied on a 7-day schedule (only as consistent with the label), if necessary. \\n    For all fungicides, thorough coverage of foliage is important in the control of downy mildew. \\n    apply appropriate foliar fungicides taking care to apply thoroughly to waxy leaves. \\n    Chlorothalonil and mancozeb are the main protectant fungicides for downy mildew.']}, {'Crop': 'Onion', 'Scientific': 'Allium cepa', 'Stress': 'Armyworm', 'Description': '', 'Solutions': ['']}, {'Crop': 'Onion', 'Scientific': 'Allium cepa', 'Stress': 'Leaf Miner', 'Description': 'Adults have yellow heads, knees, sides of abdomens; otherwise mostly dark gray, just over 1/10 inch long.\\n    Pupae are red-brown, slightly longer than adults.\\n    Larvae are white to yellow, up to about 1/3 inch long.\\n    Eggs are white, about 1/50 inch long, found on leaves.\\n    Adult feeding holes found in rows, with milky white sap coming out.', 'Solutions': ['Pyrethrin This organic pesticide will kill leaf miners as they leave the egg and enter the leaf. \\n    Since they have to chew into the leaf, they ingest the poison with the leaf and die. \\n    However, pyrethrin also kills good insects such as bee and leaf miner preditors. \\n    Use to spot treat concentrations of leaf miners rather than blanket the whole garden with it. \\n    Be sure you get it on the bottom side of the leaf.']}]\n"
     ]
    }
   ],
   "source": [
    "print(onion_data.stress_dict)"
   ]
  },
  {
   "cell_type": "code",
   "execution_count": 58,
   "metadata": {},
   "outputs": [
    {
     "name": "stdout",
     "output_type": "stream",
     "text": [
      "{'Crop': 'Onion', 'Scientific': 'Allium cepa', 'Stress': 'Botrytis leaf blight', 'Description': 'Botrytis leaf blight, sometimes also referred to as Botrytis leaf spot, occurs on onions. \\n    White, sunken spots on leaves are usually the first sign of infection. Spots are small, oval-shaped, and range from 0.06 to 0.25 inch (0.5–6 mm) long. \\n    They sometimes have a light-green halo and may appear water-soaked. The epidermis around the spots may be silvery. \\n    When numerous spots are present, leaf tips die back, and whole leaves may eventually die.', 'Solutions': ['apply appropriate fungicide sprays']}\n",
      "{'Crop': 'Onion', 'Scientific': 'Allium cepa', 'Stress': 'Downy Mildew', 'Description': 'At the field level, symptoms of downy mildew are first noticed as circular clumps of yellowed plants that are a few to many feet in diameter. \\n    As the disease progresses, the yellowing patterns often enlarge in the direction of prevailing winds.\\n    On individual plants, leaf tissue becomes pale green, then tan to brown or yellow, and finally collapses. Lesions may exhibit a violet-to-purple color. \\n    When leaves are wet, or when humidity is very high, signs of Peronospora destructor are visible on the surface of older leaves as fine, furry, grayish-white growths. \\n    These growths may later turn purple or brown as a result of a secondary infection of the lesion by other fungi, \\n    such as those that cause PURPLE BLOTCH AND STEMPYLIUM LEAF BLIGHT, as these fungi can produce purple pigmentation and dark spores.', 'Solutions': ['Spray at the first sign of the disease. After the first spray, scout fields and make subsequent applications when weather conditions are favorable for the disease. \\n    Rotate with fungicides from different mode-of-action groups to reduce the risk of fungicide resistance development. \\n    Fungicides may be applied on a 7-day schedule (only as consistent with the label), if necessary. \\n    For all fungicides, thorough coverage of foliage is important in the control of downy mildew. \\n    apply appropriate foliar fungicides taking care to apply thoroughly to waxy leaves. \\n    Chlorothalonil and mancozeb are the main protectant fungicides for downy mildew.']}\n",
      "{'Crop': 'Onion', 'Scientific': 'Allium cepa', 'Stress': 'Armyworm', 'Description': '', 'Solutions': ['']}\n",
      "{'Crop': 'Onion', 'Scientific': 'Allium cepa', 'Stress': 'Leaf Miner', 'Description': 'Adults have yellow heads, knees, sides of abdomens; otherwise mostly dark gray, just over 1/10 inch long.\\n    Pupae are red-brown, slightly longer than adults.\\n    Larvae are white to yellow, up to about 1/3 inch long.\\n    Eggs are white, about 1/50 inch long, found on leaves.\\n    Adult feeding holes found in rows, with milky white sap coming out.', 'Solutions': ['Pyrethrin This organic pesticide will kill leaf miners as they leave the egg and enter the leaf. \\n    Since they have to chew into the leaf, they ingest the poison with the leaf and die. \\n    However, pyrethrin also kills good insects such as bee and leaf miner preditors. \\n    Use to spot treat concentrations of leaf miners rather than blanket the whole garden with it. \\n    Be sure you get it on the bottom side of the leaf.']}\n"
     ]
    }
   ],
   "source": [
    "for i in onion_data.stress_dict:\n",
    "    print(i)"
   ]
  },
  {
   "cell_type": "code",
   "execution_count": 74,
   "metadata": {},
   "outputs": [
    {
     "name": "stdout",
     "output_type": "stream",
     "text": [
      "['Spray at the first sign of the disease. After the first spray, scout fields and make subsequent applications when weather conditions are favorable for the disease. \\n    Rotate with fungicides from different mode-of-action groups to reduce the risk of fungicide resistance development. \\n    Fungicides may be applied on a 7-day schedule (only as consistent with the label), if necessary. \\n    For all fungicides, thorough coverage of foliage is important in the control of downy mildew. \\n    apply appropriate foliar fungicides taking care to apply thoroughly to waxy leaves. \\n    Chlorothalonil and mancozeb are the main protectant fungicides for downy mildew.']\n"
     ]
    }
   ],
   "source": [
    "print(onion_data.stress_dict[1]['Solutions'])"
   ]
  },
  {
   "cell_type": "code",
   "execution_count": 60,
   "metadata": {},
   "outputs": [],
   "source": [
    "for i in range(len(onion_data.stress_dict)):\n",
    "    to_return.update({i: onion_data.stress_dict[i]})"
   ]
  },
  {
   "cell_type": "code",
   "execution_count": 61,
   "metadata": {},
   "outputs": [
    {
     "name": "stdout",
     "output_type": "stream",
     "text": [
      "{0: {'Crop': 'Onion', 'Scientific': 'Allium cepa', 'Stress': 'Botrytis leaf blight', 'Description': 'Botrytis leaf blight, sometimes also referred to as Botrytis leaf spot, occurs on onions. \\n    White, sunken spots on leaves are usually the first sign of infection. Spots are small, oval-shaped, and range from 0.06 to 0.25 inch (0.5–6 mm) long. \\n    They sometimes have a light-green halo and may appear water-soaked. The epidermis around the spots may be silvery. \\n    When numerous spots are present, leaf tips die back, and whole leaves may eventually die.', 'Solutions': ['apply appropriate fungicide sprays']}, 1: {'Crop': 'Onion', 'Scientific': 'Allium cepa', 'Stress': 'Downy Mildew', 'Description': 'At the field level, symptoms of downy mildew are first noticed as circular clumps of yellowed plants that are a few to many feet in diameter. \\n    As the disease progresses, the yellowing patterns often enlarge in the direction of prevailing winds.\\n    On individual plants, leaf tissue becomes pale green, then tan to brown or yellow, and finally collapses. Lesions may exhibit a violet-to-purple color. \\n    When leaves are wet, or when humidity is very high, signs of Peronospora destructor are visible on the surface of older leaves as fine, furry, grayish-white growths. \\n    These growths may later turn purple or brown as a result of a secondary infection of the lesion by other fungi, \\n    such as those that cause PURPLE BLOTCH AND STEMPYLIUM LEAF BLIGHT, as these fungi can produce purple pigmentation and dark spores.', 'Solutions': ['Spray at the first sign of the disease. After the first spray, scout fields and make subsequent applications when weather conditions are favorable for the disease. \\n    Rotate with fungicides from different mode-of-action groups to reduce the risk of fungicide resistance development. \\n    Fungicides may be applied on a 7-day schedule (only as consistent with the label), if necessary. \\n    For all fungicides, thorough coverage of foliage is important in the control of downy mildew. \\n    apply appropriate foliar fungicides taking care to apply thoroughly to waxy leaves. \\n    Chlorothalonil and mancozeb are the main protectant fungicides for downy mildew.']}, 2: {'Crop': 'Onion', 'Scientific': 'Allium cepa', 'Stress': 'Armyworm', 'Description': '', 'Solutions': ['']}, 3: {'Crop': 'Onion', 'Scientific': 'Allium cepa', 'Stress': 'Leaf Miner', 'Description': 'Adults have yellow heads, knees, sides of abdomens; otherwise mostly dark gray, just over 1/10 inch long.\\n    Pupae are red-brown, slightly longer than adults.\\n    Larvae are white to yellow, up to about 1/3 inch long.\\n    Eggs are white, about 1/50 inch long, found on leaves.\\n    Adult feeding holes found in rows, with milky white sap coming out.', 'Solutions': ['Pyrethrin This organic pesticide will kill leaf miners as they leave the egg and enter the leaf. \\n    Since they have to chew into the leaf, they ingest the poison with the leaf and die. \\n    However, pyrethrin also kills good insects such as bee and leaf miner preditors. \\n    Use to spot treat concentrations of leaf miners rather than blanket the whole garden with it. \\n    Be sure you get it on the bottom side of the leaf.']}}\n"
     ]
    }
   ],
   "source": [
    "print(to_return)"
   ]
  },
  {
   "cell_type": "code",
   "execution_count": 68,
   "metadata": {},
   "outputs": [
    {
     "ename": "AttributeError",
     "evalue": "'Crop' object has no attribute 'descriptions'",
     "output_type": "error",
     "traceback": [
      "\u001b[1;31m---------------------------------------------------------------------------\u001b[0m",
      "\u001b[1;31mAttributeError\u001b[0m                            Traceback (most recent call last)",
      "Cell \u001b[1;32mIn[68], line 1\u001b[0m\n\u001b[1;32m----> 1\u001b[0m \u001b[39mprint\u001b[39m(onion_data\u001b[39m.\u001b[39;49mdescriptions)\n",
      "\u001b[1;31mAttributeError\u001b[0m: 'Crop' object has no attribute 'descriptions'"
     ]
    }
   ],
   "source": [
    "print(onion_data.descriptions)"
   ]
  },
  {
   "attachments": {},
   "cell_type": "markdown",
   "metadata": {},
   "source": [
    "# Get plant details from csv"
   ]
  },
  {
   "cell_type": "code",
   "execution_count": 1,
   "metadata": {},
   "outputs": [],
   "source": [
    "import pandas as pd"
   ]
  },
  {
   "cell_type": "code",
   "execution_count": 3,
   "metadata": {},
   "outputs": [],
   "source": [
    "folder_dir = \"F:/College/4thYear/PD1/SaganaApp/csv\""
   ]
  },
  {
   "cell_type": "code",
   "execution_count": 4,
   "metadata": {},
   "outputs": [],
   "source": [
    "df = pd.read_csv(f\"{folder_dir}/plant_details.csv\", header=0, names=None)"
   ]
  },
  {
   "cell_type": "code",
   "execution_count": 5,
   "metadata": {},
   "outputs": [
    {
     "name": "stdout",
     "output_type": "stream",
     "text": [
      "       crop              sci_name  \\\n",
      "0      corn              Zea mays   \n",
      "1  eggplant     Solanum melongena   \n",
      "2     onion           Allium cepa   \n",
      "3    tomato  Solanum lycopersicum   \n",
      "\n",
      "                                         description  \\\n",
      "0  Corn is a tall annual cereal grass (Zea mays) ...   \n",
      "1  eggplant, (Solanum melongena), also called aub...   \n",
      "2  onion, (Allium cepa), herbaceous biennial plan...   \n",
      "3  omato, (Solanum lycopersicum), flowering plant...   \n",
      "\n",
      "                                             habitat  \n",
      "0  corn can grow in a wide variety of soil types ...  \n",
      "1  Eggplant is easy to grow in the low desert sou...  \n",
      "2  The onion is likely native to southwestern Asi...  \n",
      "3  Tomato is cultivated in tropical and temperate...  \n"
     ]
    }
   ],
   "source": [
    "print(df)"
   ]
  },
  {
   "cell_type": "code",
   "execution_count": 7,
   "metadata": {},
   "outputs": [
    {
     "name": "stdout",
     "output_type": "stream",
     "text": [
      "['corn', 'eggplant', 'onion', 'tomato']\n"
     ]
    }
   ],
   "source": [
    "cols = df[\"crop\"].tolist()\n",
    "print(cols)"
   ]
  },
  {
   "cell_type": "code",
   "execution_count": 8,
   "metadata": {},
   "outputs": [
    {
     "name": "stdout",
     "output_type": "stream",
     "text": [
      "   crop  sci_name                                        description  \\\n",
      "0  corn  Zea mays  Corn is a tall annual cereal grass (Zea mays) ...   \n",
      "\n",
      "                                             habitat  \n",
      "0  corn can grow in a wide variety of soil types ...  \n"
     ]
    }
   ],
   "source": [
    "corn_details_df = df[df[\"crop\"] == \"corn\"]\n",
    "print(corn_details_df)"
   ]
  },
  {
   "cell_type": "code",
   "execution_count": 9,
   "metadata": {},
   "outputs": [
    {
     "name": "stdout",
     "output_type": "stream",
     "text": [
      "[{'crop': 'corn', 'sci_name': 'Zea mays', 'description': 'Corn is a tall annual\\xa0cereal\\xa0grass (Zea mays) that is widely grown for its large elongated ears of starchy seeds. The seeds, which are also known as corn, are used as food for humans and livestock and as a source of\\xa0biofuel\\xa0and can be processed into a wide range of useful chemicals.', 'habitat': 'corn can grow in a wide variety of soil types ranging from sand to heavy clay. Typically, corn is grown on slightly acidic to neutral soil (pH 5.5-7)'}, {'crop': 'eggplant', 'sci_name': 'Solanum melongena', 'description': 'eggplant, (Solanum melongena), also called\\xa0aubergine\\xa0or\\xa0Guinea squash, tender\\xa0perennial\\xa0plant\\xa0of the nightshade family (Solanaceae), grown for its edible fruits. Eggplant requires a warm climate and has been\\xa0cultivated\\xa0in its native\\xa0Southeast Asia\\xa0since remote antiquity. A staple in cuisines of the Mediterranean region, eggplant figures prominently in such classic dishes as the Greek\\xa0moussaka, the Italian eggplant parmigiana, and the Middle Eastern relish\\xa0baba ghanoush.', 'habitat': 'Eggplant is easy to grow in the\\xa0low desert southwest. It does well in a variety of soil textures, but prefers rich, well-drained soil with a pH of 5.5 to 6.5. It thrives in full sun and requires at least five months of warm weather for fruit production.'}, {'crop': 'onion', 'sci_name': 'Allium cepa', 'description': 'onion, (Allium cepa), herbaceous\\xa0biennial\\xa0plant\\xa0in the amaryllis family (Amaryllidaceae) grown for its\\xa0edible\\xa0bulb. The onion is likely native to southwestern Asia but is now grown throughout the world, chiefly in the temperate zones. Onions are low in nutrients but are valued for their flavour and are used widely in cooking. They add flavour to such dishes as stews, roasts, soups, and salads and are also served as a cooked\\xa0vegetable.', 'habitat': 'The onion is likely native to\\xa0southwestern Asia\\xa0but is now grown throughout the world, chiefly in the temperate zones.'}, {'crop': 'tomato', 'sci_name': 'Solanum lycopersicum', 'description': 'omato, (Solanum lycopersicum),\\xa0flowering plant\\xa0of the nightshade family (Solanaceae),\\xa0cultivated\\xa0extensively for its edible fruits. Labelled as a\\xa0vegetable\\xa0for nutritional purposes, tomatoes are a good source of\\xa0vitamin C\\xa0and the phytochemical\\xa0lycopene. The fruits are commonly eaten raw in salads, served as a cooked vegetable, used as an ingredient of various prepared dishes, and pickled. Additionally, a large percentage of the world’s tomato crop is used for processing; products include canned tomatoes, tomato juice,\\xa0ketchup, puree, paste, and “sun-dried” tomatoes or dehydrated pulp.', 'habitat': 'Tomato is cultivated in\\xa0tropical and temperate climates in open field or under greenhouse in temperate climate.'}]\n"
     ]
    }
   ],
   "source": [
    "rows_list = df.to_dict(orient=\"records\")\n",
    "print(rows_list)"
   ]
  },
  {
   "cell_type": "code",
   "execution_count": 11,
   "metadata": {},
   "outputs": [
    {
     "name": "stdout",
     "output_type": "stream",
     "text": [
      "Corn is a tall annual cereal grass (Zea mays) that is widely grown for its large elongated ears of starchy seeds. The seeds, which are also known as corn, are used as food for humans and livestock and as a source of biofuel and can be processed into a wide range of useful chemicals.\n"
     ]
    }
   ],
   "source": [
    "print(rows_list[0]['description'].replace('\\xa0', ' '))"
   ]
  },
  {
   "attachments": {},
   "cell_type": "markdown",
   "metadata": {},
   "source": [
    "# Create Stress CSV"
   ]
  },
  {
   "cell_type": "code",
   "execution_count": 6,
   "metadata": {},
   "outputs": [],
   "source": [
    "import reco\n",
    "from Crop import Crop\n",
    "import pandas as pd"
   ]
  },
  {
   "cell_type": "code",
   "execution_count": 60,
   "metadata": {},
   "outputs": [],
   "source": [
    "for i in range(len(reco.onion_stressSoln)):\n",
    "    temp_list = []\n",
    "    temp_list = {\"id\": j, \"Solution\": reco.onion_stressSoln[i]}\n",
    "    reco.onion_stressSoln[i] = temp_list\n",
    "onion_data = Crop(\"Onion\", \"Allium cepa\", reco.onion_stress,\n",
    "                  reco.onion_stressDesc, reco.onion_stressSoln)\n",
    "\n",
    "# Corn\n",
    "for i in range(len(reco.corn_stressSoln)):\n",
    "    temp_list = []\n",
    "    temp_list = {\"id\": j, \"Solution\": reco.corn_stressSoln[i]}\n",
    "    reco.corn_stressSoln[i] = temp_list\n",
    "corn_data = Crop(\"Corn\", \"Zea mays\", reco.corn_stress,\n",
    "                 reco.corn_stressDesc, reco.corn_stressSoln)\n",
    "\n",
    "# Eggplant\n",
    "for i in range(len(reco.eggplant_stressSoln)):\n",
    "    temp_list = []\n",
    "    temp_list = {\"id\": j, \"Solution\": reco.eggplant_stressSoln[i]}\n",
    "    reco.eggplant_stressSoln[i] = temp_list\n",
    "eggplant_data = Crop(\"Eggplant\", \"Solanum melongena\", reco.eggplant_stress,\n",
    "                     reco.eggplant_stressDesc, reco.eggplant_stressSoln)\n",
    "\n",
    "# Tomato\n",
    "for i in range(len(reco.tomato_stressSoln)):\n",
    "    temp_list = []\n",
    "    temp_list = {\"id\": j, \"Solution\": reco.tomato_stressSoln[i]}\n",
    "    reco.tomato_stressSoln[i] = temp_list\n",
    "tomato_data = Crop(\"Tomato\", \"Solanum lycopersicum\", reco.tomato_stress,\n",
    "                   reco.tomato_stressDesc, reco.tomato_stressSoln)"
   ]
  },
  {
   "cell_type": "code",
   "execution_count": 2,
   "metadata": {},
   "outputs": [],
   "source": [
    "onion_data = Crop(\"Onion\", \"Allium cepa\", reco.onion_stress,\n",
    "                  reco.onion_stressDesc, reco.onion_stressSoln)\n",
    "\n",
    "# Corn\n",
    "corn_data = Crop(\"Corn\", \"Zea mays\", reco.corn_stress,\n",
    "                 reco.corn_stressDesc, reco.corn_stressSoln)\n",
    "\n",
    "# Eggplant\n",
    "eggplant_data = Crop(\"Eggplant\", \"Solanum melongena\", reco.eggplant_stress,\n",
    "                     reco.eggplant_stressDesc, reco.eggplant_stressSoln)\n",
    "\n",
    "# Tomato\n",
    "tomato_data = Crop(\"Tomato\", \"Solanum lycopersicum\", reco.tomato_stress,\n",
    "                   reco.tomato_stressDesc, reco.tomato_stressSoln)"
   ]
  },
  {
   "cell_type": "code",
   "execution_count": 3,
   "metadata": {},
   "outputs": [
    {
     "name": "stdout",
     "output_type": "stream",
     "text": [
      "[{'Crop': 'Corn', 'Scientific': 'Zea mays', 'Stress': 'Leaf Spot', 'Description': 'Leaf spot is a common disease that affects corn plants. It is caused by several different fungal pathogens, including Helminthosporium spp., Cercospora spp., and Bipolaris spp.     Symptoms of leaf spot typically appear as small, circular lesions on the leaves, which can be surrounded by a yellow halo.        If left untreated, leaf spot can cause significant damage to corn plants, reducing yield and overall plant health.     To manage leaf spot, it is important to implement a combination of cultural and chemical control measures.    ', 'Solutions': \"To control leaf spot on corns, there are several methods that can be used, including chemical control, biological control, and cultural control.    Chemical Control: There are numerous fungicides available for control of Gray leaf spot.      However, there is no guarantee that fungicide applications will result in economic returns, especially if they are applied to highly resistant hybrids in fields with little disease.  For this reason it is important to scout fields for symptoms of Gray leaf spot and apply fungicides only when they are needed.  Scouts should pay particular attention to the lower three leaves of the corn plant from the period just before tasseling to two weeks after tasseling.  If at least 50% of plants in a field have disease present on the third leaf below the ear leaf or higher prior to tasseling, the hybrid is susceptible, and the conditions are favorable for disease, then a spray may be warranted.  Gray leaf spot severity is unpredictable and multiple factors should be considered when making the decision to use fungicides to control Gray leaf spot.  Always follow label directions when applying a fungicide.        Biological Control: Involves the use of natural enemies, such as beneficial microorganisms, to control leaf spot. One example of biological control is the use of biocontrol agents, such as Trichoderma spp., Bacillus spp., or Pseudomonas spp., which can colonize the plant's roots and leaves, and produce antifungal compounds that suppress the growth of leaf spot pathogens.        Cultural Control: Involves modifying the environment to make it less favorable for the development and spread of leaf spot. This can include practices such as crop rotation, planting resistant varieties, and sanitation. For example, removing infected plant debris and avoiding overhead irrigation can help reduce the spread of leaf spot. Other cultural practices that can help prevent leaf spot infections include planting corn in well-drained soil, avoiding planting corn in fields with a history of leaf spot infections and providing proper nutrition and avoiding over-fertilization, which can increase susceptibility to leaf spot.    \"}, {'Crop': 'Corn', 'Scientific': 'Zea mays', 'Stress': 'Powdery Mildew', 'Description': 'Powdery mildew is another common fungal disease that can affect corn plants. The disease is caused by the fungus Erysiphe orontii and appears as a white, powdery coating on the leaves, stalks, and tassels of the plant.        The powdery mildew fungus thrives in warm, humid conditions, and can spread rapidly if left unchecked. In addition to reducing yield, powdery mildew can also lead to premature plant death and susceptibility to other diseases.    ', 'Solutions': \"To control Powdery Mildew on corns, there are several methods that can be used, including chemical control, biological control, and cultural control.          Chemical Control: There are many fungicides available that can be used to control powdery mildew on corns, such as sulfur, triazoles, and strobilurins.      However, it's important to use these fungicides judiciously and follow the label instructions carefully to avoid harming non-target organisms and to minimize the environmental impact.          Biological Control: Biological control involves the use of natural enemies, such as beneficial microorganisms, to control powdery mildew.      One example of biological control is the use of biocontrol agents, such as Trichoderma spp. and Bacillus spp., which can colonize the plant's roots and leaves,      and produce antifungal compounds that suppress the growth of powdery mildew pathogens.          Cultural Control: Practices such as crop rotation, planting resistant varieties, and sanitation.      For example, removing infected plant debris and avoiding overhead irrigation can help reduce the spread of powdery mildew.      Other cultural practices that can help prevent powdery mildew infections include planting corn in well-drained soil, avoiding planting corn in fields with a history of powdery mildew infections,      and Providing proper nutrition and avoiding over-fertilization, which can increase susceptibility to powdery mildew.    \"}, {'Crop': 'Corn', 'Scientific': 'Zea mays', 'Stress': 'Armyworm', 'Description': 'Armyworms are the larvae of certain species of moths that can cause significant damage to corn crops. They are named for their behavior of moving in large groups and devouring everything in their path, much like an army on the march.        Armyworms are typically about 1-2 inches in length and can be brown, gray, or green in color. They have distinct stripes on their bodies that run the length of their back and sides. Armyworms feed on the leaves, stalks, and ears of corn plants, causing damage that can range from minor to severe.    ', 'Solutions': \"To control Armyworm on corns, there are several methods that can be used, including chemical control, biological control, and cultural control.         Chemical Control: There are many insecticides available that can be used to control armyworms on corns, such as pyrethroids, carbamates, and organophosphates.     However, it's important to use these insecticides judiciously and follow the label instructions carefully to avoid harming non-target organisms and to minimize the environmental impact.        Biological Control: One example of biological control is the use of parasitic wasps or flies that lay their eggs in the armyworm's eggs or larvae, causing their death. Another example is the use of insect-killing fungi, such as Beauveria bassiana, which can infect and kill armyworms.        Cultural Control: Cultural control involves modifying the environment to make it less favorable for the development and spread of armyworms. This can include practices such as crop rotation, planting resistant varieties, and sanitation.     For example, removing crop residues and weeds from the field can help reduce the population of armyworms, planting corn early in the season to avoid peak armyworm activity.        \"}, {'Crop': 'Corn', 'Scientific': 'Zea mays', 'Stress': 'Leaf Miner', 'Description': 'Leaf miners are small insects that can cause damage to corn plants by feeding on the leaves. They are typically the larvae of small, black and yellow flies known as Agromyzidae.        The adult leaf miner flies lay eggs on the underside of corn leaves, and when the eggs hatch, the larvae burrow into the leaf tissue and feed on the plant\\'s sap. This feeding creates characteristic white or yellowish \"mines\" or tunnels within the leaves, which can lead to discoloration and a decrease in plant health and vigor.        The damage caused by leaf miners on corn is typically not severe, but it can weaken the plant and make it more susceptible to other pests and diseases. In addition, heavy infestations of leaf miners can reduce the plant\\'s ability to photosynthesize and produce energy, which can ultimately impact yield.    ', 'Solutions': \"To control Leaf Miner on corns, there are several methods that can be used, including chemical control, biological control, and cultural control.          Chemical Control: Chemical control involves the use of insecticides to prevent or treat leaf miner infestations. There are many insecticides available that can be used to control leaf miners on corns, such as pyrethroids, carbamates, and organophosphates. However, it's important to use these insecticides judiciously and follow the label instructions carefully to avoid harming non-target organisms and to minimize the environmental impact.          Biological Control: One example of biological control is the use of parasitic wasps or flies that lay their eggs in the leaf miner larvae, causing their death. Another example is the use of insect-killing fungi, such as Beauveria bassiana, which can infect and kill leaf miners.          Cultural Control: Cultural control involves implementing farming practices that discourage pest infestations. Some cultural practices that can help control leaf miner on corns include planting corn in different fields each year to reduce pest build-up, early planting can help avoid peak leaf miner populations, regular weeding which helps to remove alternative host plants and reduce leaf miner populations.    \"}, {'Crop': 'Corn', 'Scientific': 'Zea mays', 'Stress': ' Corn Borer', 'Description': 'Corn borers are a common pest that can cause significant damage to corn crops. They are the larvae of moths that lay their eggs on the leaves of corn plants. When the eggs hatch, the larvae burrow into the stalks or ears of the corn plant and feed on the tissue inside.    Corn borer damage can cause the plant to become stunted and weakened, and it can also make the plant more susceptible to other pests and diseases. The damage can also lead to yield losses if left unchecked.    ', 'Solutions': 'To control Corn Borer on corns, there are several methods that can be used, including chemical control, biological control, and cultural control.         Chemical Control: There are several insecticides that are effective against corn borers, including chlorpyrifos, bifenthrin, and cypermethrin. It is important to follow the label instructions carefully and apply insecticides when corn borers are in their most susceptible stages.        Biological Control: One such natural enemy is the Trichogramma wasp, which lays its eggs in the eggs of corn borers, preventing them from hatching. Another natural enemy is the Bacillus thuringiensis (Bt) bacterium, which produces a toxin that is lethal to corn borers.        Cultural Control: Cultural control involves using practices that make the environment less favorable for corn borers. Some strategies include choosing corn hybrids that have been bred for resistance to corn borers can reduce the need for chemical or biological control, planting corn early or late in the season can reduce the risk of corn borer infestations, and plowing or disking the soil can disrupt corn borer overwintering sites and reduce populations.    '}, {'Crop': 'Corn', 'Scientific': 'Zea mays', 'Stress': 'Eye Spot', 'Description': 'Eye spot is a fungal disease that can affect corn plants. It is caused by the fungus Aureobasidium zeae and can cause significant damage to the leaves and stalks of the plant.        Eye spot appears as small, circular lesions on the corn leaves. These lesions can range in color from tan to reddish-brown and are surrounded by a yellowish halo. As the disease progresses, the lesions can coalesce and cause the leaf tissue to die and turn brown. In severe cases, the disease can also infect the stalks of the corn plant, causing lodging and yield losses.    ', 'Solutions': 'To control Eye spot on corns, there are several methods that can be used, including chemical control, biological control, and cultural control.          Chemical Control: Fungicides such as azoxystrobin, pyraclostrobin, and propiconazole are effective against eye spot. It is important to follow the label instructions carefully and apply fungicides when eye spot is first detected or when conditions are favorable for disease development.          Biological Control: One such natural enemy is the Trichoderma fungus, which is known to colonize the roots of corn plants and suppress eye spot. Other beneficial microorganisms such as mycorrhizae and rhizobacteria can also help reduce eye spot infections.          Cultural Control: Cultural control involves using practices that make the environment less favorable for corn borers. Some strategies include planting a non-host crop, such as soybeans, in between corn crops can reduce eye spot populations, planting corn varieties that are resistant to eye spot can reduce the need for chemical or biological control, and plowing or disking the soil can help bury infected corn debris and reduce the risk of eye spot infections.    '}, {'Crop': 'Corn', 'Scientific': 'Zea mays', 'Stress': 'White Flies', 'Description': 'Whiteflies are small, winged insects that can cause damage to corn crops by feeding on the sap of the plant. They are typically found on the underside of the leaves and can be identified by their white or yellow color and small size.        Whiteflies can cause damage to corn plants by feeding on the sap, which can cause yellowing of the leaves, stunted growth, and decreased yield. They can also transmit viruses to the plant, which can further reduce its health and vigor.    ', 'Solutions': 'To control White Flies on corns, there are several methods that can be used, including chemical control, biological control, and cultural control.          Chemical Control: Insecticides such as pyrethroids, neonicotinoids, and organophosphates are effective against whiteflies. It is important to follow the label instructions carefully and apply insecticides when whitefly populations are in their most susceptible stages.          Biological Control: One such natural enemy is the parasitic wasp Encarsia formosa, which lays its eggs inside whitefly nymphs, killing them. Other beneficial insects such as ladybugs and lacewings can also help reduce whitefly populations.          Cultural Control: Cultural control involves using practices that make the environment less favorable for whiteflies. Some strategies include Removing infected plant material wherein whiteflies can reproduce on infected plant material, so it is important to remove infected plants as soon as possible. Using reflective mulch can make it more difficult for whiteflies to locate plants to infest, planting flowers or other plants that attract beneficial insects can help reduce whitefly populations, and using row covers can physically exclude whiteflies from corn plants.    '}, {'Crop': 'Corn', 'Scientific': 'Zea mays', 'Stress': 'Corn borer midrib feeding', 'Description': 'Corn borer midrib feeding is a type of damage caused by the larvae of the corn borer moth that feed on the midrib of corn leaves. The midrib is the central vein that runs through the center of the leaf.        When corn borer larvae feed on the midrib of corn leaves, they can cause significant damage to the plant. The feeding can cause the leaves to wilt and curl, and it can also make the plant more susceptible to other pests and diseases.        The larvae of the corn borer moth are usually about 1 inch long and can be light pink or greenish-white in color. They can be found feeding on the midrib and inside the stalks or ears of the corn plant.    ', 'Solutions': ' To control Corn borer midrib feeding on corns, there are several methods that can be used, including chemical control, biological control, and cultural control.          Chemical Control: There are several insecticides that are effective against corn borer midrib feeding, including chlorpyrifos, bifenthrin, and cypermethrin. It is important to follow the label instructions carefully and apply insecticides when corn borer midrib feeding is in its most susceptible stage.          Biological Control: One such natural enemy is the Trichogramma wasp, which lays its eggs in the eggs of corn borers, preventing them from hatching. Another natural enemy is the Bacillus thuringiensis (Bt) bacterium, which produces a toxin that is lethal to corn borers.          Cultural Control: Cultural control involves using practices that make the environment less favorable for corn borer midrib feeding. Some strategies include plowing or disking the soil can disrupt corn borer midrib feeding overwintering sites and reduce populations, planting corn early or late in the season can reduce the risk of corn borer midrib feeding infestations, and choosing corn hybrids that have been bred for resistance to corn borer midrib feeding can reduce the need for chemical or biological control.    '}]\n"
     ]
    }
   ],
   "source": [
    "print(corn_data.stress_dict)"
   ]
  },
  {
   "cell_type": "code",
   "execution_count": 4,
   "metadata": {},
   "outputs": [],
   "source": [
    "stress_list = []\n",
    "stress_list.extend(corn_data.stress_dict)\n",
    "stress_list.extend(eggplant_data.stress_dict)\n",
    "stress_list.extend(onion_data.stress_dict)\n",
    "stress_list.extend(tomato_data.stress_dict)"
   ]
  },
  {
   "cell_type": "code",
   "execution_count": 7,
   "metadata": {},
   "outputs": [
    {
     "name": "stdout",
     "output_type": "stream",
     "text": [
      "        Crop            Scientific                     Stress  \\\n",
      "0       Corn              Zea mays                  Leaf Spot   \n",
      "1       Corn              Zea mays             Powdery Mildew   \n",
      "2       Corn              Zea mays                   Armyworm   \n",
      "3       Corn              Zea mays                 Leaf Miner   \n",
      "4       Corn              Zea mays                 Corn Borer   \n",
      "5       Corn              Zea mays                   Eye Spot   \n",
      "6       Corn              Zea mays                White Flies   \n",
      "7       Corn              Zea mays  Corn borer midrib feeding   \n",
      "8   Eggplant     Solanum melongena       Cercospora leaf spot   \n",
      "9   Eggplant     Solanum melongena             Powdery Mildew   \n",
      "10  Eggplant     Solanum melongena                   Armyworm   \n",
      "11  Eggplant     Solanum melongena                 Leaf Miner   \n",
      "12  Eggplant     Solanum melongena                     Aphids   \n",
      "13  Eggplant     Solanum melongena                Flea beetle   \n",
      "14  Eggplant     Solanum melongena                White Flies   \n",
      "15  Eggplant     Solanum melongena              Potato Beetle   \n",
      "16  Eggplant     Solanum melongena           Leaf roller moth   \n",
      "17     Onion           Allium cepa       Botrytis leaf blight   \n",
      "18     Onion           Allium cepa               Downy Mildew   \n",
      "19     Onion           Allium cepa                   Armyworm   \n",
      "20     Onion           Allium cepa                 Leaf Miner   \n",
      "21    Tomato  Solanum lycopersicum             Powdery Mildew   \n",
      "22    Tomato  Solanum lycopersicum                 Black Mold   \n",
      "23    Tomato  Solanum lycopersicum              Fusarium Wilt   \n",
      "24    Tomato  Solanum lycopersicum                 Leaf Miner   \n",
      "\n",
      "                                          Description  \\\n",
      "0   Leaf spot is a common disease that affects cor...   \n",
      "1   Powdery mildew is another common fungal diseas...   \n",
      "2   Armyworms are the larvae of certain species of...   \n",
      "3   Leaf miners are small insects that can cause d...   \n",
      "4   Corn borers are a common pest that can cause s...   \n",
      "5   Eye spot is a fungal disease that can affect c...   \n",
      "6   Whiteflies are small, winged insects that can ...   \n",
      "7   Corn borer midrib feeding is a type of damage ...   \n",
      "8   Cercospora leaf spot is a fungal disease that ...   \n",
      "9   Powdery mildew is a fungal disease that affect...   \n",
      "10  Armyworms are the larvae of certain species of...   \n",
      "11  Leaf miners are the larvae of certain fly spec...   \n",
      "12  Aphids are small, soft-bodied insects that can...   \n",
      "13  Flea beetles are small, jumping insects that c...   \n",
      "14  Whiteflies are small, sap-sucking insects that...   \n",
      "15  Potato beetles, also known as Colorado potato ...   \n",
      "16  Leaf roller moth is a common pest that feeds o...   \n",
      "17  Botrytis leaf blight -  sometimes also referre...   \n",
      "18  Downy Mildew - At the field level, symptoms of...   \n",
      "19  Armyworm -  is an early season pest that attac...   \n",
      "20      Leafminer - Adults have yellow heads, knee...   \n",
      "21  Powdery mildew is a common fungal disease that...   \n",
      "22  Black mold on tomato plants is typically cause...   \n",
      "23  Fusarium wilt is a common fungal disease that ...   \n",
      "24  Leaf miner is a common pest that affects tomat...   \n",
      "\n",
      "                                            Solutions  \n",
      "0   To control leaf spot on corns, there are sever...  \n",
      "1   To control Powdery Mildew on corns, there are ...  \n",
      "2   To control Armyworm on corns, there are severa...  \n",
      "3   To control Leaf Miner on corns, there are seve...  \n",
      "4   To control Corn Borer on corns, there are seve...  \n",
      "5   To control Eye spot on corns, there are severa...  \n",
      "6   To control White Flies on corns, there are sev...  \n",
      "7    To control Corn borer midrib feeding on corns...  \n",
      "8   There are several control methods available fo...  \n",
      "9   There are several control methods available fo...  \n",
      "10  There are several control methods available fo...  \n",
      "11  There are several control methods available fo...  \n",
      "12  There are several control methods available fo...  \n",
      "13  There are several control methods available fo...  \n",
      "14  There are several control methods available fo...  \n",
      "15  There are several control methods available fo...  \n",
      "16  There are several control methods available fo...  \n",
      "17  There are several control methods available fo...  \n",
      "18  There are several control methods available fo...  \n",
      "19  There are several control methods available fo...  \n",
      "20  There are several control methods available fo...  \n",
      "21  To control Powdery Mildew on corns, there are ...  \n",
      "22  To control Black Mold on corns, there are seve...  \n",
      "23  To control Fusarium Wilt on corns, there are s...  \n",
      "24  To control Leaf Miner on corns, there are seve...  \n"
     ]
    }
   ],
   "source": [
    "stress_df = pd.DataFrame(stress_list)\n",
    "print(stress_df)"
   ]
  },
  {
   "cell_type": "code",
   "execution_count": 8,
   "metadata": {},
   "outputs": [],
   "source": [
    "folder_dir = \"F:/College/4thYear/PD1/SaganaApp/csv\""
   ]
  },
  {
   "cell_type": "code",
   "execution_count": 11,
   "metadata": {},
   "outputs": [],
   "source": [
    "stress_df.to_csv(f'{folder_dir}/stress_details.csv', index=False)"
   ]
  },
  {
   "cell_type": "code",
   "execution_count": 12,
   "metadata": {},
   "outputs": [],
   "source": [
    "stress_details_df = pd.read_csv(\n",
    "    f\"{folder_dir}/stress_details.csv\", header=0, names=None)\n",
    "stress_details = stress_details_df.to_dict(orient=\"records\")"
   ]
  },
  {
   "cell_type": "code",
   "execution_count": 13,
   "metadata": {},
   "outputs": [
    {
     "name": "stdout",
     "output_type": "stream",
     "text": [
      "[{'Crop': 'Corn', 'Scientific': 'Zea mays', 'Stress': 'Leaf Spot', 'Description': 'Leaf spot is a common disease that affects corn plants. It is caused by several different fungal pathogens, including Helminthosporium spp., Cercospora spp., and Bipolaris spp.     Symptoms of leaf spot typically appear as small, circular lesions on the leaves, which can be surrounded by a yellow halo.        If left untreated, leaf spot can cause significant damage to corn plants, reducing yield and overall plant health.     To manage leaf spot, it is important to implement a combination of cultural and chemical control measures.    ', 'Solutions': \"To control leaf spot on corns, there are several methods that can be used, including chemical control, biological control, and cultural control. \\n\\nChemical Control: There are numerous fungicides available for control of Gray leaf spot.      However, there is no guarantee that fungicide applications will result in economic returns, especially if they are applied to highly resistant hybrids in fields with little disease.  For this reason it is important to scout fields for symptoms of Gray leaf spot and apply fungicides only when they are needed.  Scouts should pay particular attention to the lower three leaves of the corn plant from the period just before tasseling to two weeks after tasseling.  If at least 50% of plants in a field have disease present on the third leaf below the ear leaf or higher prior to tasseling, the hybrid is susceptible, and the conditions are favorable for disease, then a spray may be warranted.  Gray leaf spot severity is unpredictable and multiple factors should be considered when making the decision to use fungicides to control Gray leaf spot.  Always follow label directions when applying a fungicide.        \\n\\nBiological Control: Involves the use of natural enemies, such as beneficial microorganisms, to control leaf spot. One example of biological control is the use of biocontrol agents, such as Trichoderma spp., Bacillus spp., or Pseudomonas spp., which can colonize the plant's roots and leaves, and produce antifungal compounds that suppress the growth of leaf spot pathogens.       \\n\\nCultural Control: Involves modifying the environment to make it less favorable for the development and spread of leaf spot. This can include practices such as crop rotation, planting resistant varieties, and sanitation. For example, removing infected plant debris and avoiding overhead irrigation can help reduce the spread of leaf spot. Other cultural practices that can help prevent leaf spot infections include planting corn in well-drained soil, avoiding planting corn in fields with a history of leaf spot infections and providing proper nutrition and avoiding over-fertilization, which can increase susceptibility to leaf spot.    \"}, {'Crop': 'Corn', 'Scientific': 'Zea mays', 'Stress': 'Powdery Mildew', 'Description': 'Powdery mildew is another common fungal disease that can affect corn plants. The disease is caused by the fungus Erysiphe orontii and appears as a white, powdery coating on the leaves, stalks, and tassels of the plant.        The powdery mildew fungus thrives in warm, humid conditions, and can spread rapidly if left unchecked. In addition to reducing yield, powdery mildew can also lead to premature plant death and susceptibility to other diseases.    ', 'Solutions': \"To control Powdery Mildew on corns, there are several methods that can be used, including chemical control, biological control, and cultural control.          Chemical Control: There are many fungicides available that can be used to control powdery mildew on corns, such as sulfur, triazoles, and strobilurins.      However, it's important to use these fungicides judiciously and follow the label instructions carefully to avoid harming non-target organisms and to minimize the environmental impact.          Biological Control: Biological control involves the use of natural enemies, such as beneficial microorganisms, to control powdery mildew.      One example of biological control is the use of biocontrol agents, such as Trichoderma spp. and Bacillus spp., which can colonize the plant's roots and leaves,      and produce antifungal compounds that suppress the growth of powdery mildew pathogens.          Cultural Control: Practices such as crop rotation, planting resistant varieties, and sanitation.      For example, removing infected plant debris and avoiding overhead irrigation can help reduce the spread of powdery mildew.      Other cultural practices that can help prevent powdery mildew infections include planting corn in well-drained soil, avoiding planting corn in fields with a history of powdery mildew infections,      and Providing proper nutrition and avoiding over-fertilization, which can increase susceptibility to powdery mildew.    \"}, {'Crop': 'Corn', 'Scientific': 'Zea mays', 'Stress': 'Armyworm', 'Description': 'Armyworms are the larvae of certain species of moths that can cause significant damage to corn crops. They are named for their behavior of moving in large groups and devouring everything in their path, much like an army on the march.        Armyworms are typically about 1-2 inches in length and can be brown, gray, or green in color. They have distinct stripes on their bodies that run the length of their back and sides. Armyworms feed on the leaves, stalks, and ears of corn plants, causing damage that can range from minor to severe.    ', 'Solutions': \"To control Armyworm on corns, there are several methods that can be used, including chemical control, biological control, and cultural control.        \\n\\nChemical Control: There are many insecticides available that can be used to control armyworms on corns, such as pyrethroids, carbamates, and organophosphates.     However, it's important to use these insecticides judiciously and follow the label instructions carefully to avoid harming non-target organisms and to minimize the environmental impact.        \\n\\nBiological Control: One example of biological control is the use of parasitic wasps or flies that lay their eggs in the armyworm's eggs or larvae, causing their death. Another example is the use of insect-killing fungi, such as Beauveria bassiana, which can infect and kill armyworms.        \\n\\nCultural Control: Cultural control involves modifying the environment to make it less favorable for the development and spread of armyworms. This can include practices such as crop rotation, planting resistant varieties, and sanitation.     For example, removing crop residues and weeds from the field can help reduce the population of armyworms, planting corn early in the season to avoid peak armyworm activity.        \"}, {'Crop': 'Corn', 'Scientific': 'Zea mays', 'Stress': 'Leaf Miner', 'Description': 'Leaf miners are small insects that can cause damage to corn plants by feeding on the leaves. They are typically the larvae of small, black and yellow flies known as Agromyzidae.        The adult leaf miner flies lay eggs on the underside of corn leaves, and when the eggs hatch, the larvae burrow into the leaf tissue and feed on the plant\\'s sap. This feeding creates characteristic white or yellowish \"mines\" or tunnels within the leaves, which can lead to discoloration and a decrease in plant health and vigor.        The damage caused by leaf miners on corn is typically not severe, but it can weaken the plant and make it more susceptible to other pests and diseases. In addition, heavy infestations of leaf miners can reduce the plant\\'s ability to photosynthesize and produce energy, which can ultimately impact yield.    ', 'Solutions': \"To control Leaf Miner on corns, there are several methods that can be used, including chemical control, biological control, and cultural control.          \\n\\nChemical Control: Chemical control involves the use of insecticides to prevent or treat leaf miner infestations. There are many insecticides available that can be used to control leaf miners on corns, such as pyrethroids, carbamates, and organophosphates. However, it's important to use these insecticides judiciously and follow the label instructions carefully to avoid harming non-target organisms and to minimize the environmental impact.          \\n\\nBiological Control: One example of biological control is the use of parasitic wasps or flies that lay their eggs in the leaf miner larvae, causing their death. Another example is the use of insect-killing fungi, such as Beauveria bassiana, which can infect and kill leaf miners.          \\n\\nCultural Control: Cultural control involves implementing farming practices that discourage pest infestations. Some cultural practices that can help control leaf miner on corns include planting corn in different fields each year to reduce pest build-up, early planting can help avoid peak leaf miner populations, regular weeding which helps to remove alternative host plants and reduce leaf miner populations.    \"}, {'Crop': 'Corn', 'Scientific': 'Zea mays', 'Stress': ' Corn Borer', 'Description': 'Corn borers are a common pest that can cause significant damage to corn crops. They are the larvae of moths that lay their eggs on the leaves of corn plants. When the eggs hatch, the larvae burrow into the stalks or ears of the corn plant and feed on the tissue inside.    Corn borer damage can cause the plant to become stunted and weakened, and it can also make the plant more susceptible to other pests and diseases. The damage can also lead to yield losses if left unchecked.    ', 'Solutions': 'To control Corn Borer on corns, there are several methods that can be used, including chemical control, biological control, and cultural control.         \\n\\nChemical Control: There are several insecticides that are effective against corn borers, including chlorpyrifos, bifenthrin, and cypermethrin. It is important to follow the label instructions carefully and apply insecticides when corn borers are in their most susceptible stages.        \\n\\nBiological Control: One such natural enemy is the Trichogramma wasp, which lays its eggs in the eggs of corn borers, preventing them from hatching. Another natural enemy is the Bacillus thuringiensis (Bt) bacterium, which produces a toxin that is lethal to corn borers.        \\n\\nCultural Control: Cultural control involves using practices that make the environment less favorable for corn borers. Some strategies include choosing corn hybrids that have been bred for resistance to corn borers can reduce the need for chemical or biological control, planting corn early or late in the season can reduce the risk of corn borer infestations, and plowing or disking the soil can disrupt corn borer overwintering sites and reduce populations.    '}, {'Crop': 'Corn', 'Scientific': 'Zea mays', 'Stress': 'Eye Spot', 'Description': 'Eye spot is a fungal disease that can affect corn plants. It is caused by the fungus Aureobasidium zeae and can cause significant damage to the leaves and stalks of the plant.        Eye spot appears as small, circular lesions on the corn leaves. These lesions can range in color from tan to reddish-brown and are surrounded by a yellowish halo. As the disease progresses, the lesions can coalesce and cause the leaf tissue to die and turn brown. In severe cases, the disease can also infect the stalks of the corn plant, causing lodging and yield losses.    ', 'Solutions': 'To control Eye spot on corns, there are several methods that can be used, including chemical control, biological control, and cultural control.          \\n\\nChemical Control: Fungicides such as azoxystrobin, pyraclostrobin, and propiconazole are effective against eye spot. It is important to follow the label instructions carefully and apply fungicides when eye spot is first detected or when conditions are favorable for disease development.          \\n\\nBiological Control: One such natural enemy is the Trichoderma fungus, which is known to colonize the roots of corn plants and suppress eye spot. Other beneficial microorganisms such as mycorrhizae and rhizobacteria can also help reduce eye spot infections.          \\n\\nCultural Control: Cultural control involves using practices that make the environment less favorable for corn borers. Some strategies include planting a non-host crop, such as soybeans, in between corn crops can reduce eye spot populations, planting corn varieties that are resistant to eye spot can reduce the need for chemical or biological control, and plowing or disking the soil can help bury infected corn debris and reduce the risk of eye spot infections.    '}, {'Crop': 'Corn', 'Scientific': 'Zea mays', 'Stress': 'White Flies', 'Description': 'Whiteflies are small, winged insects that can cause damage to corn crops by feeding on the sap of the plant. They are typically found on the underside of the leaves and can be identified by their white or yellow color and small size.        Whiteflies can cause damage to corn plants by feeding on the sap, which can cause yellowing of the leaves, stunted growth, and decreased yield. They can also transmit viruses to the plant, which can further reduce its health and vigor.    ', 'Solutions': 'To control White Flies on corns, there are several methods that can be used, including chemical control, biological control, and cultural control.          \\n\\nChemical Control: Insecticides such as pyrethroids, neonicotinoids, and organophosphates are effective against whiteflies. It is important to follow the label instructions carefully and apply insecticides when whitefly populations are in their most susceptible stages.          \\n\\nBiological Control: One such natural enemy is the parasitic wasp Encarsia formosa, which lays its eggs inside whitefly nymphs, killing them. Other beneficial insects such as ladybugs and lacewings can also help reduce whitefly populations.          \\n\\nCultural Control: Cultural control involves using practices that make the environment less favorable for whiteflies. Some strategies include Removing infected plant material wherein whiteflies can reproduce on infected plant material, so it is important to remove infected plants as soon as possible. Using reflective mulch can make it more difficult for whiteflies to locate plants to infest, planting flowers or other plants that attract beneficial insects can help reduce whitefly populations, and using row covers can physically exclude whiteflies from corn plants.    '}, {'Crop': 'Corn', 'Scientific': 'Zea mays', 'Stress': 'Corn borer midrib feeding', 'Description': 'Corn borer midrib feeding is a type of damage caused by the larvae of the corn borer moth that feed on the midrib of corn leaves. The midrib is the central vein that runs through the center of the leaf.        When corn borer larvae feed on the midrib of corn leaves, they can cause significant damage to the plant. The feeding can cause the leaves to wilt and curl, and it can also make the plant more susceptible to other pests and diseases.        The larvae of the corn borer moth are usually about 1 inch long and can be light pink or greenish-white in color. They can be found feeding on the midrib and inside the stalks or ears of the corn plant.    ', 'Solutions': ' To control Corn borer midrib feeding on corns, there are several methods that can be used, including chemical control, biological control, and cultural control.          \\n\\nChemical Control: There are several insecticides that are effective against corn borer midrib feeding, including chlorpyrifos, bifenthrin, and cypermethrin. It is important to follow the label instructions carefully and apply insecticides when corn borer midrib feeding is in its most susceptible stage.          \\n\\nBiological Control: One such natural enemy is the Trichogramma wasp, which lays its eggs in the eggs of corn borers, preventing them from hatching. Another natural enemy is the Bacillus thuringiensis (Bt) bacterium, which produces a toxin that is lethal to corn borers.          \\n\\nCultural Control: Cultural control involves using practices that make the environment less favorable for corn borer midrib feeding. Some strategies include plowing or disking the soil can disrupt corn borer midrib feeding overwintering sites and reduce populations, planting corn early or late in the season can reduce the risk of corn borer midrib feeding infestations, and choosing corn hybrids that have been bred for resistance to corn borer midrib feeding can reduce the need for chemical or biological control.    '}, {'Crop': 'Eggplant', 'Scientific': 'Solanum melongena', 'Stress': 'Cercospora leaf spot', 'Description': 'Cercospora leaf spot is a fungal disease that affects eggplants, causing brown or grayish lesions on the leaves.     These lesions may have a yellow halo around them and can eventually cause the leaves to fall off.', 'Solutions': 'There are several control methods available for managing Cercospora leaf spot on eggplants, including chemical, biological, and cultural control.        \\n\\nChemical Control: The use of fungicides is recommended to control the disease.     The most effective fungicides for controlling Cercospora leaf spot on eggplants include chlorothalonil, copper-based fungicides, and azoxystrobin.     These fungicides should be applied according to label instructions and at regular intervals to ensure effective control.        \\n\\nBiological Control: The use of beneficial microorganisms such as Trichoderma harzianum and Bacillus subtilis has been found to be effective in controlling the disease.     These beneficial microorganisms work by competing with the fungal pathogen for nutrients, and also by producing antifungal compounds that inhibit its growth.        \\n\\nCultural Control: Avoid planting eggplants in the same field for consecutive seasons.     Proper plant spacing can reduce the incidence of the disease by increasing air circulation.     Remove and destroy infected plant debris to reduce the disease inoculum.     Avoid overhead irrigation as it can increase the humidity in the field, which favors disease development.     Proper fertilization can help keep the plants healthy and better able to resist the disease.    '}, {'Crop': 'Eggplant', 'Scientific': 'Solanum melongena', 'Stress': 'Powdery Mildew', 'Description': 'Powdery mildew is a fungal disease that affects a wide range of plants, including eggplants.     It appears as a white or grayish powdery coating on the leaves, stems, and sometimes flowers of plants.     As the disease progresses, the coating can become thicker, causing the plant to appear whitewashed.     In severe cases, the leaves can turn yellow, brown, or even black, and the affected parts of the plant may become distorted or stunted.     Powdery mildew thrives in warm, humid environments, and can spread rapidly under these conditions.', 'Solutions': 'There are several control methods available for managing powdery mildew on onions, including chemical, biological, and cultural control.        \\n\\nChemical Control: The use of fungicides is recommended to control the disease.     The most effective fungicides for controlling powdery mildew on eggplants include sulfur, azoxystrobin, and trifloxystrobin.     These fungicides should be applied according to label instructions and at regular intervals to ensure effective control.        \\n\\nBiological Control:Natural enemies of powdery mildew, such as predatory mites, can be used to control its spread.     These natural enemies can be introduced into the eggplant field, either by releasing them or by creating habitats that encourage their presence.     Additionally, several fungal species can be used to control powdery mildew. These fungi infect the powdery mildew and eventually kill it.        \\n\\nCultural Control: Avoid overhead irrigation as it can increase the humidity in the field, which favors disease development.     Proper plant spacing can reduce the incidence of the disease by increasing air circulation.     Ensure that the soil pH is maintained between 6.0 and 7.0, as this can help reduce the incidence of the disease.     Proper fertilization can help keep the plants healthy and better able to resist the disease.     Avoid planting eggplants in the same field for consecutive seasons.    '}, {'Crop': 'Eggplant', 'Scientific': 'Solanum melongena', 'Stress': 'Armyworm', 'Description': 'Armyworms are the larvae of certain species of moths that can cause significant damage to eggplants and other crops.     These larvae are usually green, brown, or black in color, with distinct stripes along their body.     They are called \"armyworms\" because they move in large groups, devouring plants as they go.     The larvae can grow up to two inches long and can consume large amounts of foliage, causing defoliation and stunting of the plants.    Armyworms are most active during the night and can be difficult to spot during the day.     Early signs of armyworm infestation on eggplants include chewed leaves, holes in leaves, and stripped stems.     If left unchecked, the armyworms can quickly defoliate entire plants and spread to neighboring crops. ', 'Solutions': 'There are several control methods available for managing Armyworm spot on eggplants, including chemical, biological, and cultural control.       \\n\\nChemical Control: Some common pesticides used to control armyworms in eggplants include carbaryl, malathion, and permethrin.     It is important to follow the instructions on the label and use the appropriate protective equipment while applying the pesticide.     It is also important to use pesticides responsibly and only when necessary, as overuse of pesticides can harm the environment and non-target organisms.        \\n\\nBiological Control: Some natural enemies of armyworms include parasitic wasps, predatory beetles, and birds.     One effective biological control method for armyworms is releasing trichogramma wasps, which lay their eggs inside armyworm eggs, preventing them from hatching.     Another method is releasing nematodes, which infect and kill the armyworms. This method is safe for the environment and does not harm other beneficial insects.        \\n\\nCultural Control: Involves modifying the environment to reduce the population of armyworms.     One method is to remove and destroy any plant debris, as this can provide a breeding ground for armyworms.     Another method is to practice crop rotation, as armyworms prefer to feed on certain plants and may not survive if their preferred host is not present.     Additionally, planting resistant varieties of eggplants can also help control armyworms.'}, {'Crop': 'Eggplant', 'Scientific': 'Solanum melongena', 'Stress': 'Leaf Miner', 'Description': 'Leaf miners are the larvae of certain fly species that feed on the leaf tissue of eggplants and other plants.     They create winding tunnels or \"mines\" that appear as white or brownish lines on the leaves, and can cause significant damage to the plant\\'s ability to photosynthesize.     Leaf miner damage can result in wilting, stunting, and decreased crop yield.        Leaf miners are difficult to control once they have become established, as the larvae are protected within the leaf tissue. Early detection is key to preventing their spread.     Signs of leaf miner infestation on eggplants include the appearance of winding tunnels on the leaves, and small black flies hovering around the plants.', 'Solutions': 'There are several control methods available for managing Leaf Miner on eggplants, including chemical, biological, and cultural control.    \\n\\nChemical Control: Some common pesticides used to control leaf miners in eggplants include spinosad, neem oil, and pyrethroids.     It is important to follow the instructions on the label and use the appropriate protective equipment while applying the pesticide.     However, repeated use of pesticides can lead to the development of resistance in leaf miners and can also harm beneficial insects, such as bees and other pollinators.        \\n\\nBiological Control: Natural enemies of leaf miners include parasitic wasps, predatory beetles, and spiders.     One effective biological control method for leaf miners is releasing parasitic wasps that lay their eggs inside the leaf miner larvae, killing them.     Another method is releasing predatory mites, which feed on the leaf miner eggs and larvae. This method is safe for the environment and does not harm other beneficial insects.        \\n\\nCultural Control: One method is to remove and destroy any infested leaves, as this can reduce the number of leaf miners.     Another method is to use row covers to prevent adult leaf miners from laying eggs on the plants. Additionally, planting resistant varieties of eggplants can also help control leaf miners.    '}, {'Crop': 'Eggplant', 'Scientific': 'Solanum melongena', 'Stress': 'Aphids', 'Description': 'Aphids are small, soft-bodied insects that can infest eggplants and other plants, feeding on the sap of the plant.     They are typically green, yellow, or black in color and have pear-shaped bodies with long antennae.     Aphids can reproduce rapidly and in large numbers, causing damage to plants by sucking the sap and excreting honeydew, which can attract ants and lead to the growth of black sooty mold.        Signs of aphid infestation on eggplants include the presence of the insects themselves, distorted or curled leaves, and the appearance of honeydew or sooty mold on the leaves.     Aphids can also transmit viral diseases to plants, further reducing their health and yield.', 'Solutions': 'There are several control methods available for managing Aphids on eggplants, including chemical, biological, and cultural control.    Chemical Control: Some common pesticides used to control aphids in eggplants include insecticidal soaps, neem oil, and pyrethroids.     It is important to follow the instructions on the label and use the appropriate protective equipment while applying the pesticide. However, repeated use of pesticides can lead to the development of resistance in aphids and can also harm beneficial insects, such as bees and other pollinators.        Biological Control: Some natural enemies of aphids include lady beetles, lacewings, and parasitic wasps. One effective biological control method for aphids is releasing lady beetles, which feed on the aphids and their eggs. Another method is releasing lacewings, which feed on both aphids and other pest insects. This method is safe for the environment and does not harm other beneficial insects.        Cultural Control: One method is to remove and destroy any infested leaves or plants, as this can reduce the number of aphids. Another method is to use reflective mulches, which can disorient aphids and prevent them from finding the plants. Additionally, planting companion plants, such as marigolds or garlic, can also help control aphids.    '}, {'Crop': 'Eggplant', 'Scientific': 'Solanum melongena', 'Stress': 'Flea beetle', 'Description': 'Flea beetles are small, jumping insects that can cause damage to eggplants and other plants by feeding on the leaves and stems.     They are typically black or brown in color and are named for their ability to jump like fleas when disturbed.     Flea beetles can cause significant damage to eggplants, especially when populations are high.        Signs of flea beetle damage on eggplants include small holes in the leaves, a \"shot hole\" appearance of the foliage, and wilting or stunted growth.     Flea beetles can also transmit bacterial wilt disease to eggplants, further reducing their health and yield.', 'Solutions': 'There are several control methods available for managing Flea beetle on eggplants, including chemical, biological, and cultural control.    \\n\\nChemical Control: Some common pesticides used to control flea beetles in eggplants include carbaryl, pyrethroids, and neonicotinoids. It is important to follow the instructions on the label and use the appropriate protective equipment while applying the pesticide. However, repeated use of pesticides can lead to the development of resistance in flea beetles and can also harm beneficial insects, such as bees and other pollinators.        \\n\\nBiological Control: Natural enemies of flea beetles include parasitic wasps and predatory insects like ladybugs. One effective biological control method for flea beetles is releasing beneficial nematodes in the soil. These microscopic worms will attack the larvae of the flea beetles, reducing their population.        \\n\\nCultural Control: One method is to use row covers to physically exclude the beetles from the plants. Another method is to plant eggplants earlier in the season, as flea beetles tend to be more active in late spring and early summer. Additionally, removing any weeds or debris around the plants can also help reduce the population of flea beetles.    '}, {'Crop': 'Eggplant', 'Scientific': 'Solanum melongena', 'Stress': 'White Flies', 'Description': \"Whiteflies are small, sap-sucking insects that can infest eggplants and other plants, causing damage to the foliage and reducing the plant's ability to photosynthesize.     They are named for their white, moth-like appearance and are typically found on the undersides of leaves.     Whiteflies can also excrete honeydew, which can lead to the growth of sooty mold on the leaves.        Signs of whitefly infestation on eggplants include the presence of the insects themselves, distorted or yellowed leaves, and the appearance of honeydew or sooty mold on the leaves.     Whiteflies can also transmit viral diseases to plants, further reducing their health and yield.\", 'Solutions': \"There are several control methods available for managing White Flies on eggplants, including chemical, biological, and cultural control.    \\n\\nChemical Control: Using chemical insecticides can help control whiteflies, but it's important to use them carefully and in accordance with the instructions on the label. Some insecticides that may be effective against whiteflies on eggplants include neonicotinoids, pyrethroids, and insecticidal soaps. Always follow the instructions on the label carefully and avoid spraying during the heat of the day, which can cause damage to the plants. Make sure to follow any recommended waiting periods before harvesting.       \\n\\nBiological Control: Using natural predators or parasites to control the whitefly population. Some examples of biological control agents that can be effective against whiteflies on eggplants include ladybugs, lacewings, and parasitic wasps. These can be purchased from garden supply stores or online and released onto your eggplants. Some companion plants such as marigolds or alyssum can also attract beneficial insects to the garden.        \\n\\nCultural Control: Remove weeds around your eggplants, which can harbor whiteflies. You can also try using row covers or netting to physically block whiteflies from accessing your plants. Regularly checking your plants for signs of infestation and removing any affected leaves can also help prevent the spread of whiteflies.    \"}, {'Crop': 'Eggplant', 'Scientific': 'Solanum melongena', 'Stress': 'Potato Beetle', 'Description': 'Potato beetles, also known as Colorado potato beetles, are a common pest of eggplants and other members of the nightshade family.     They are yellow and black striped and have a distinctive hard shell. Adult beetles and their larvae can cause significant damage to eggplant foliage, feeding on the leaves and stems of the plant.        Signs of potato beetle infestation on eggplants include the presence of the insects themselves, skeletonized leaves, and defoliation of the plant.     Potato beetles can also transmit viral diseases to plants, further reducing their health and yield.    ', 'Solutions': 'There are several control methods available for managing Potato Beetle on eggplants, including chemical, biological, and cultural control.    \\n\\nChemical Control: Insecticides that may be effective include pyrethroids, neonicotinoids, and spinosad. Always follow the instructions on the label carefully and avoid spraying during the heat of the day, which can cause damage to the plants. Make sure to follow any recommended waiting periods before harvesting.        \\n\\nBiological Control: Examples of biological control agents that can be effective against potato beetles on eggplants include ladybugs, lacewings, and parasitic wasps. These can be purchased from garden supply stores or online and released onto your eggplants. Some companion plants such as dill, cilantro, or parsley can attract beneficial insects to the garden.        \\n\\nCultural Control: Practice crop rotation and avoid planting eggplants in the same location each year. You can also try using row covers or netting to physically block potato beetles from accessing your plants. Regularly checking your plants for signs of infestation and removing any affected leaves can also help prevent the spread of potato beetles.    '}, {'Crop': 'Eggplant', 'Scientific': 'Solanum melongena', 'Stress': 'Leaf roller moth', 'Description': \"Leaf roller moth is a common pest that feeds on eggplants, causing significant damage to the plants.     The larvae of the moth feed on the leaves, creating characteristic tunnels or rolled-up leaves.     The damage caused by leaf roller moths can lead to reduced yields and poor plant growth.        To control leaf roller moths on eggplants, it's important to implement an integrated pest management (IPM) approach that combines different control methods.     This can include cultural control methods, such as crop rotation and sanitation, as well as biological control methods, such as the use of natural predators or parasites. Chemical control methods can also be used, but should be used judiciously to minimize the impact on non-target organisms and the environment.    \", 'Solutions': \"There are several control methods available for managing Leaf roller moth on eggplants, including chemical, biological, and cultural control.        \\n\\nChemical Control: There are many chemical insecticides available that can be used to control leaf roller moths, such as pyrethroids, neonicotinoids, and organophosphates. However, it's important to use these pesticides judiciously and follow the label instructions carefully to avoid harming non-target organisms and to minimize the environmental impact.        \\n\\nBiological Control: One example of biological control is the use of Trichogramma wasps, which lay their eggs in the eggs of the leaf roller moths, preventing them from hatching. Other natural predators, such as lacewings, ladybugs, and parasitic wasps, can also be used to control leaf roller moths.       \\n\\nCultural Control: Involves modifying the environment to make it less favorable for the development and survival of leaf roller moths. This can include practices such as crop rotation, weed control, and sanitation. For example, removing plant debris and fallen fruits from the field can help reduce the number of overwintering sites for the leaf roller moth.    \"}, {'Crop': 'Onion', 'Scientific': 'Allium cepa', 'Stress': 'Botrytis leaf blight', 'Description': 'Botrytis leaf blight -  sometimes also referred to as Botrytis leaf spot, occurs on onions.     White, sunken spots on leaves are usually the first sign of infection. Spots are small, oval-shaped, and range from 0.06 to 0.25 inch (0.5–6 mm) long.     They sometimes have a light-green halo and may appear water-soaked. The epidermis around the spots may be silvery.     When numerous spots are present, leaf tips die back, and whole leaves may eventually die.', 'Solutions': 'There are several control methods available for managing Botrytis leaf blight in onions, including chemical, biological, and cultural control.        \\n\\nChemical Control: Copper fungicides: Copper fungicides are a common chemical treatment option for Botrytis Blight.     They disrupt the fungal cell walls and prevent the fungus from growing.Regular Pesticides:     Many effective pesticides against other fungi can also help control Botrytis Blight.    Chlorothalonil: Chlorothalonil is a broad-spectrum fungicide that can prevent and control Botrytis Blight.        \\n\\nBiological Control: Biological control is an environmentally friendly method of managing Botrytis leaf blight in onions.     The use of microbial agents such as Trichoderma spp., Bacillus subtilis, and Pseudomonas fluorescens has been found to be effective in controlling the disease.     These microbial agents work by competing with the pathogen for nutrients and space, and also by producing antimicrobial compounds that inhibit the growth of the pathogen.        \\n\\nCultural Control: Botrytis leaf blight, sometimes also referred to as Botrytis leaf spot, occurs on onions.     White, sunken spots on leaves are usually the first sign of infection. Spots are small, oval-shaped, and range from 0.06 to 0.25 inch (0.5–6 mm) long.     They sometimes have a light-green halo and may appear water-soaked. The epidermis around the spots may be silvery.     When numerous spots are present, leaf tips die back, and whole leaves may eventually die.'}, {'Crop': 'Onion', 'Scientific': 'Allium cepa', 'Stress': 'Downy Mildew', 'Description': 'Downy Mildew - At the field level, symptoms of downy mildew are first noticed as circular clumps of yellowed plants that are a few to many feet in diameter.     As the disease progresses, the yellowing patterns often enlarge in the direction of prevailing winds.    On individual plants, leaf tissue becomes pale green, then tan to brown or yellow, and finally collapses. Lesions may exhibit a violet-to-purple color.     When leaves are wet, or when humidity is very high, signs of Peronospora destructor are visible on the surface of older leaves as fine, furry, grayish-white growths.     These growths may later turn purple or brown as a result of a secondary infection of the lesion by other fungi,     such as those that cause PURPLE BLOTCH AND STEMPYLIUM LEAF BLIGHT, as these fungi can produce purple pigmentation and dark spores.    ', 'Solutions': 'There are several control methods available for managing Downy mildew in onions, including chemical, biological, and cultural control.        \\n\\nChemical Control: Spray at the first sign of the disease. After the first spray, scout fields and make subsequent applications when weather conditions are favorable for the disease.     Rotate with fungicides from different mode-of-action groups to reduce the risk of fungicide resistance development.     Fungicides may be applied on a 7-day schedule (only as consistent with the label), if necessary.     For all fungicides, thorough coverage of foliage is important in the control of downy mildew.     Apply appropriate foliar fungicides taking care to apply thoroughly to waxy leaves.     Chlorothalonil and mancozeb are the main protectant fungicides for downy mildew.        \\n\\nBiological Control: Seed treatment, as well as leaf spraying with Pseudomonas fluorescens, can be an effective measure for controlling downy mildew (4 to 5 g per kg of seed).     Seeds treated with this beneficial bacteria increase seedling strength and inhibit sporulation of the downy mildew pathogen.     Since the effectiveness is markedly higher, it is recommended to control downy mildew with P. fluorescens through seed treatment and leaf spraying.        \\n\\nCultural Control: Use a 3-year rotation away from Allium crops in fields where the disease has occurred.     Use disease-free bulbs, sets, and seed. Remove and destroy material of any Allium plants, including residue from the previous crop, volunteer plants, and culls from storage.     Avoid entering fields when leaves are wet. Avoid injuring the crop with herbicides and other.'}, {'Crop': 'Onion', 'Scientific': 'Allium cepa', 'Stress': 'Armyworm', 'Description': 'Armyworm -  is an early season pest that attacks grass crops like small grains and corn. It is not a common economic pest,     but occasionally can occur in high numbers and cause severe damage to seedlings and whorl stage corn. Armyworm, in field corn,     is always associated with the presence of grassy weeds within fields prior to planting or during the season. Moths will not lay eggs on corn plants but prefer     other grass plants.', 'Solutions': 'There are several control methods available for managing armyworms in onions, including chemical, biological, and cultural control.        \\n\\nChemical Control: Chemical control is the most common method of managing armyworms in onions.     The use of insecticides is recommended to control the pest. The most effective insecticides for controlling armyworms in onions include pyrethroids, organophosphates, and spinosyns.     These insecticides should be applied according to label instructions and at regular intervals to ensure effective control.        \\n\\nBiological Control: Biological control is an environmentally friendly method of managing armyworms in onions.     The use of microbial agents such as Bacillus thuringiensis (Bt) and entomopathogenic nematodes has been found to be effective in controlling the pest.     These microbial agents work by infecting and killing the pest.        \\n\\nCultural Control: Cultural control is an effective method of managing armyworms in onions.     Cultural practices can be adopted through crop rotation by avoiding planting onions in the same field for consecutive seasons.     Remove and destroy crop debris from the field, early planting can reduce the incidence of the pest and proper plant spacing can reduce the incidence of the pest by increasing air circulation.    '}, {'Crop': 'Onion', 'Scientific': 'Allium cepa', 'Stress': 'Leaf Miner', 'Description': '    Leafminer - Adults have yellow heads, knees, sides of abdomens; otherwise mostly dark gray, just over 1/10 inch long.    Pupae are red-brown, slightly longer than adults.    Larvae are white to yellow, up to about 1/3 inch long.    Eggs are white, about 1/50 inch long, found on leaves.    Adult feeding holes found in rows, with milky white sap coming out.    ', 'Solutions': 'There are several control methods available for managing leaf miners in onions, including chemical, biological, and cultural control.        \\n\\nChemical Control: Pyrethrin, an organic pesticide, will kill leaf miners as they leave the egg and enter the leaf.     Since they have to chew into the leaf, they ingest the poison with the leaf and die.     However, pyrethrin also kills good insects such as bees and leaf miner predators.     Use to spot-treat concentrations of leaf miners rather than blanket the whole garden. Be sure you get it on the bottom side of the leaf.        \\n\\nBiological Control: is an environmentally friendly method of managing leaf miners in onions.     The use of parasitic wasps such as Diglyphus isaea has been found to be effective in controlling the pest.     These parasitic wasps work by laying their eggs inside the pest, which leads to its death.        \\n\\nCultural Control: is an effective and environmentally friendly method of managing leaf miners on onions,     which involves the adoption of various agricultural practices such as crop rotation, sanitation, mulching, plant spacing,     and plant selection to reduce the incidence of the pest, promote crop health, and ultimately increase yield.    '}, {'Crop': 'Tomato', 'Scientific': 'Solanum lycopersicum', 'Stress': 'Powdery Mildew', 'Description': \"Powdery mildew is a common fungal disease that can affect tomato plants, causing significant damage to the leaves, stems, and fruits. The disease is characterized by a white,     powdery growth on the surface of the plant, which can spread rapidly and cause the plant to become stunted and weakened. Some common symptoms of powdery mildew on tomato plants include white,     powdery growth on the leaves, stems, and fruits of the plant, yellowing of the leaves and premature leaf drop, curling of the leaves and distortion of the plant's growth, and stunted growth and reduced yields of fruit.    \", 'Solutions': 'To control Powdery Mildew on corns, there are several methods that can be used, including chemical control, biological control, and cultural control.         \\n\\nChemical control: There are several fungicides available that can control powdery mildew on tomato plants, including copper fungicides, sulfur fungicides, and fungicides containing potassium bicarbonate or neem oil.     Follow the instructions on the fungicide label carefully, as overuse or misuse can lead to plant damage or residue on the tomatoes. Avoid applying fungicides during the hottest part of the day or when the plants are water-stressed.        \\n\\nBiological control: Biological control involves the use of natural enemies to control powdery mildew. One effective method is to apply a biofungicide containing Bacillus subtilis, a beneficial bacterium that can prevent powdery mildew from spreading.     Another option is to use predatory mites, such as Phytoseiulus persimilis or Neoseiulus californicus, which feed on powdery mildew and other plant pests.        \\n\\nCultural control: Planting resistant tomato varieties that are less susceptible to powdery mildew. Providing proper air circulation by spacing plants adequately and removing any plant debris or weeds that can harbor the fungus.     Watering the plants in the morning and avoiding overhead watering, which can promote fungal growth. Fertilizing the plants properly, as excessive nitrogen can increase susceptibility to powdery mildew. Using reflective mulches or coatings, such as kaolin clay, which can reduce the incidence of powdery mildew by reflecting sunlight and reducing leaf surface temperatures.'}, {'Crop': 'Tomato', 'Scientific': 'Solanum lycopersicum', 'Stress': 'Black Mold', 'Description': 'Black mold on tomato plants is typically caused by a fungal infection, commonly known as \"black mold\" or \"black spot.\" The fungus responsible for this condition is called Alternaria solani.     Symptoms of black mold on tomato plants may include black or brownish lesions or spots on leaves, stems, and fruit. These spots may be circular or irregular in shape, and may be raised or sunken.     The infected tissue may become dry and papery, and may eventually crack or crumble. As the infection progresses, the leaves may yellow and die, and the fruit may become distorted or mummified.     In severe cases, the plant may become stunted and eventually die. Black mold on tomatoes can spread rapidly under warm and humid conditions, making it important to control the infection as soon as it is detected.    ', 'Solutions': 'To control Black Mold on corns, there are several methods that can be used, including chemical control, biological control, and cultural control.    \\n\\nChemical control: There are several fungicides available that can control black mold on tomato plants, including copper fungicides, sulfur fungicides, and fungicides containing triadimefon or myclobutanil. Follow the instructions on the fungicide label carefully, as overuse or misuse can lead to plant damage or residue on the tomatoes. Avoid applying fungicides during the hottest part of the day or when the plants are water-stressed.         \\n\\nBiological control: One effective method is to apply a biofungicide containing Bacillus subtilis, a beneficial bacterium that can prevent black mold from spreading. Another option is to use predatory mites, such as Phytoseiulus persimilis or Neoseiulus californicus, which feed on black mold and other plant pests.         \\n\\nCultural control: Reducing insect infestations, as insects such as aphids and whiteflies secrete a sticky substance called honeydew, which can promote the growth of black mold. Washing off the honeydew and black mold with a strong stream of water. Pruning infected branches or leaves and disposing of them in the trash. Using reflective mulches or coatings, such as kaolin clay, which can reduce the incidence of black mold by reflecting sunlight and reducing leaf surface temperatures.    '}, {'Crop': 'Tomato', 'Scientific': 'Solanum lycopersicum', 'Stress': 'Fusarium Wilt', 'Description': 'Fusarium wilt is a common fungal disease that affects tomato plants. The disease is caused by the fungus Fusarium oxysporum and can be devastating to tomato crops.     Symptoms of fusarium wilt on tomato plants usually begin with yellowing and wilting of the lower leaves, which may appear to be scattered throughout the plant. The yellowing may progress to the entire plant, causing it to wilt and eventually die.        The fungus can survive in the soil for several years, making crop rotation an important management strategy. Fusarium wilt can also be transmitted through infected seeds, transplants, and soil. The fungus invades the roots of the tomato plant, interfering with the uptake of water and nutrients, which can lead to wilting and eventual death.    ', 'Solutions': 'To control Fusarium Wilt on corns, there are several methods that can be used, including chemical control, biological control, and cultural control.    \\n\\nChemical control: There are no chemicals available to cure fusarium wilt, but some fungicides can help reduce the severity of the disease. Fungicides containing chlorothalonil, mancozeb, or copper can help protect plants from fungal infections. Follow the instructions on the fungicide label carefully, as overuse or misuse can lead to plant damage or residue on the tomatoes.         \\n\\nBiological control: One effective method is to use soil-borne beneficial microorganisms, such as Trichoderma spp. or Bacillus subtilis, which can suppress the growth of the fungus that causes fusarium wilt. Another option is to use soil solarization, a process that involves covering the soil with plastic to trap heat and kill the fungus.         \\n\\nCultural control: Planting resistant tomato varieties that are less susceptible to fusarium wilt. Rotating crops, as the fungus can survive in the soil for several years and infect future tomato crops. Removing and destroying infected plants and any plant debris that can harbor the fungus. Avoiding overwatering and watering at the base of the plants rather than overhead watering, which can promote fungal growth. Using sterilized soil or soilless growing media to start seedlings. Applying organic matter, such as compost, to the soil to promote a healthy microbial community.    '}, {'Crop': 'Tomato', 'Scientific': 'Solanum lycopersicum', 'Stress': 'Leaf Miner', 'Description': \"Leaf miner is a common pest that affects tomato plants, as well as many other plants. The pest is a small, flying insect that lays eggs on the surface of the tomato plant leaves. When the eggs hatch, the larvae tunnel into the leaves, creating winding, white or yellowish-brown tracks or tunnels. These tunnels can cause significant damage to the leaves, interfering with the plant's ability to photosynthesize and produce healthy fruit.        In addition to the visible tunnels, leaf miner damage can cause the leaves to become distorted or curled, which can further impact the plant's health. Severe infestations can result in stunted growth and reduced yield. Leaf miners typically thrive in warm, humid conditions, and can be difficult to control once established.    \", 'Solutions': 'To control Leaf Miner on corns, there are several methods that can be used, including chemical control, biological control, and cultural control.    \\n\\nChemical control: There are several insecticides available that can control leaf miners on tomato plants, including spinosad, abamectin, and cyromazine. Follow the instructions on the insecticide label carefully, as overuse or misuse can lead to plant damage or residue on the tomatoes. Avoid applying insecticides during the hottest part of the day or when the plants are water-stressed.         \\n\\nBiological control: Biological control involves the use of natural enemies to control leaf miners. One effective method is to release parasitic wasps, such as Diglyphus spp. or Chrysocharis spp., which lay their eggs in the leaf miner larvae, killing them. Another option is to use predatory mites, such as Phytoseiulus persimilis or Neoseiulus californicus, which feed on leaf miners and other plant pests.         \\n\\nCultural control: Removing and destroying any infected leaves or plant debris that can harbor the insects. Using reflective mulches or coatings, such as aluminum foil or silver plastic, which can confuse the leaf miners and reduce their attraction to the plants. Using yellow sticky traps, which can attract and trap adult leaf miner flies. Planting resistant tomato varieties that are less susceptible to leaf miners.    '}]\n"
     ]
    }
   ],
   "source": [
    "print(stress_details)"
   ]
  },
  {
   "cell_type": "code",
   "execution_count": 14,
   "metadata": {},
   "outputs": [
    {
     "ename": "TypeError",
     "evalue": "list indices must be integers or slices, not str",
     "output_type": "error",
     "traceback": [
      "\u001b[1;31m---------------------------------------------------------------------------\u001b[0m",
      "\u001b[1;31mTypeError\u001b[0m                                 Traceback (most recent call last)",
      "Cell \u001b[1;32mIn[14], line 1\u001b[0m\n\u001b[1;32m----> 1\u001b[0m corn_stress \u001b[39m=\u001b[39m stress_details[stress_details[\u001b[39m\"\u001b[39;49m\u001b[39mcrop\u001b[39;49m\u001b[39m\"\u001b[39;49m] \u001b[39m==\u001b[39m \u001b[39m\"\u001b[39m\u001b[39mcorn\u001b[39m\u001b[39m\"\u001b[39m]\n",
      "\u001b[1;31mTypeError\u001b[0m: list indices must be integers or slices, not str"
     ]
    }
   ],
   "source": [
    "corn_stress = stress_details[stress_details[\"crop\"] == \"corn\"]"
   ]
  },
  {
   "cell_type": "code",
   "execution_count": 22,
   "metadata": {},
   "outputs": [
    {
     "name": "stdout",
     "output_type": "stream",
     "text": [
      "Corn\n"
     ]
    }
   ],
   "source": [
    "print(\"corn\".capitalize())"
   ]
  },
  {
   "cell_type": "code",
   "execution_count": 27,
   "metadata": {},
   "outputs": [],
   "source": [
    "all_stress = [d for d in stress_details if d.get(\"Crop\")]"
   ]
  },
  {
   "cell_type": "code",
   "execution_count": 28,
   "metadata": {},
   "outputs": [
    {
     "data": {
      "text/plain": [
       "[{'Crop': 'Corn',\n",
       "  'Scientific': 'Zea mays',\n",
       "  'Stress': 'Leaf Spot',\n",
       "  'Description': 'Leaf spot is a common disease that affects corn plants. It is caused by several different fungal pathogens, including Helminthosporium spp., Cercospora spp., and Bipolaris spp.     Symptoms of leaf spot typically appear as small, circular lesions on the leaves, which can be surrounded by a yellow halo.        If left untreated, leaf spot can cause significant damage to corn plants, reducing yield and overall plant health.     To manage leaf spot, it is important to implement a combination of cultural and chemical control measures.    ',\n",
       "  'Solutions': \"To control leaf spot on corns, there are several methods that can be used, including chemical control, biological control, and cultural control. \\n\\nChemical Control: There are numerous fungicides available for control of Gray leaf spot.      However, there is no guarantee that fungicide applications will result in economic returns, especially if they are applied to highly resistant hybrids in fields with little disease.  For this reason it is important to scout fields for symptoms of Gray leaf spot and apply fungicides only when they are needed.  Scouts should pay particular attention to the lower three leaves of the corn plant from the period just before tasseling to two weeks after tasseling.  If at least 50% of plants in a field have disease present on the third leaf below the ear leaf or higher prior to tasseling, the hybrid is susceptible, and the conditions are favorable for disease, then a spray may be warranted.  Gray leaf spot severity is unpredictable and multiple factors should be considered when making the decision to use fungicides to control Gray leaf spot.  Always follow label directions when applying a fungicide.        \\n\\nBiological Control: Involves the use of natural enemies, such as beneficial microorganisms, to control leaf spot. One example of biological control is the use of biocontrol agents, such as Trichoderma spp., Bacillus spp., or Pseudomonas spp., which can colonize the plant's roots and leaves, and produce antifungal compounds that suppress the growth of leaf spot pathogens.       \\n\\nCultural Control: Involves modifying the environment to make it less favorable for the development and spread of leaf spot. This can include practices such as crop rotation, planting resistant varieties, and sanitation. For example, removing infected plant debris and avoiding overhead irrigation can help reduce the spread of leaf spot. Other cultural practices that can help prevent leaf spot infections include planting corn in well-drained soil, avoiding planting corn in fields with a history of leaf spot infections and providing proper nutrition and avoiding over-fertilization, which can increase susceptibility to leaf spot.    \"},\n",
       " {'Crop': 'Corn',\n",
       "  'Scientific': 'Zea mays',\n",
       "  'Stress': 'Powdery Mildew',\n",
       "  'Description': 'Powdery mildew is another common fungal disease that can affect corn plants. The disease is caused by the fungus Erysiphe orontii and appears as a white, powdery coating on the leaves, stalks, and tassels of the plant.        The powdery mildew fungus thrives in warm, humid conditions, and can spread rapidly if left unchecked. In addition to reducing yield, powdery mildew can also lead to premature plant death and susceptibility to other diseases.    ',\n",
       "  'Solutions': \"To control Powdery Mildew on corns, there are several methods that can be used, including chemical control, biological control, and cultural control.          Chemical Control: There are many fungicides available that can be used to control powdery mildew on corns, such as sulfur, triazoles, and strobilurins.      However, it's important to use these fungicides judiciously and follow the label instructions carefully to avoid harming non-target organisms and to minimize the environmental impact.          Biological Control: Biological control involves the use of natural enemies, such as beneficial microorganisms, to control powdery mildew.      One example of biological control is the use of biocontrol agents, such as Trichoderma spp. and Bacillus spp., which can colonize the plant's roots and leaves,      and produce antifungal compounds that suppress the growth of powdery mildew pathogens.          Cultural Control: Practices such as crop rotation, planting resistant varieties, and sanitation.      For example, removing infected plant debris and avoiding overhead irrigation can help reduce the spread of powdery mildew.      Other cultural practices that can help prevent powdery mildew infections include planting corn in well-drained soil, avoiding planting corn in fields with a history of powdery mildew infections,      and Providing proper nutrition and avoiding over-fertilization, which can increase susceptibility to powdery mildew.    \"},\n",
       " {'Crop': 'Corn',\n",
       "  'Scientific': 'Zea mays',\n",
       "  'Stress': 'Armyworm',\n",
       "  'Description': 'Armyworms are the larvae of certain species of moths that can cause significant damage to corn crops. They are named for their behavior of moving in large groups and devouring everything in their path, much like an army on the march.        Armyworms are typically about 1-2 inches in length and can be brown, gray, or green in color. They have distinct stripes on their bodies that run the length of their back and sides. Armyworms feed on the leaves, stalks, and ears of corn plants, causing damage that can range from minor to severe.    ',\n",
       "  'Solutions': \"To control Armyworm on corns, there are several methods that can be used, including chemical control, biological control, and cultural control.        \\n\\nChemical Control: There are many insecticides available that can be used to control armyworms on corns, such as pyrethroids, carbamates, and organophosphates.     However, it's important to use these insecticides judiciously and follow the label instructions carefully to avoid harming non-target organisms and to minimize the environmental impact.        \\n\\nBiological Control: One example of biological control is the use of parasitic wasps or flies that lay their eggs in the armyworm's eggs or larvae, causing their death. Another example is the use of insect-killing fungi, such as Beauveria bassiana, which can infect and kill armyworms.        \\n\\nCultural Control: Cultural control involves modifying the environment to make it less favorable for the development and spread of armyworms. This can include practices such as crop rotation, planting resistant varieties, and sanitation.     For example, removing crop residues and weeds from the field can help reduce the population of armyworms, planting corn early in the season to avoid peak armyworm activity.        \"},\n",
       " {'Crop': 'Corn',\n",
       "  'Scientific': 'Zea mays',\n",
       "  'Stress': 'Leaf Miner',\n",
       "  'Description': 'Leaf miners are small insects that can cause damage to corn plants by feeding on the leaves. They are typically the larvae of small, black and yellow flies known as Agromyzidae.        The adult leaf miner flies lay eggs on the underside of corn leaves, and when the eggs hatch, the larvae burrow into the leaf tissue and feed on the plant\\'s sap. This feeding creates characteristic white or yellowish \"mines\" or tunnels within the leaves, which can lead to discoloration and a decrease in plant health and vigor.        The damage caused by leaf miners on corn is typically not severe, but it can weaken the plant and make it more susceptible to other pests and diseases. In addition, heavy infestations of leaf miners can reduce the plant\\'s ability to photosynthesize and produce energy, which can ultimately impact yield.    ',\n",
       "  'Solutions': \"To control Leaf Miner on corns, there are several methods that can be used, including chemical control, biological control, and cultural control.          \\n\\nChemical Control: Chemical control involves the use of insecticides to prevent or treat leaf miner infestations. There are many insecticides available that can be used to control leaf miners on corns, such as pyrethroids, carbamates, and organophosphates. However, it's important to use these insecticides judiciously and follow the label instructions carefully to avoid harming non-target organisms and to minimize the environmental impact.          \\n\\nBiological Control: One example of biological control is the use of parasitic wasps or flies that lay their eggs in the leaf miner larvae, causing their death. Another example is the use of insect-killing fungi, such as Beauveria bassiana, which can infect and kill leaf miners.          \\n\\nCultural Control: Cultural control involves implementing farming practices that discourage pest infestations. Some cultural practices that can help control leaf miner on corns include planting corn in different fields each year to reduce pest build-up, early planting can help avoid peak leaf miner populations, regular weeding which helps to remove alternative host plants and reduce leaf miner populations.    \"},\n",
       " {'Crop': 'Corn',\n",
       "  'Scientific': 'Zea mays',\n",
       "  'Stress': ' Corn Borer',\n",
       "  'Description': 'Corn borers are a common pest that can cause significant damage to corn crops. They are the larvae of moths that lay their eggs on the leaves of corn plants. When the eggs hatch, the larvae burrow into the stalks or ears of the corn plant and feed on the tissue inside.    Corn borer damage can cause the plant to become stunted and weakened, and it can also make the plant more susceptible to other pests and diseases. The damage can also lead to yield losses if left unchecked.    ',\n",
       "  'Solutions': 'To control Corn Borer on corns, there are several methods that can be used, including chemical control, biological control, and cultural control.         \\n\\nChemical Control: There are several insecticides that are effective against corn borers, including chlorpyrifos, bifenthrin, and cypermethrin. It is important to follow the label instructions carefully and apply insecticides when corn borers are in their most susceptible stages.        \\n\\nBiological Control: One such natural enemy is the Trichogramma wasp, which lays its eggs in the eggs of corn borers, preventing them from hatching. Another natural enemy is the Bacillus thuringiensis (Bt) bacterium, which produces a toxin that is lethal to corn borers.        \\n\\nCultural Control: Cultural control involves using practices that make the environment less favorable for corn borers. Some strategies include choosing corn hybrids that have been bred for resistance to corn borers can reduce the need for chemical or biological control, planting corn early or late in the season can reduce the risk of corn borer infestations, and plowing or disking the soil can disrupt corn borer overwintering sites and reduce populations.    '},\n",
       " {'Crop': 'Corn',\n",
       "  'Scientific': 'Zea mays',\n",
       "  'Stress': 'Eye Spot',\n",
       "  'Description': 'Eye spot is a fungal disease that can affect corn plants. It is caused by the fungus Aureobasidium zeae and can cause significant damage to the leaves and stalks of the plant.        Eye spot appears as small, circular lesions on the corn leaves. These lesions can range in color from tan to reddish-brown and are surrounded by a yellowish halo. As the disease progresses, the lesions can coalesce and cause the leaf tissue to die and turn brown. In severe cases, the disease can also infect the stalks of the corn plant, causing lodging and yield losses.    ',\n",
       "  'Solutions': 'To control Eye spot on corns, there are several methods that can be used, including chemical control, biological control, and cultural control.          \\n\\nChemical Control: Fungicides such as azoxystrobin, pyraclostrobin, and propiconazole are effective against eye spot. It is important to follow the label instructions carefully and apply fungicides when eye spot is first detected or when conditions are favorable for disease development.          \\n\\nBiological Control: One such natural enemy is the Trichoderma fungus, which is known to colonize the roots of corn plants and suppress eye spot. Other beneficial microorganisms such as mycorrhizae and rhizobacteria can also help reduce eye spot infections.          \\n\\nCultural Control: Cultural control involves using practices that make the environment less favorable for corn borers. Some strategies include planting a non-host crop, such as soybeans, in between corn crops can reduce eye spot populations, planting corn varieties that are resistant to eye spot can reduce the need for chemical or biological control, and plowing or disking the soil can help bury infected corn debris and reduce the risk of eye spot infections.    '},\n",
       " {'Crop': 'Corn',\n",
       "  'Scientific': 'Zea mays',\n",
       "  'Stress': 'White Flies',\n",
       "  'Description': 'Whiteflies are small, winged insects that can cause damage to corn crops by feeding on the sap of the plant. They are typically found on the underside of the leaves and can be identified by their white or yellow color and small size.        Whiteflies can cause damage to corn plants by feeding on the sap, which can cause yellowing of the leaves, stunted growth, and decreased yield. They can also transmit viruses to the plant, which can further reduce its health and vigor.    ',\n",
       "  'Solutions': 'To control White Flies on corns, there are several methods that can be used, including chemical control, biological control, and cultural control.          \\n\\nChemical Control: Insecticides such as pyrethroids, neonicotinoids, and organophosphates are effective against whiteflies. It is important to follow the label instructions carefully and apply insecticides when whitefly populations are in their most susceptible stages.          \\n\\nBiological Control: One such natural enemy is the parasitic wasp Encarsia formosa, which lays its eggs inside whitefly nymphs, killing them. Other beneficial insects such as ladybugs and lacewings can also help reduce whitefly populations.          \\n\\nCultural Control: Cultural control involves using practices that make the environment less favorable for whiteflies. Some strategies include Removing infected plant material wherein whiteflies can reproduce on infected plant material, so it is important to remove infected plants as soon as possible. Using reflective mulch can make it more difficult for whiteflies to locate plants to infest, planting flowers or other plants that attract beneficial insects can help reduce whitefly populations, and using row covers can physically exclude whiteflies from corn plants.    '},\n",
       " {'Crop': 'Corn',\n",
       "  'Scientific': 'Zea mays',\n",
       "  'Stress': 'Corn borer midrib feeding',\n",
       "  'Description': 'Corn borer midrib feeding is a type of damage caused by the larvae of the corn borer moth that feed on the midrib of corn leaves. The midrib is the central vein that runs through the center of the leaf.        When corn borer larvae feed on the midrib of corn leaves, they can cause significant damage to the plant. The feeding can cause the leaves to wilt and curl, and it can also make the plant more susceptible to other pests and diseases.        The larvae of the corn borer moth are usually about 1 inch long and can be light pink or greenish-white in color. They can be found feeding on the midrib and inside the stalks or ears of the corn plant.    ',\n",
       "  'Solutions': ' To control Corn borer midrib feeding on corns, there are several methods that can be used, including chemical control, biological control, and cultural control.          \\n\\nChemical Control: There are several insecticides that are effective against corn borer midrib feeding, including chlorpyrifos, bifenthrin, and cypermethrin. It is important to follow the label instructions carefully and apply insecticides when corn borer midrib feeding is in its most susceptible stage.          \\n\\nBiological Control: One such natural enemy is the Trichogramma wasp, which lays its eggs in the eggs of corn borers, preventing them from hatching. Another natural enemy is the Bacillus thuringiensis (Bt) bacterium, which produces a toxin that is lethal to corn borers.          \\n\\nCultural Control: Cultural control involves using practices that make the environment less favorable for corn borer midrib feeding. Some strategies include plowing or disking the soil can disrupt corn borer midrib feeding overwintering sites and reduce populations, planting corn early or late in the season can reduce the risk of corn borer midrib feeding infestations, and choosing corn hybrids that have been bred for resistance to corn borer midrib feeding can reduce the need for chemical or biological control.    '},\n",
       " {'Crop': 'Eggplant',\n",
       "  'Scientific': 'Solanum melongena',\n",
       "  'Stress': 'Cercospora leaf spot',\n",
       "  'Description': 'Cercospora leaf spot is a fungal disease that affects eggplants, causing brown or grayish lesions on the leaves.     These lesions may have a yellow halo around them and can eventually cause the leaves to fall off.',\n",
       "  'Solutions': 'There are several control methods available for managing Cercospora leaf spot on eggplants, including chemical, biological, and cultural control.        \\n\\nChemical Control: The use of fungicides is recommended to control the disease.     The most effective fungicides for controlling Cercospora leaf spot on eggplants include chlorothalonil, copper-based fungicides, and azoxystrobin.     These fungicides should be applied according to label instructions and at regular intervals to ensure effective control.        \\n\\nBiological Control: The use of beneficial microorganisms such as Trichoderma harzianum and Bacillus subtilis has been found to be effective in controlling the disease.     These beneficial microorganisms work by competing with the fungal pathogen for nutrients, and also by producing antifungal compounds that inhibit its growth.        \\n\\nCultural Control: Avoid planting eggplants in the same field for consecutive seasons.     Proper plant spacing can reduce the incidence of the disease by increasing air circulation.     Remove and destroy infected plant debris to reduce the disease inoculum.     Avoid overhead irrigation as it can increase the humidity in the field, which favors disease development.     Proper fertilization can help keep the plants healthy and better able to resist the disease.    '},\n",
       " {'Crop': 'Eggplant',\n",
       "  'Scientific': 'Solanum melongena',\n",
       "  'Stress': 'Powdery Mildew',\n",
       "  'Description': 'Powdery mildew is a fungal disease that affects a wide range of plants, including eggplants.     It appears as a white or grayish powdery coating on the leaves, stems, and sometimes flowers of plants.     As the disease progresses, the coating can become thicker, causing the plant to appear whitewashed.     In severe cases, the leaves can turn yellow, brown, or even black, and the affected parts of the plant may become distorted or stunted.     Powdery mildew thrives in warm, humid environments, and can spread rapidly under these conditions.',\n",
       "  'Solutions': 'There are several control methods available for managing powdery mildew on onions, including chemical, biological, and cultural control.        \\n\\nChemical Control: The use of fungicides is recommended to control the disease.     The most effective fungicides for controlling powdery mildew on eggplants include sulfur, azoxystrobin, and trifloxystrobin.     These fungicides should be applied according to label instructions and at regular intervals to ensure effective control.        \\n\\nBiological Control:Natural enemies of powdery mildew, such as predatory mites, can be used to control its spread.     These natural enemies can be introduced into the eggplant field, either by releasing them or by creating habitats that encourage their presence.     Additionally, several fungal species can be used to control powdery mildew. These fungi infect the powdery mildew and eventually kill it.        \\n\\nCultural Control: Avoid overhead irrigation as it can increase the humidity in the field, which favors disease development.     Proper plant spacing can reduce the incidence of the disease by increasing air circulation.     Ensure that the soil pH is maintained between 6.0 and 7.0, as this can help reduce the incidence of the disease.     Proper fertilization can help keep the plants healthy and better able to resist the disease.     Avoid planting eggplants in the same field for consecutive seasons.    '},\n",
       " {'Crop': 'Eggplant',\n",
       "  'Scientific': 'Solanum melongena',\n",
       "  'Stress': 'Armyworm',\n",
       "  'Description': 'Armyworms are the larvae of certain species of moths that can cause significant damage to eggplants and other crops.     These larvae are usually green, brown, or black in color, with distinct stripes along their body.     They are called \"armyworms\" because they move in large groups, devouring plants as they go.     The larvae can grow up to two inches long and can consume large amounts of foliage, causing defoliation and stunting of the plants.    Armyworms are most active during the night and can be difficult to spot during the day.     Early signs of armyworm infestation on eggplants include chewed leaves, holes in leaves, and stripped stems.     If left unchecked, the armyworms can quickly defoliate entire plants and spread to neighboring crops. ',\n",
       "  'Solutions': 'There are several control methods available for managing Armyworm spot on eggplants, including chemical, biological, and cultural control.       \\n\\nChemical Control: Some common pesticides used to control armyworms in eggplants include carbaryl, malathion, and permethrin.     It is important to follow the instructions on the label and use the appropriate protective equipment while applying the pesticide.     It is also important to use pesticides responsibly and only when necessary, as overuse of pesticides can harm the environment and non-target organisms.        \\n\\nBiological Control: Some natural enemies of armyworms include parasitic wasps, predatory beetles, and birds.     One effective biological control method for armyworms is releasing trichogramma wasps, which lay their eggs inside armyworm eggs, preventing them from hatching.     Another method is releasing nematodes, which infect and kill the armyworms. This method is safe for the environment and does not harm other beneficial insects.        \\n\\nCultural Control: Involves modifying the environment to reduce the population of armyworms.     One method is to remove and destroy any plant debris, as this can provide a breeding ground for armyworms.     Another method is to practice crop rotation, as armyworms prefer to feed on certain plants and may not survive if their preferred host is not present.     Additionally, planting resistant varieties of eggplants can also help control armyworms.'},\n",
       " {'Crop': 'Eggplant',\n",
       "  'Scientific': 'Solanum melongena',\n",
       "  'Stress': 'Leaf Miner',\n",
       "  'Description': 'Leaf miners are the larvae of certain fly species that feed on the leaf tissue of eggplants and other plants.     They create winding tunnels or \"mines\" that appear as white or brownish lines on the leaves, and can cause significant damage to the plant\\'s ability to photosynthesize.     Leaf miner damage can result in wilting, stunting, and decreased crop yield.        Leaf miners are difficult to control once they have become established, as the larvae are protected within the leaf tissue. Early detection is key to preventing their spread.     Signs of leaf miner infestation on eggplants include the appearance of winding tunnels on the leaves, and small black flies hovering around the plants.',\n",
       "  'Solutions': 'There are several control methods available for managing Leaf Miner on eggplants, including chemical, biological, and cultural control.    \\n\\nChemical Control: Some common pesticides used to control leaf miners in eggplants include spinosad, neem oil, and pyrethroids.     It is important to follow the instructions on the label and use the appropriate protective equipment while applying the pesticide.     However, repeated use of pesticides can lead to the development of resistance in leaf miners and can also harm beneficial insects, such as bees and other pollinators.        \\n\\nBiological Control: Natural enemies of leaf miners include parasitic wasps, predatory beetles, and spiders.     One effective biological control method for leaf miners is releasing parasitic wasps that lay their eggs inside the leaf miner larvae, killing them.     Another method is releasing predatory mites, which feed on the leaf miner eggs and larvae. This method is safe for the environment and does not harm other beneficial insects.        \\n\\nCultural Control: One method is to remove and destroy any infested leaves, as this can reduce the number of leaf miners.     Another method is to use row covers to prevent adult leaf miners from laying eggs on the plants. Additionally, planting resistant varieties of eggplants can also help control leaf miners.    '},\n",
       " {'Crop': 'Eggplant',\n",
       "  'Scientific': 'Solanum melongena',\n",
       "  'Stress': 'Aphids',\n",
       "  'Description': 'Aphids are small, soft-bodied insects that can infest eggplants and other plants, feeding on the sap of the plant.     They are typically green, yellow, or black in color and have pear-shaped bodies with long antennae.     Aphids can reproduce rapidly and in large numbers, causing damage to plants by sucking the sap and excreting honeydew, which can attract ants and lead to the growth of black sooty mold.        Signs of aphid infestation on eggplants include the presence of the insects themselves, distorted or curled leaves, and the appearance of honeydew or sooty mold on the leaves.     Aphids can also transmit viral diseases to plants, further reducing their health and yield.',\n",
       "  'Solutions': 'There are several control methods available for managing Aphids on eggplants, including chemical, biological, and cultural control.    Chemical Control: Some common pesticides used to control aphids in eggplants include insecticidal soaps, neem oil, and pyrethroids.     It is important to follow the instructions on the label and use the appropriate protective equipment while applying the pesticide. However, repeated use of pesticides can lead to the development of resistance in aphids and can also harm beneficial insects, such as bees and other pollinators.        Biological Control: Some natural enemies of aphids include lady beetles, lacewings, and parasitic wasps. One effective biological control method for aphids is releasing lady beetles, which feed on the aphids and their eggs. Another method is releasing lacewings, which feed on both aphids and other pest insects. This method is safe for the environment and does not harm other beneficial insects.        Cultural Control: One method is to remove and destroy any infested leaves or plants, as this can reduce the number of aphids. Another method is to use reflective mulches, which can disorient aphids and prevent them from finding the plants. Additionally, planting companion plants, such as marigolds or garlic, can also help control aphids.    '},\n",
       " {'Crop': 'Eggplant',\n",
       "  'Scientific': 'Solanum melongena',\n",
       "  'Stress': 'Flea beetle',\n",
       "  'Description': 'Flea beetles are small, jumping insects that can cause damage to eggplants and other plants by feeding on the leaves and stems.     They are typically black or brown in color and are named for their ability to jump like fleas when disturbed.     Flea beetles can cause significant damage to eggplants, especially when populations are high.        Signs of flea beetle damage on eggplants include small holes in the leaves, a \"shot hole\" appearance of the foliage, and wilting or stunted growth.     Flea beetles can also transmit bacterial wilt disease to eggplants, further reducing their health and yield.',\n",
       "  'Solutions': 'There are several control methods available for managing Flea beetle on eggplants, including chemical, biological, and cultural control.    \\n\\nChemical Control: Some common pesticides used to control flea beetles in eggplants include carbaryl, pyrethroids, and neonicotinoids. It is important to follow the instructions on the label and use the appropriate protective equipment while applying the pesticide. However, repeated use of pesticides can lead to the development of resistance in flea beetles and can also harm beneficial insects, such as bees and other pollinators.        \\n\\nBiological Control: Natural enemies of flea beetles include parasitic wasps and predatory insects like ladybugs. One effective biological control method for flea beetles is releasing beneficial nematodes in the soil. These microscopic worms will attack the larvae of the flea beetles, reducing their population.        \\n\\nCultural Control: One method is to use row covers to physically exclude the beetles from the plants. Another method is to plant eggplants earlier in the season, as flea beetles tend to be more active in late spring and early summer. Additionally, removing any weeds or debris around the plants can also help reduce the population of flea beetles.    '},\n",
       " {'Crop': 'Eggplant',\n",
       "  'Scientific': 'Solanum melongena',\n",
       "  'Stress': 'White Flies',\n",
       "  'Description': \"Whiteflies are small, sap-sucking insects that can infest eggplants and other plants, causing damage to the foliage and reducing the plant's ability to photosynthesize.     They are named for their white, moth-like appearance and are typically found on the undersides of leaves.     Whiteflies can also excrete honeydew, which can lead to the growth of sooty mold on the leaves.        Signs of whitefly infestation on eggplants include the presence of the insects themselves, distorted or yellowed leaves, and the appearance of honeydew or sooty mold on the leaves.     Whiteflies can also transmit viral diseases to plants, further reducing their health and yield.\",\n",
       "  'Solutions': \"There are several control methods available for managing White Flies on eggplants, including chemical, biological, and cultural control.    \\n\\nChemical Control: Using chemical insecticides can help control whiteflies, but it's important to use them carefully and in accordance with the instructions on the label. Some insecticides that may be effective against whiteflies on eggplants include neonicotinoids, pyrethroids, and insecticidal soaps. Always follow the instructions on the label carefully and avoid spraying during the heat of the day, which can cause damage to the plants. Make sure to follow any recommended waiting periods before harvesting.       \\n\\nBiological Control: Using natural predators or parasites to control the whitefly population. Some examples of biological control agents that can be effective against whiteflies on eggplants include ladybugs, lacewings, and parasitic wasps. These can be purchased from garden supply stores or online and released onto your eggplants. Some companion plants such as marigolds or alyssum can also attract beneficial insects to the garden.        \\n\\nCultural Control: Remove weeds around your eggplants, which can harbor whiteflies. You can also try using row covers or netting to physically block whiteflies from accessing your plants. Regularly checking your plants for signs of infestation and removing any affected leaves can also help prevent the spread of whiteflies.    \"},\n",
       " {'Crop': 'Eggplant',\n",
       "  'Scientific': 'Solanum melongena',\n",
       "  'Stress': 'Potato Beetle',\n",
       "  'Description': 'Potato beetles, also known as Colorado potato beetles, are a common pest of eggplants and other members of the nightshade family.     They are yellow and black striped and have a distinctive hard shell. Adult beetles and their larvae can cause significant damage to eggplant foliage, feeding on the leaves and stems of the plant.        Signs of potato beetle infestation on eggplants include the presence of the insects themselves, skeletonized leaves, and defoliation of the plant.     Potato beetles can also transmit viral diseases to plants, further reducing their health and yield.    ',\n",
       "  'Solutions': 'There are several control methods available for managing Potato Beetle on eggplants, including chemical, biological, and cultural control.    \\n\\nChemical Control: Insecticides that may be effective include pyrethroids, neonicotinoids, and spinosad. Always follow the instructions on the label carefully and avoid spraying during the heat of the day, which can cause damage to the plants. Make sure to follow any recommended waiting periods before harvesting.        \\n\\nBiological Control: Examples of biological control agents that can be effective against potato beetles on eggplants include ladybugs, lacewings, and parasitic wasps. These can be purchased from garden supply stores or online and released onto your eggplants. Some companion plants such as dill, cilantro, or parsley can attract beneficial insects to the garden.        \\n\\nCultural Control: Practice crop rotation and avoid planting eggplants in the same location each year. You can also try using row covers or netting to physically block potato beetles from accessing your plants. Regularly checking your plants for signs of infestation and removing any affected leaves can also help prevent the spread of potato beetles.    '},\n",
       " {'Crop': 'Eggplant',\n",
       "  'Scientific': 'Solanum melongena',\n",
       "  'Stress': 'Leaf roller moth',\n",
       "  'Description': \"Leaf roller moth is a common pest that feeds on eggplants, causing significant damage to the plants.     The larvae of the moth feed on the leaves, creating characteristic tunnels or rolled-up leaves.     The damage caused by leaf roller moths can lead to reduced yields and poor plant growth.        To control leaf roller moths on eggplants, it's important to implement an integrated pest management (IPM) approach that combines different control methods.     This can include cultural control methods, such as crop rotation and sanitation, as well as biological control methods, such as the use of natural predators or parasites. Chemical control methods can also be used, but should be used judiciously to minimize the impact on non-target organisms and the environment.    \",\n",
       "  'Solutions': \"There are several control methods available for managing Leaf roller moth on eggplants, including chemical, biological, and cultural control.        \\n\\nChemical Control: There are many chemical insecticides available that can be used to control leaf roller moths, such as pyrethroids, neonicotinoids, and organophosphates. However, it's important to use these pesticides judiciously and follow the label instructions carefully to avoid harming non-target organisms and to minimize the environmental impact.        \\n\\nBiological Control: One example of biological control is the use of Trichogramma wasps, which lay their eggs in the eggs of the leaf roller moths, preventing them from hatching. Other natural predators, such as lacewings, ladybugs, and parasitic wasps, can also be used to control leaf roller moths.       \\n\\nCultural Control: Involves modifying the environment to make it less favorable for the development and survival of leaf roller moths. This can include practices such as crop rotation, weed control, and sanitation. For example, removing plant debris and fallen fruits from the field can help reduce the number of overwintering sites for the leaf roller moth.    \"},\n",
       " {'Crop': 'Onion',\n",
       "  'Scientific': 'Allium cepa',\n",
       "  'Stress': 'Botrytis leaf blight',\n",
       "  'Description': 'Botrytis leaf blight -  sometimes also referred to as Botrytis leaf spot, occurs on onions.     White, sunken spots on leaves are usually the first sign of infection. Spots are small, oval-shaped, and range from 0.06 to 0.25 inch (0.5–6 mm) long.     They sometimes have a light-green halo and may appear water-soaked. The epidermis around the spots may be silvery.     When numerous spots are present, leaf tips die back, and whole leaves may eventually die.',\n",
       "  'Solutions': 'There are several control methods available for managing Botrytis leaf blight in onions, including chemical, biological, and cultural control.        \\n\\nChemical Control: Copper fungicides: Copper fungicides are a common chemical treatment option for Botrytis Blight.     They disrupt the fungal cell walls and prevent the fungus from growing.Regular Pesticides:     Many effective pesticides against other fungi can also help control Botrytis Blight.    Chlorothalonil: Chlorothalonil is a broad-spectrum fungicide that can prevent and control Botrytis Blight.        \\n\\nBiological Control: Biological control is an environmentally friendly method of managing Botrytis leaf blight in onions.     The use of microbial agents such as Trichoderma spp., Bacillus subtilis, and Pseudomonas fluorescens has been found to be effective in controlling the disease.     These microbial agents work by competing with the pathogen for nutrients and space, and also by producing antimicrobial compounds that inhibit the growth of the pathogen.        \\n\\nCultural Control: Botrytis leaf blight, sometimes also referred to as Botrytis leaf spot, occurs on onions.     White, sunken spots on leaves are usually the first sign of infection. Spots are small, oval-shaped, and range from 0.06 to 0.25 inch (0.5–6 mm) long.     They sometimes have a light-green halo and may appear water-soaked. The epidermis around the spots may be silvery.     When numerous spots are present, leaf tips die back, and whole leaves may eventually die.'},\n",
       " {'Crop': 'Onion',\n",
       "  'Scientific': 'Allium cepa',\n",
       "  'Stress': 'Downy Mildew',\n",
       "  'Description': 'Downy Mildew - At the field level, symptoms of downy mildew are first noticed as circular clumps of yellowed plants that are a few to many feet in diameter.     As the disease progresses, the yellowing patterns often enlarge in the direction of prevailing winds.    On individual plants, leaf tissue becomes pale green, then tan to brown or yellow, and finally collapses. Lesions may exhibit a violet-to-purple color.     When leaves are wet, or when humidity is very high, signs of Peronospora destructor are visible on the surface of older leaves as fine, furry, grayish-white growths.     These growths may later turn purple or brown as a result of a secondary infection of the lesion by other fungi,     such as those that cause PURPLE BLOTCH AND STEMPYLIUM LEAF BLIGHT, as these fungi can produce purple pigmentation and dark spores.    ',\n",
       "  'Solutions': 'There are several control methods available for managing Downy mildew in onions, including chemical, biological, and cultural control.        \\n\\nChemical Control: Spray at the first sign of the disease. After the first spray, scout fields and make subsequent applications when weather conditions are favorable for the disease.     Rotate with fungicides from different mode-of-action groups to reduce the risk of fungicide resistance development.     Fungicides may be applied on a 7-day schedule (only as consistent with the label), if necessary.     For all fungicides, thorough coverage of foliage is important in the control of downy mildew.     Apply appropriate foliar fungicides taking care to apply thoroughly to waxy leaves.     Chlorothalonil and mancozeb are the main protectant fungicides for downy mildew.        \\n\\nBiological Control: Seed treatment, as well as leaf spraying with Pseudomonas fluorescens, can be an effective measure for controlling downy mildew (4 to 5 g per kg of seed).     Seeds treated with this beneficial bacteria increase seedling strength and inhibit sporulation of the downy mildew pathogen.     Since the effectiveness is markedly higher, it is recommended to control downy mildew with P. fluorescens through seed treatment and leaf spraying.        \\n\\nCultural Control: Use a 3-year rotation away from Allium crops in fields where the disease has occurred.     Use disease-free bulbs, sets, and seed. Remove and destroy material of any Allium plants, including residue from the previous crop, volunteer plants, and culls from storage.     Avoid entering fields when leaves are wet. Avoid injuring the crop with herbicides and other.'},\n",
       " {'Crop': 'Onion',\n",
       "  'Scientific': 'Allium cepa',\n",
       "  'Stress': 'Armyworm',\n",
       "  'Description': 'Armyworm -  is an early season pest that attacks grass crops like small grains and corn. It is not a common economic pest,     but occasionally can occur in high numbers and cause severe damage to seedlings and whorl stage corn. Armyworm, in field corn,     is always associated with the presence of grassy weeds within fields prior to planting or during the season. Moths will not lay eggs on corn plants but prefer     other grass plants.',\n",
       "  'Solutions': 'There are several control methods available for managing armyworms in onions, including chemical, biological, and cultural control.        \\n\\nChemical Control: Chemical control is the most common method of managing armyworms in onions.     The use of insecticides is recommended to control the pest. The most effective insecticides for controlling armyworms in onions include pyrethroids, organophosphates, and spinosyns.     These insecticides should be applied according to label instructions and at regular intervals to ensure effective control.        \\n\\nBiological Control: Biological control is an environmentally friendly method of managing armyworms in onions.     The use of microbial agents such as Bacillus thuringiensis (Bt) and entomopathogenic nematodes has been found to be effective in controlling the pest.     These microbial agents work by infecting and killing the pest.        \\n\\nCultural Control: Cultural control is an effective method of managing armyworms in onions.     Cultural practices can be adopted through crop rotation by avoiding planting onions in the same field for consecutive seasons.     Remove and destroy crop debris from the field, early planting can reduce the incidence of the pest and proper plant spacing can reduce the incidence of the pest by increasing air circulation.    '},\n",
       " {'Crop': 'Onion',\n",
       "  'Scientific': 'Allium cepa',\n",
       "  'Stress': 'Leaf Miner',\n",
       "  'Description': '    Leafminer - Adults have yellow heads, knees, sides of abdomens; otherwise mostly dark gray, just over 1/10 inch long.    Pupae are red-brown, slightly longer than adults.    Larvae are white to yellow, up to about 1/3 inch long.    Eggs are white, about 1/50 inch long, found on leaves.    Adult feeding holes found in rows, with milky white sap coming out.    ',\n",
       "  'Solutions': 'There are several control methods available for managing leaf miners in onions, including chemical, biological, and cultural control.        \\n\\nChemical Control: Pyrethrin, an organic pesticide, will kill leaf miners as they leave the egg and enter the leaf.     Since they have to chew into the leaf, they ingest the poison with the leaf and die.     However, pyrethrin also kills good insects such as bees and leaf miner predators.     Use to spot-treat concentrations of leaf miners rather than blanket the whole garden. Be sure you get it on the bottom side of the leaf.        \\n\\nBiological Control: is an environmentally friendly method of managing leaf miners in onions.     The use of parasitic wasps such as Diglyphus isaea has been found to be effective in controlling the pest.     These parasitic wasps work by laying their eggs inside the pest, which leads to its death.        \\n\\nCultural Control: is an effective and environmentally friendly method of managing leaf miners on onions,     which involves the adoption of various agricultural practices such as crop rotation, sanitation, mulching, plant spacing,     and plant selection to reduce the incidence of the pest, promote crop health, and ultimately increase yield.    '},\n",
       " {'Crop': 'Tomato',\n",
       "  'Scientific': 'Solanum lycopersicum',\n",
       "  'Stress': 'Powdery Mildew',\n",
       "  'Description': \"Powdery mildew is a common fungal disease that can affect tomato plants, causing significant damage to the leaves, stems, and fruits. The disease is characterized by a white,     powdery growth on the surface of the plant, which can spread rapidly and cause the plant to become stunted and weakened. Some common symptoms of powdery mildew on tomato plants include white,     powdery growth on the leaves, stems, and fruits of the plant, yellowing of the leaves and premature leaf drop, curling of the leaves and distortion of the plant's growth, and stunted growth and reduced yields of fruit.    \",\n",
       "  'Solutions': 'To control Powdery Mildew on corns, there are several methods that can be used, including chemical control, biological control, and cultural control.         \\n\\nChemical control: There are several fungicides available that can control powdery mildew on tomato plants, including copper fungicides, sulfur fungicides, and fungicides containing potassium bicarbonate or neem oil.     Follow the instructions on the fungicide label carefully, as overuse or misuse can lead to plant damage or residue on the tomatoes. Avoid applying fungicides during the hottest part of the day or when the plants are water-stressed.        \\n\\nBiological control: Biological control involves the use of natural enemies to control powdery mildew. One effective method is to apply a biofungicide containing Bacillus subtilis, a beneficial bacterium that can prevent powdery mildew from spreading.     Another option is to use predatory mites, such as Phytoseiulus persimilis or Neoseiulus californicus, which feed on powdery mildew and other plant pests.        \\n\\nCultural control: Planting resistant tomato varieties that are less susceptible to powdery mildew. Providing proper air circulation by spacing plants adequately and removing any plant debris or weeds that can harbor the fungus.     Watering the plants in the morning and avoiding overhead watering, which can promote fungal growth. Fertilizing the plants properly, as excessive nitrogen can increase susceptibility to powdery mildew. Using reflective mulches or coatings, such as kaolin clay, which can reduce the incidence of powdery mildew by reflecting sunlight and reducing leaf surface temperatures.'},\n",
       " {'Crop': 'Tomato',\n",
       "  'Scientific': 'Solanum lycopersicum',\n",
       "  'Stress': 'Black Mold',\n",
       "  'Description': 'Black mold on tomato plants is typically caused by a fungal infection, commonly known as \"black mold\" or \"black spot.\" The fungus responsible for this condition is called Alternaria solani.     Symptoms of black mold on tomato plants may include black or brownish lesions or spots on leaves, stems, and fruit. These spots may be circular or irregular in shape, and may be raised or sunken.     The infected tissue may become dry and papery, and may eventually crack or crumble. As the infection progresses, the leaves may yellow and die, and the fruit may become distorted or mummified.     In severe cases, the plant may become stunted and eventually die. Black mold on tomatoes can spread rapidly under warm and humid conditions, making it important to control the infection as soon as it is detected.    ',\n",
       "  'Solutions': 'To control Black Mold on corns, there are several methods that can be used, including chemical control, biological control, and cultural control.    \\n\\nChemical control: There are several fungicides available that can control black mold on tomato plants, including copper fungicides, sulfur fungicides, and fungicides containing triadimefon or myclobutanil. Follow the instructions on the fungicide label carefully, as overuse or misuse can lead to plant damage or residue on the tomatoes. Avoid applying fungicides during the hottest part of the day or when the plants are water-stressed.         \\n\\nBiological control: One effective method is to apply a biofungicide containing Bacillus subtilis, a beneficial bacterium that can prevent black mold from spreading. Another option is to use predatory mites, such as Phytoseiulus persimilis or Neoseiulus californicus, which feed on black mold and other plant pests.         \\n\\nCultural control: Reducing insect infestations, as insects such as aphids and whiteflies secrete a sticky substance called honeydew, which can promote the growth of black mold. Washing off the honeydew and black mold with a strong stream of water. Pruning infected branches or leaves and disposing of them in the trash. Using reflective mulches or coatings, such as kaolin clay, which can reduce the incidence of black mold by reflecting sunlight and reducing leaf surface temperatures.    '},\n",
       " {'Crop': 'Tomato',\n",
       "  'Scientific': 'Solanum lycopersicum',\n",
       "  'Stress': 'Fusarium Wilt',\n",
       "  'Description': 'Fusarium wilt is a common fungal disease that affects tomato plants. The disease is caused by the fungus Fusarium oxysporum and can be devastating to tomato crops.     Symptoms of fusarium wilt on tomato plants usually begin with yellowing and wilting of the lower leaves, which may appear to be scattered throughout the plant. The yellowing may progress to the entire plant, causing it to wilt and eventually die.        The fungus can survive in the soil for several years, making crop rotation an important management strategy. Fusarium wilt can also be transmitted through infected seeds, transplants, and soil. The fungus invades the roots of the tomato plant, interfering with the uptake of water and nutrients, which can lead to wilting and eventual death.    ',\n",
       "  'Solutions': 'To control Fusarium Wilt on corns, there are several methods that can be used, including chemical control, biological control, and cultural control.    \\n\\nChemical control: There are no chemicals available to cure fusarium wilt, but some fungicides can help reduce the severity of the disease. Fungicides containing chlorothalonil, mancozeb, or copper can help protect plants from fungal infections. Follow the instructions on the fungicide label carefully, as overuse or misuse can lead to plant damage or residue on the tomatoes.         \\n\\nBiological control: One effective method is to use soil-borne beneficial microorganisms, such as Trichoderma spp. or Bacillus subtilis, which can suppress the growth of the fungus that causes fusarium wilt. Another option is to use soil solarization, a process that involves covering the soil with plastic to trap heat and kill the fungus.         \\n\\nCultural control: Planting resistant tomato varieties that are less susceptible to fusarium wilt. Rotating crops, as the fungus can survive in the soil for several years and infect future tomato crops. Removing and destroying infected plants and any plant debris that can harbor the fungus. Avoiding overwatering and watering at the base of the plants rather than overhead watering, which can promote fungal growth. Using sterilized soil or soilless growing media to start seedlings. Applying organic matter, such as compost, to the soil to promote a healthy microbial community.    '},\n",
       " {'Crop': 'Tomato',\n",
       "  'Scientific': 'Solanum lycopersicum',\n",
       "  'Stress': 'Leaf Miner',\n",
       "  'Description': \"Leaf miner is a common pest that affects tomato plants, as well as many other plants. The pest is a small, flying insect that lays eggs on the surface of the tomato plant leaves. When the eggs hatch, the larvae tunnel into the leaves, creating winding, white or yellowish-brown tracks or tunnels. These tunnels can cause significant damage to the leaves, interfering with the plant's ability to photosynthesize and produce healthy fruit.        In addition to the visible tunnels, leaf miner damage can cause the leaves to become distorted or curled, which can further impact the plant's health. Severe infestations can result in stunted growth and reduced yield. Leaf miners typically thrive in warm, humid conditions, and can be difficult to control once established.    \",\n",
       "  'Solutions': 'To control Leaf Miner on corns, there are several methods that can be used, including chemical control, biological control, and cultural control.    \\n\\nChemical control: There are several insecticides available that can control leaf miners on tomato plants, including spinosad, abamectin, and cyromazine. Follow the instructions on the insecticide label carefully, as overuse or misuse can lead to plant damage or residue on the tomatoes. Avoid applying insecticides during the hottest part of the day or when the plants are water-stressed.         \\n\\nBiological control: Biological control involves the use of natural enemies to control leaf miners. One effective method is to release parasitic wasps, such as Diglyphus spp. or Chrysocharis spp., which lay their eggs in the leaf miner larvae, killing them. Another option is to use predatory mites, such as Phytoseiulus persimilis or Neoseiulus californicus, which feed on leaf miners and other plant pests.         \\n\\nCultural control: Removing and destroying any infected leaves or plant debris that can harbor the insects. Using reflective mulches or coatings, such as aluminum foil or silver plastic, which can confuse the leaf miners and reduce their attraction to the plants. Using yellow sticky traps, which can attract and trap adult leaf miner flies. Planting resistant tomato varieties that are less susceptible to leaf miners.    '}]"
      ]
     },
     "execution_count": 28,
     "metadata": {},
     "output_type": "execute_result"
    }
   ],
   "source": [
    "all_stress"
   ]
  },
  {
   "attachments": {},
   "cell_type": "markdown",
   "metadata": {},
   "source": [
    "# Checking"
   ]
  },
  {
   "cell_type": "code",
   "execution_count": 2,
   "metadata": {},
   "outputs": [],
   "source": [
    "import pandas as pd"
   ]
  },
  {
   "cell_type": "code",
   "execution_count": 9,
   "metadata": {},
   "outputs": [],
   "source": [
    "# Get Plant Data\n",
    "plant_details_df = pd.read_csv(\n",
    "    f\"csv/plant_details.csv\", header=0, names=None, encoding=\"utf8\")\n",
    "plant_details = plant_details_df.to_dict(orient=\"records\")"
   ]
  },
  {
   "cell_type": "code",
   "execution_count": 11,
   "metadata": {},
   "outputs": [],
   "source": [
    "# Get Stress Data\n",
    "stress_details_df = pd.read_csv(\n",
    "    f\"csv/stress_details.csv\", header=0, names=None, encoding='windows-1254')\n",
    "stress_details = stress_details_df.to_dict(orient=\"records\")"
   ]
  },
  {
   "cell_type": "code",
   "execution_count": 13,
   "metadata": {},
   "outputs": [
    {
     "data": {
      "text/plain": [
       "[{'Crop': 'Corn',\n",
       "  'Scientific': 'Zea mays',\n",
       "  'Stress': 'Leaf Spot',\n",
       "  'Description': 'Leaf spot is a common disease that affects corn plants. It is caused by several different fungal pathogens, including Helminthosporium spp., Cercospora spp., and Bipolaris spp.     Symptoms of leaf spot typically appear as small, circular lesions on the leaves, which can be surrounded by a yellow halo.        If left untreated, leaf spot can cause significant damage to corn plants, reducing yield and overall plant health.     To manage leaf spot, it is important to implement a combination of cultural and chemical control measures.    ',\n",
       "  'Solutions': \"To control leaf spot on corns, there are several methods that can be used, including chemical control, biological control, and cultural control. \\n\\nChemical Control: There are numerous fungicides available for control of Gray leaf spot.      However, there is no guarantee that fungicide applications will result in economic returns, especially if they are applied to highly resistant hybrids in fields with little disease.  For this reason it is important to scout fields for symptoms of Gray leaf spot and apply fungicides only when they are needed.  Scouts should pay particular attention to the lower three leaves of the corn plant from the period just before tasseling to two weeks after tasseling.  If at least 50% of plants in a field have disease present on the third leaf below the ear leaf or higher prior to tasseling, the hybrid is susceptible, and the conditions are favorable for disease, then a spray may be warranted.  Gray leaf spot severity is unpredictable and multiple factors should be considered when making the decision to use fungicides to control Gray leaf spot.  Always follow label directions when applying a fungicide.        \\n\\nBiological Control: Involves the use of natural enemies, such as beneficial microorganisms, to control leaf spot. One example of biological control is the use of biocontrol agents, such as Trichoderma spp., Bacillus spp., or Pseudomonas spp., which can colonize the plant's roots and leaves, and produce antifungal compounds that suppress the growth of leaf spot pathogens.       \\n\\nCultural Control: Involves modifying the environment to make it less favorable for the development and spread of leaf spot. This can include practices such as crop rotation, planting resistant varieties, and sanitation. For example, removing infected plant debris and avoiding overhead irrigation can help reduce the spread of leaf spot. Other cultural practices that can help prevent leaf spot infections include planting corn in well-drained soil, avoiding planting corn in fields with a history of leaf spot infections and providing proper nutrition and avoiding over-fertilization, which can increase susceptibility to leaf spot.    \",\n",
       "  'Causal Organisms': 'Fungus',\n",
       "  'Affected Plant Parts': 'Leaves, stems and tassels',\n",
       "  'Affected Plant Stages': 'Vegetative stage'},\n",
       " {'Crop': 'Corn',\n",
       "  'Scientific': 'Zea mays',\n",
       "  'Stress': 'Powdery Mildew',\n",
       "  'Description': 'Powdery mildew is another common fungal disease that can affect corn plants. The disease is caused by the fungus Erysiphe orontii and appears as a white, powdery coating on the leaves, stalks, and tassels of the plant.        The powdery mildew fungus thrives in warm, humid conditions, and can spread rapidly if left unchecked. In addition to reducing yield, powdery mildew can also lead to premature plant death and susceptibility to other diseases.    ',\n",
       "  'Solutions': \"To control Powdery Mildew on corns, there are several methods that can be used, including chemical control, biological control, and cultural control.          Chemical Control: There are many fungicides available that can be used to control powdery mildew on corns, such as sulfur, triazoles, and strobilurins.      However, it's important to use these fungicides judiciously and follow the label instructions carefully to avoid harming non-target organisms and to minimize the environmental impact.          Biological Control: Biological control involves the use of natural enemies, such as beneficial microorganisms, to control powdery mildew.      One example of biological control is the use of biocontrol agents, such as Trichoderma spp. and Bacillus spp., which can colonize the plant's roots and leaves,      and produce antifungal compounds that suppress the growth of powdery mildew pathogens.          Cultural Control: Practices such as crop rotation, planting resistant varieties, and sanitation.      For example, removing infected plant debris and avoiding overhead irrigation can help reduce the spread of powdery mildew.      Other cultural practices that can help prevent powdery mildew infections include planting corn in well-drained soil, avoiding planting corn in fields with a history of powdery mildew infections,      and Providing proper nutrition and avoiding over-fertilization, which can increase susceptibility to powdery mildew.    \",\n",
       "  'Causal Organisms': 'Fungus',\n",
       "  'Affected Plant Parts': 'Leaves stems and ears',\n",
       "  'Affected Plant Stages': 'Affects flowering, fruiting, seedling and vegetative growing stages of the plants'},\n",
       " {'Crop': 'Corn',\n",
       "  'Scientific': 'Zea mays',\n",
       "  'Stress': 'Armyworm',\n",
       "  'Description': 'Armyworms are the larvae of certain species of moths that can cause significant damage to corn crops. They are named for their behavior of moving in large groups and devouring everything in their path, much like an army on the march.        Armyworms are typically about 1-2 inches in length and can be brown, gray, or green in color. They have distinct stripes on their bodies that run the length of their back and sides. Armyworms feed on the leaves, stalks, and ears of corn plants, causing damage that can range from minor to severe.    ',\n",
       "  'Solutions': \"To control Armyworm on corns, there are several methods that can be used, including chemical control, biological control, and cultural control.        \\n\\nChemical Control: There are many insecticides available that can be used to control armyworms on corns, such as pyrethroids, carbamates, and organophosphates.     However, it's important to use these insecticides judiciously and follow the label instructions carefully to avoid harming non-target organisms and to minimize the environmental impact.        \\n\\nBiological Control: One example of biological control is the use of parasitic wasps or flies that lay their eggs in the armyworm's eggs or larvae, causing their death. Another example is the use of insect-killing fungi, such as Beauveria bassiana, which can infect and kill armyworms.        \\n\\nCultural Control: Cultural control involves modifying the environment to make it less favorable for the development and spread of armyworms. This can include practices such as crop rotation, planting resistant varieties, and sanitation.     For example, removing crop residues and weeds from the field can help reduce the population of armyworms, planting corn early in the season to avoid peak armyworm activity.        \",\n",
       "  'Causal Organisms': 'Insects',\n",
       "  'Affected Plant Parts': 'Leaves, Stem, Inside of the plants body ',\n",
       "  'Affected Plant Stages': 'vegetative growing stages'},\n",
       " {'Crop': 'Corn',\n",
       "  'Scientific': 'Zea mays',\n",
       "  'Stress': 'Leaf Miner',\n",
       "  'Description': 'Leaf miners are small insects that can cause damage to corn plants by feeding on the leaves. They are typically the larvae of small, black and yellow flies known as Agromyzidae.        The adult leaf miner flies lay eggs on the underside of corn leaves, and when the eggs hatch, the larvae burrow into the leaf tissue and feed on the plant\\'s sap. This feeding creates characteristic white or yellowish \"mines\" or tunnels within the leaves, which can lead to discoloration and a decrease in plant health and vigor.        The damage caused by leaf miners on corn is typically not severe, but it can weaken the plant and make it more susceptible to other pests and diseases. In addition, heavy infestations of leaf miners can reduce the plant\\'s ability to photosynthesize and produce energy, which can ultimately impact yield.    ',\n",
       "  'Solutions': \"To control Leaf Miner on corns, there are several methods that can be used, including chemical control, biological control, and cultural control.          \\n\\nChemical Control: Chemical control involves the use of insecticides to prevent or treat leaf miner infestations. There are many insecticides available that can be used to control leaf miners on corns, such as pyrethroids, carbamates, and organophosphates. However, it's important to use these insecticides judiciously and follow the label instructions carefully to avoid harming non-target organisms and to minimize the environmental impact.          \\n\\nBiological Control: One example of biological control is the use of parasitic wasps or flies that lay their eggs in the leaf miner larvae, causing their death. Another example is the use of insect-killing fungi, such as Beauveria bassiana, which can infect and kill leaf miners.          \\n\\nCultural Control: Cultural control involves implementing farming practices that discourage pest infestations. Some cultural practices that can help control leaf miner on corns include planting corn in different fields each year to reduce pest build-up, early planting can help avoid peak leaf miner populations, regular weeding which helps to remove alternative host plants and reduce leaf miner populations.    \",\n",
       "  'Causal Organisms': 'pest, insect',\n",
       "  'Affected Plant Parts': 'Leaves',\n",
       "  'Affected Plant Stages': 'Vegetative stage'},\n",
       " {'Crop': 'Corn',\n",
       "  'Scientific': 'Zea mays',\n",
       "  'Stress': ' Corn Borer',\n",
       "  'Description': 'Corn borers are a common pest that can cause significant damage to corn crops. They are the larvae of moths that lay their eggs on the leaves of corn plants. When the eggs hatch, the larvae burrow into the stalks or ears of the corn plant and feed on the tissue inside.    Corn borer damage can cause the plant to become stunted and weakened, and it can also make the plant more susceptible to other pests and diseases. The damage can also lead to yield losses if left unchecked.    ',\n",
       "  'Solutions': 'To control Corn Borer on corns, there are several methods that can be used, including chemical control, biological control, and cultural control.         \\n\\nChemical Control: There are several insecticides that are effective against corn borers, including chlorpyrifos, bifenthrin, and cypermethrin. It is important to follow the label instructions carefully and apply insecticides when corn borers are in their most susceptible stages.        \\n\\nBiological Control: One such natural enemy is the Trichogramma wasp, which lays its eggs in the eggs of corn borers, preventing them from hatching. Another natural enemy is the Bacillus thuringiensis (Bt) bacterium, which produces a toxin that is lethal to corn borers.        \\n\\nCultural Control: Cultural control involves using practices that make the environment less favorable for corn borers. Some strategies include choosing corn hybrids that have been bred for resistance to corn borers can reduce the need for chemical or biological control, planting corn early or late in the season can reduce the risk of corn borer infestations, and plowing or disking the soil can disrupt corn borer overwintering sites and reduce populations.    ',\n",
       "  'Causal Organisms': 'insects, pest',\n",
       "  'Affected Plant Parts': 'Leaves, Stem',\n",
       "  'Affected Plant Stages': 'Vegetative stage'},\n",
       " {'Crop': 'Corn',\n",
       "  'Scientific': 'Zea mays',\n",
       "  'Stress': 'Eye Spot',\n",
       "  'Description': 'Eye spot is a fungal disease that can affect corn plants. It is caused by the fungus Aureobasidium zeae and can cause significant damage to the leaves and stalks of the plant.        Eye spot appears as small, circular lesions on the corn leaves. These lesions can range in color from tan to reddish-brown and are surrounded by a yellowish halo. As the disease progresses, the lesions can coalesce and cause the leaf tissue to die and turn brown. In severe cases, the disease can also infect the stalks of the corn plant, causing lodging and yield losses.    ',\n",
       "  'Solutions': 'To control Eye spot on corns, there are several methods that can be used, including chemical control, biological control, and cultural control.          \\n\\nChemical Control: Fungicides such as azoxystrobin, pyraclostrobin, and propiconazole are effective against eye spot. It is important to follow the label instructions carefully and apply fungicides when eye spot is first detected or when conditions are favorable for disease development.          \\n\\nBiological Control: One such natural enemy is the Trichoderma fungus, which is known to colonize the roots of corn plants and suppress eye spot. Other beneficial microorganisms such as mycorrhizae and rhizobacteria can also help reduce eye spot infections.          \\n\\nCultural Control: Cultural control involves using practices that make the environment less favorable for corn borers. Some strategies include planting a non-host crop, such as soybeans, in between corn crops can reduce eye spot populations, planting corn varieties that are resistant to eye spot can reduce the need for chemical or biological control, and plowing or disking the soil can help bury infected corn debris and reduce the risk of eye spot infections.    ',\n",
       "  'Causal Organisms': 'fungus',\n",
       "  'Affected Plant Parts': 'Leaves',\n",
       "  'Affected Plant Stages': 'Vegetative stage'},\n",
       " {'Crop': 'Corn',\n",
       "  'Scientific': 'Zea mays',\n",
       "  'Stress': 'corn plant hopper',\n",
       "  'Description': 'Peregrinus maidis, commonly known as the\\xa0corn\\xa0planthopper, is a species of\\xa0insect\\xa0in the order\\xa0Hemiptera\\xa0and the family\\xa0Delphacidae.It is widespread throughout most tropical and subtropical regions on earth, including southern\\xa0North America,\\xa0South America,\\xa0Africa,\\xa0Australia,\\xa0Southeast Asia\\xa0and\\xa0China.\\xa0P. maidis\\xa0are a commercially important pest of\\xa0maize\\xa0and its relatives.In addition to physical plant damage, P. maidis\\xa0is the vector for several species-specific maize viruses, including\\xa0maize stripe virus,\\xa0maize mosaic virusmand the non-pathogenic\\xa0Peregrinus maidis\\xa0reovirus.   ',\n",
       "  'Solutions': 'To control White Flies on corns, there are several methods that can be used, including chemical control, biological control, and cultural control.          \\n\\nChemical Control: Applying insecticides when population is mostly young nymphs is wasteful because useful organisms usually keep their numbers under control.\\n• Indiscriminate use of insecticides causes BPH resurgence.\\n• Selective insecticides can also be used on strategic areas with very high population. However, proper application must be observed. \\n\\nBiological Control: Useful organisms should be encouraged to build-up by avoiding early application of insecticides. Small wasps (e.g. Anagrus sp. and Oligosita sp.) attack eggs.\\n• Mirid bugs prey on eggs.\\n• Dragonflies and damselflies prey on nymphs and adults during flight.\\n• Spiders, water bugs, and lady beetles prey on nymphs and adults.\\n• Dryinids kill nymphs.\\n• Some entomophagous fungi kill nymphs and adults.          \\n\\nCultural Control: • Use varieties that are resistant to planthoppers.\\n• Grow early maturing varieties to have a rice-free period of more than 1 month to break pest cycle.\\n• Plow under ratoons and volunteer crops after harvest as these may serve as inoculum for viral diseases.\\n• Avoid dense planting in areas with history of recent planthopper infestations.\\n• Practice appropriate and balanced fertilizer application. Split nitrogen fertilizer into three applications during crop growth to reduce BPH build-up.\\n• Raise the level of irrigation water periodically to destroy the eggs that are deposited at the lower portions of tillers and in leaf sheaths.\\n• Intensify weeding to reduce hopper density. Straight row planting with proper spacing does not favor multiplication of planthoppers.\\n• Maintain low water level to enhance killing action of useful organisms',\n",
       "  'Causal Organisms': 'pest, insect',\n",
       "  'Affected Plant Parts': 'Leaves',\n",
       "  'Affected Plant Stages': 'Affects flowering, fruiting, seedling and vegetative growing stages of the plants'},\n",
       " {'Crop': 'Corn',\n",
       "  'Scientific': 'Zea mays',\n",
       "  'Stress': 'corn borer midrib feeding',\n",
       "  'Description': 'Corn borer midrib feeding is a type of damage caused by the larvae of the corn borer moth that feed on the midrib of corn leaves. The midrib is the central vein that runs through the center of the leaf.        When corn borer larvae feed on the midrib of corn leaves, they can cause significant damage to the plant. The feeding can cause the leaves to wilt and curl, and it can also make the plant more susceptible to other pests and diseases.        The larvae of the corn borer moth are usually about 1 inch long and can be light pink or greenish-white in color. They can be found feeding on the midrib and inside the stalks or ears of the corn plant.    ',\n",
       "  'Solutions': ' To control Corn borer midrib feeding on corns, there are several methods that can be used, including chemical control, biological control, and cultural control.          \\n\\nChemical Control: There are several insecticides that are effective against corn borer midrib feeding, including chlorpyrifos, bifenthrin, and cypermethrin. It is important to follow the label instructions carefully and apply insecticides when corn borer midrib feeding is in its most susceptible stage.          \\n\\nBiological Control: One such natural enemy is the Trichogramma wasp, which lays its eggs in the eggs of corn borers, preventing them from hatching. Another natural enemy is the Bacillus thuringiensis (Bt) bacterium, which produces a toxin that is lethal to corn borers.          \\n\\nCultural Control: Cultural control involves using practices that make the environment less favorable for corn borer midrib feeding. Some strategies include plowing or disking the soil can disrupt corn borer midrib feeding overwintering sites and reduce populations, planting corn early or late in the season can reduce the risk of corn borer midrib feeding infestations, and choosing corn hybrids that have been bred for resistance to corn borer midrib feeding can reduce the need for chemical or biological control.    ',\n",
       "  'Causal Organisms': 'pest, insect',\n",
       "  'Affected Plant Parts': 'Leaves and Stem',\n",
       "  'Affected Plant Stages': 'Vegetative stage'},\n",
       " {'Crop': 'Corn',\n",
       "  'Scientific': 'Zea mays',\n",
       "  'Stress': 'fall armyworm eggs',\n",
       "  'Description': 'The egg is dome shaped; the base is flattened and the egg curves upward to a broadly rounded point at the apex. The egg measures about 0.4 mm in diameter and 0.3 mm in height. The number of eggs per mass varies considerably but is often 100 to 200, and total egg production per female averages about 1500 with a maximum of over 2000. The eggs are sometimes deposited in layers, but most eggs are spread over a single layer attached to foliage. The female also deposits a layer of grayish scales between the eggs and over the egg mass, imparting a furry or moldy appearance. Duration of the egg stage is only two to three days during the summer months.',\n",
       "  'Solutions': ' To control Corn borer midrib feeding on corns, there are several methods that can be used, including chemical control, biological control, and cultural control.          \\n\\nChemical Control: Insecticides are usually applied to sweet corn in the southeastern states to protect against damage by fall armyworm, sometimes as frequently as daily during the silking stage.\\xa0Insecticides may be applied in the irrigation water if it is applied from overhead sprinklers. Granular insecticides are also applied over the young plants because the particles fall deep into the whorl. Some resistance to insecticides has been noted, with resistance varying regionally.keeping the plants free of larvae during the vegetative period reduced the number of sprays needed during the silking period. The grower practice of concentrating the sprays at the beginning of the silking period instead of spacing the sprays evenly provided little benefit.   \\n\\nBiological Control: Although several pathogens have been shown experimentally to reduce the abundance of fall armyworm larvae in corn, only\\xa0Bacillus thuringiensis\\xa0presently is feasible, and success depends on having the product on the foliage when the larvae first appear. Natural strains of\\xa0Bacillus thuringiensis\\xa0tend not to be very potent, and genetically modified strains improve performance.  \\n\\nCultural Control: The most important cultural practice, employed widely in southern states, is early planting and/or early maturing varieties. Early harvest allows many corn ears to escape the higher armyworm densities that develop later in the season. Reduced tillage seems to have little effect on fall armyworm populations, although delayed invasion by moths of fields with extensive crop residue has been observed, thus delaying and reducing the need for chemical suppression.',\n",
       "  'Causal Organisms': 'pest, insect',\n",
       "  'Affected Plant Parts': 'Leaves',\n",
       "  'Affected Plant Stages': 'fruiting, vegetative stage'},\n",
       " {'Crop': 'Corn',\n",
       "  'Scientific': 'Zea mays',\n",
       "  'Stress': 'adult armyworm',\n",
       "  'Description': 'Armyworms are the heavy-bodied larvae of moths in the family Noctuidae. These nocturnal flyers lay eggs that hatch small larvae, which grow up to 2 inches long and curl up when disturbed. The larvae feed in large numbers, distinguishing them from the cutworm, which feeds singly. While they have varying appearances based on their species, all army caterpillars have a distinctive inverted Y mark on their heads. Egg-laying sites include agricultural crops and the grass blades of pasture grasses, and cool-season grasses. Any plant that is a corn strain or rice strain may be susceptible.',\n",
       "  'Solutions': ' To control Corn borer midrib feeding on corns, there are several methods that can be used, including chemical control, biological control, and cultural control.          \\n\\nChemical Control: Azadirachtin sprays are also quite useful as a method for killing armyworms. Azadirachtin, the naturally-occurring active ingredient that makes\\xa0neem oil\\xa0so effective, smothers most eggs of these worms and kills the larvae. Other horticultural oils like neem oil are also effective against armyworms but have lesser amounts of azadirachtin than a pure form of neem oil does. A spinosad spray is just as effective as the other recommendations listed. Like Bt and azadirachtin, it works against multiple pests including the entire caterpillar family, asparagus beetles, and potato bugs. Ensure you follow the label and instructions for each insecticide’s intended use. \\n\\nBiological Control: An excellent choice for control is two strains of\\xa0BT spray:\\xa0Bacillus thuringiensis\\xa0var.\\xa0kurstaki\\xa0and\\xa0Bacillus thuringiensis\\xa0var.\\xa0aizawai. Available in both a liquid formula in sprays and a powdered version, these bacteria poison caterpillars. They’re effective not only on fall armyworms and others, but on other caterpillars such as\\xa0cabbage loopers,\\xa0cabbage worms,\\xa0tomato hornworms, and\\xa0cutworms. Beneficial nematodes help from within the soil. These microscopic soil-dwellers feast on the pupae of fall armyworms.  Nematodes on the soil surface attack larvae that may be burrowing down to pupate. But they’re not as effective on the soil’s surface unless it’s moist.\\n\\nCultural Control: There are a surprising number of armyworm predators. Cultivating natural enemies is a great integrated pest management strategy, even more than using organic methods. Among these predators are birds, especially crows, starlings, and bobolinks. Some frogs and toads also happily consume worms and adult moths. If you’ve been asking how to get rid of armyworms in grass, especially for your lawn or grain crops, attract these natural predators. However, birds may also pick at grain crops, so place bird netting over your crops if they become a problem.',\n",
       "  'Causal Organisms': 'pest, insect',\n",
       "  'Affected Plant Parts': 'Leaves, Stem',\n",
       "  'Affected Plant Stages': 'vegetative stage'},\n",
       " {'Crop': 'Eggplant',\n",
       "  'Scientific': 'Solanum melongena',\n",
       "  'Stress': 'Cercospora leaf spot',\n",
       "  'Description': 'Cercospora leaf spot is a fungal disease that affects eggplants, causing brown or grayish lesions on the leaves.     These lesions may have a yellow halo around them and can eventually cause the leaves to fall off.',\n",
       "  'Solutions': 'There are several control methods available for managing Cercospora leaf spot on eggplants, including chemical, biological, and cultural control.        \\n\\nChemical Control: The use of fungicides is recommended to control the disease.     The most effective fungicides for controlling Cercospora leaf spot on eggplants include chlorothalonil, copper-based fungicides, and azoxystrobin.     These fungicides should be applied according to label instructions and at regular intervals to ensure effective control.        \\n\\nBiological Control: The use of beneficial microorganisms such as Trichoderma harzianum and Bacillus subtilis has been found to be effective in controlling the disease.     These beneficial microorganisms work by competing with the fungal pathogen for nutrients, and also by producing antifungal compounds that inhibit its growth.        \\n\\nCultural Control: Avoid planting eggplants in the same field for consecutive seasons.     Proper plant spacing can reduce the incidence of the disease by increasing air circulation.     Remove and destroy infected plant debris to reduce the disease inoculum.     Avoid overhead irrigation as it can increase the humidity in the field, which favors disease development.     Proper fertilization can help keep the plants healthy and better able to resist the disease.    ',\n",
       "  'Causal Organisms': 'fungus',\n",
       "  'Affected Plant Parts': 'Leaves',\n",
       "  'Affected Plant Stages': 'vegetative stage'},\n",
       " {'Crop': 'Eggplant',\n",
       "  'Scientific': 'Solanum melongena',\n",
       "  'Stress': 'Powdery Mildew',\n",
       "  'Description': 'Powdery mildew is a fungal disease that affects a wide range of plants, including eggplants.     It appears as a white or grayish powdery coating on the leaves, stems, and sometimes flowers of plants.     As the disease progresses, the coating can become thicker, causing the plant to appear whitewashed.     In severe cases, the leaves can turn yellow, brown, or even black, and the affected parts of the plant may become distorted or stunted.     Powdery mildew thrives in warm, humid environments, and can spread rapidly under these conditions.',\n",
       "  'Solutions': 'There are several control methods available for managing powdery mildew on onions, including chemical, biological, and cultural control.        \\n\\nChemical Control: The use of fungicides is recommended to control the disease.     The most effective fungicides for controlling powdery mildew on eggplants include sulfur, azoxystrobin, and trifloxystrobin.     These fungicides should be applied according to label instructions and at regular intervals to ensure effective control.        \\n\\nBiological Control:Natural enemies of powdery mildew, such as predatory mites, can be used to control its spread.     These natural enemies can be introduced into the eggplant field, either by releasing them or by creating habitats that encourage their presence.     Additionally, several fungal species can be used to control powdery mildew. These fungi infect the powdery mildew and eventually kill it.        \\n\\nCultural Control: Avoid overhead irrigation as it can increase the humidity in the field, which favors disease development.     Proper plant spacing can reduce the incidence of the disease by increasing air circulation.     Ensure that the soil pH is maintained between 6.0 and 7.0, as this can help reduce the incidence of the disease.     Proper fertilization can help keep the plants healthy and better able to resist the disease.     Avoid planting eggplants in the same field for consecutive seasons.    ',\n",
       "  'Causal Organisms': 'fungi',\n",
       "  'Affected Plant Parts': 'Leaves',\n",
       "  'Affected Plant Stages': 'vegetative stage'},\n",
       " {'Crop': 'Eggplant',\n",
       "  'Scientific': 'Solanum melongena',\n",
       "  'Stress': 'Armyworm',\n",
       "  'Description': 'Armyworms are the larvae of certain species of moths that can cause significant damage to eggplants and other crops.     These larvae are usually green, brown, or black in color, with distinct stripes along their body.     They are called \"armyworms\" because they move in large groups, devouring plants as they go.     The larvae can grow up to two inches long and can consume large amounts of foliage, causing defoliation and stunting of the plants.    Armyworms are most active during the night and can be difficult to spot during the day.     Early signs of armyworm infestation on eggplants include chewed leaves, holes in leaves, and stripped stems.     If left unchecked, the armyworms can quickly defoliate entire plants and spread to neighboring crops. ',\n",
       "  'Solutions': 'There are several control methods available for managing Armyworm spot on eggplants, including chemical, biological, and cultural control.       \\n\\nChemical Control: Some common pesticides used to control armyworms in eggplants include carbaryl, malathion, and permethrin.     It is important to follow the instructions on the label and use the appropriate protective equipment while applying the pesticide.     It is also important to use pesticides responsibly and only when necessary, as overuse of pesticides can harm the environment and non-target organisms.        \\n\\nBiological Control: Some natural enemies of armyworms include parasitic wasps, predatory beetles, and birds.     One effective biological control method for armyworms is releasing trichogramma wasps, which lay their eggs inside armyworm eggs, preventing them from hatching.     Another method is releasing nematodes, which infect and kill the armyworms. This method is safe for the environment and does not harm other beneficial insects.        \\n\\nCultural Control: Involves modifying the environment to reduce the population of armyworms.     One method is to remove and destroy any plant debris, as this can provide a breeding ground for armyworms.     Another method is to practice crop rotation, as armyworms prefer to feed on certain plants and may not survive if their preferred host is not present.     Additionally, planting resistant varieties of eggplants can also help control armyworms.',\n",
       "  'Causal Organisms': 'pest, insect',\n",
       "  'Affected Plant Parts': 'Leaves, stem',\n",
       "  'Affected Plant Stages': 'Affects flowering, fruiting, seedling and vegetative growing stages of the plants'},\n",
       " {'Crop': 'Eggplant',\n",
       "  'Scientific': 'Solanum melongena',\n",
       "  'Stress': 'Leaf Miner',\n",
       "  'Description': 'Leaf miners are the larvae of certain fly species that feed on the leaf tissue of eggplants and other plants.     They create winding tunnels or \"mines\" that appear as white or brownish lines on the leaves, and can cause significant damage to the plant\\'s ability to photosynthesize.     Leaf miner damage can result in wilting, stunting, and decreased crop yield.        Leaf miners are difficult to control once they have become established, as the larvae are protected within the leaf tissue. Early detection is key to preventing their spread.     Signs of leaf miner infestation on eggplants include the appearance of winding tunnels on the leaves, and small black flies hovering around the plants.',\n",
       "  'Solutions': 'There are several control methods available for managing Leaf Miner on eggplants, including chemical, biological, and cultural control.    \\n\\nChemical Control: Some common pesticides used to control leaf miners in eggplants include spinosad, neem oil, and pyrethroids.     It is important to follow the instructions on the label and use the appropriate protective equipment while applying the pesticide.     However, repeated use of pesticides can lead to the development of resistance in leaf miners and can also harm beneficial insects, such as bees and other pollinators.        \\n\\nBiological Control: Natural enemies of leaf miners include parasitic wasps, predatory beetles, and spiders.     One effective biological control method for leaf miners is releasing parasitic wasps that lay their eggs inside the leaf miner larvae, killing them.     Another method is releasing predatory mites, which feed on the leaf miner eggs and larvae. This method is safe for the environment and does not harm other beneficial insects.        \\n\\nCultural Control: One method is to remove and destroy any infested leaves, as this can reduce the number of leaf miners.     Another method is to use row covers to prevent adult leaf miners from laying eggs on the plants. Additionally, planting resistant varieties of eggplants can also help control leaf miners.    ',\n",
       "  'Causal Organisms': 'pest, insect',\n",
       "  'Affected Plant Parts': 'Leaves',\n",
       "  'Affected Plant Stages': 'Vegetative Stage'},\n",
       " {'Crop': 'Eggplant',\n",
       "  'Scientific': 'Solanum melongena',\n",
       "  'Stress': 'Aphids',\n",
       "  'Description': 'Aphids are small, soft-bodied insects that can infest eggplants and other plants, feeding on the sap of the plant.     They are typically green, yellow, or black in color and have pear-shaped bodies with long antennae.     Aphids can reproduce rapidly and in large numbers, causing damage to plants by sucking the sap and excreting honeydew, which can attract ants and lead to the growth of black sooty mold.        Signs of aphid infestation on eggplants include the presence of the insects themselves, distorted or curled leaves, and the appearance of honeydew or sooty mold on the leaves.     Aphids can also transmit viral diseases to plants, further reducing their health and yield.',\n",
       "  'Solutions': 'There are several control methods available for managing Aphids on eggplants, including chemical, biological, and cultural control.    Chemical Control: Some common pesticides used to control aphids in eggplants include insecticidal soaps, neem oil, and pyrethroids.     It is important to follow the instructions on the label and use the appropriate protective equipment while applying the pesticide. However, repeated use of pesticides can lead to the development of resistance in aphids and can also harm beneficial insects, such as bees and other pollinators.        Biological Control: Some natural enemies of aphids include lady beetles, lacewings, and parasitic wasps. One effective biological control method for aphids is releasing lady beetles, which feed on the aphids and their eggs. Another method is releasing lacewings, which feed on both aphids and other pest insects. This method is safe for the environment and does not harm other beneficial insects.        Cultural Control: One method is to remove and destroy any infested leaves or plants, as this can reduce the number of aphids. Another method is to use reflective mulches, which can disorient aphids and prevent them from finding the plants. Additionally, planting companion plants, such as marigolds or garlic, can also help control aphids.    ',\n",
       "  'Causal Organisms': nan,\n",
       "  'Affected Plant Parts': nan,\n",
       "  'Affected Plant Stages': nan},\n",
       " {'Crop': 'Eggplant',\n",
       "  'Scientific': 'Solanum melongena',\n",
       "  'Stress': 'Flea beetle',\n",
       "  'Description': 'Flea beetles are small, jumping insects that can cause damage to eggplants and other plants by feeding on the leaves and stems.     They are typically black or brown in color and are named for their ability to jump like fleas when disturbed.     Flea beetles can cause significant damage to eggplants, especially when populations are high.        Signs of flea beetle damage on eggplants include small holes in the leaves, a \"shot hole\" appearance of the foliage, and wilting or stunted growth.     Flea beetles can also transmit bacterial wilt disease to eggplants, further reducing their health and yield.',\n",
       "  'Solutions': 'There are several control methods available for managing Flea beetle on eggplants, including chemical, biological, and cultural control.    \\n\\nChemical Control: Some common pesticides used to control flea beetles in eggplants include carbaryl, pyrethroids, and neonicotinoids. It is important to follow the instructions on the label and use the appropriate protective equipment while applying the pesticide. However, repeated use of pesticides can lead to the development of resistance in flea beetles and can also harm beneficial insects, such as bees and other pollinators.        \\n\\nBiological Control: Natural enemies of flea beetles include parasitic wasps and predatory insects like ladybugs. One effective biological control method for flea beetles is releasing beneficial nematodes in the soil. These microscopic worms will attack the larvae of the flea beetles, reducing their population.        \\n\\nCultural Control: One method is to use row covers to physically exclude the beetles from the plants. Another method is to plant eggplants earlier in the season, as flea beetles tend to be more active in late spring and early summer. Additionally, removing any weeds or debris around the plants can also help reduce the population of flea beetles.    ',\n",
       "  'Causal Organisms': 'pest, insect',\n",
       "  'Affected Plant Parts': 'Leaves',\n",
       "  'Affected Plant Stages': 'Vegetative Stage'},\n",
       " {'Crop': 'Eggplant',\n",
       "  'Scientific': 'Solanum melongena',\n",
       "  'Stress': 'White Flies',\n",
       "  'Description': \"Whiteflies are small, sap-sucking insects that can infest eggplants and other plants, causing damage to the foliage and reducing the plant's ability to photosynthesize.     They are named for their white, moth-like appearance and are typically found on the undersides of leaves.     Whiteflies can also excrete honeydew, which can lead to the growth of sooty mold on the leaves.        Signs of whitefly infestation on eggplants include the presence of the insects themselves, distorted or yellowed leaves, and the appearance of honeydew or sooty mold on the leaves.     Whiteflies can also transmit viral diseases to plants, further reducing their health and yield.\",\n",
       "  'Solutions': \"There are several control methods available for managing White Flies on eggplants, including chemical, biological, and cultural control.    \\n\\nChemical Control: Using chemical insecticides can help control whiteflies, but it's important to use them carefully and in accordance with the instructions on the label. Some insecticides that may be effective against whiteflies on eggplants include neonicotinoids, pyrethroids, and insecticidal soaps. Always follow the instructions on the label carefully and avoid spraying during the heat of the day, which can cause damage to the plants. Make sure to follow any recommended waiting periods before harvesting.       \\n\\nBiological Control: Using natural predators or parasites to control the whitefly population. Some examples of biological control agents that can be effective against whiteflies on eggplants include ladybugs, lacewings, and parasitic wasps. These can be purchased from garden supply stores or online and released onto your eggplants. Some companion plants such as marigolds or alyssum can also attract beneficial insects to the garden.        \\n\\nCultural Control: Remove weeds around your eggplants, which can harbor whiteflies. You can also try using row covers or netting to physically block whiteflies from accessing your plants. Regularly checking your plants for signs of infestation and removing any affected leaves can also help prevent the spread of whiteflies.    \",\n",
       "  'Causal Organisms': 'pest, insect',\n",
       "  'Affected Plant Parts': 'Leaves',\n",
       "  'Affected Plant Stages': 'Vegetative Stage'},\n",
       " {'Crop': 'Eggplant',\n",
       "  'Scientific': 'Solanum melongena',\n",
       "  'Stress': 'Potato Beetle',\n",
       "  'Description': 'Potato beetles, also known as Colorado potato beetles, are a common pest of eggplants and other members of the nightshade family.     They are yellow and black striped and have a distinctive hard shell. Adult beetles and their larvae can cause significant damage to eggplant foliage, feeding on the leaves and stems of the plant.        Signs of potato beetle infestation on eggplants include the presence of the insects themselves, skeletonized leaves, and defoliation of the plant.     Potato beetles can also transmit viral diseases to plants, further reducing their health and yield.    ',\n",
       "  'Solutions': 'There are several control methods available for managing Potato Beetle on eggplants, including chemical, biological, and cultural control.    \\n\\nChemical Control: Insecticides that may be effective include pyrethroids, neonicotinoids, and spinosad. Always follow the instructions on the label carefully and avoid spraying during the heat of the day, which can cause damage to the plants. Make sure to follow any recommended waiting periods before harvesting.        \\n\\nBiological Control: Examples of biological control agents that can be effective against potato beetles on eggplants include ladybugs, lacewings, and parasitic wasps. These can be purchased from garden supply stores or online and released onto your eggplants. Some companion plants such as dill, cilantro, or parsley can attract beneficial insects to the garden.        \\n\\nCultural Control: Practice crop rotation and avoid planting eggplants in the same location each year. You can also try using row covers or netting to physically block potato beetles from accessing your plants. Regularly checking your plants for signs of infestation and removing any affected leaves can also help prevent the spread of potato beetles.    ',\n",
       "  'Causal Organisms': 'pest, insect',\n",
       "  'Affected Plant Parts': 'Leaves',\n",
       "  'Affected Plant Stages': 'Vegetative Stage'},\n",
       " {'Crop': 'Eggplant',\n",
       "  'Scientific': 'Solanum melongena',\n",
       "  'Stress': 'Leaf roller moth',\n",
       "  'Description': \"Leaf roller moth is a common pest that feeds on eggplants, causing significant damage to the plants.     The larvae of the moth feed on the leaves, creating characteristic tunnels or rolled-up leaves.     The damage caused by leaf roller moths can lead to reduced yields and poor plant growth.        To control leaf roller moths on eggplants, it's important to implement an integrated pest management (IPM) approach that combines different control methods.     This can include cultural control methods, such as crop rotation and sanitation, as well as biological control methods, such as the use of natural predators or parasites. Chemical control methods can also be used, but should be used judiciously to minimize the impact on non-target organisms and the environment.    \",\n",
       "  'Solutions': \"There are several control methods available for managing Leaf roller moth on eggplants, including chemical, biological, and cultural control.        \\n\\nChemical Control: There are many chemical insecticides available that can be used to control leaf roller moths, such as pyrethroids, neonicotinoids, and organophosphates. However, it's important to use these pesticides judiciously and follow the label instructions carefully to avoid harming non-target organisms and to minimize the environmental impact.        \\n\\nBiological Control: One example of biological control is the use of Trichogramma wasps, which lay their eggs in the eggs of the leaf roller moths, preventing them from hatching. Other natural predators, such as lacewings, ladybugs, and parasitic wasps, can also be used to control leaf roller moths.       \\n\\nCultural Control: Involves modifying the environment to make it less favorable for the development and survival of leaf roller moths. This can include practices such as crop rotation, weed control, and sanitation. For example, removing plant debris and fallen fruits from the field can help reduce the number of overwintering sites for the leaf roller moth.    \",\n",
       "  'Causal Organisms': 'pest, insect',\n",
       "  'Affected Plant Parts': 'Leaves',\n",
       "  'Affected Plant Stages': 'Vegetative Stage'},\n",
       " {'Crop': 'Onion',\n",
       "  'Scientific': 'Allium cepa',\n",
       "  'Stress': 'Botrytis leaf blight',\n",
       "  'Description': 'Botrytis leaf blight -  sometimes also referred to as Botrytis leaf spot, occurs on onions.     White, sunken spots on leaves are usually the first sign of infection. Spots are small, oval-shaped, and range from 0.06 to 0.25 inch (0.5â€“6 mm) long.     They sometimes have a light-green halo and may appear water-soaked. The epidermis around the spots may be silvery.     When numerous spots are present, leaf tips die back, and whole leaves may eventually die.',\n",
       "  'Solutions': 'There are several control methods available for managing Botrytis leaf blight in onions, including chemical, biological, and cultural control.        \\n\\nChemical Control: Copper fungicides: Copper fungicides are a common chemical treatment option for Botrytis Blight.     They disrupt the fungal cell walls and prevent the fungus from growing.Regular Pesticides:     Many effective pesticides against other fungi can also help control Botrytis Blight.    Chlorothalonil: Chlorothalonil is a broad-spectrum fungicide that can prevent and control Botrytis Blight.        \\n\\nBiological Control: Biological control is an environmentally friendly method of managing Botrytis leaf blight in onions.     The use of microbial agents such as Trichoderma spp., Bacillus subtilis, and Pseudomonas fluorescens has been found to be effective in controlling the disease.     These microbial agents work by competing with the pathogen for nutrients and space, and also by producing antimicrobial compounds that inhibit the growth of the pathogen.        \\n\\nCultural Control: Botrytis leaf blight, sometimes also referred to as Botrytis leaf spot, occurs on onions.     White, sunken spots on leaves are usually the first sign of infection. Spots are small, oval-shaped, and range from 0.06 to 0.25 inch (0.5â€“6 mm) long.     They sometimes have a light-green halo and may appear water-soaked. The epidermis around the spots may be silvery.     When numerous spots are present, leaf tips die back, and whole leaves may eventually die.',\n",
       "  'Causal Organisms': 'Fungus',\n",
       "  'Affected Plant Parts': 'fruit, leaves, petals, and succulent stems',\n",
       "  'Affected Plant Stages': ' fruiting and vegetative growing stages of the plants'},\n",
       " {'Crop': 'Onion',\n",
       "  'Scientific': 'Allium cepa',\n",
       "  'Stress': 'Downy Mildew',\n",
       "  'Description': 'Downy Mildew - At the field level, symptoms of downy mildew are first noticed as circular clumps of yellowed plants that are a few to many feet in diameter.     As the disease progresses, the yellowing patterns often enlarge in the direction of prevailing winds.    On individual plants, leaf tissue becomes pale green, then tan to brown or yellow, and finally collapses. Lesions may exhibit a violet-to-purple color.     When leaves are wet, or when humidity is very high, signs of Peronospora destructor are visible on the surface of older leaves as fine, furry, grayish-white growths.     These growths may later turn purple or brown as a result of a secondary infection of the lesion by other fungi,     such as those that cause PURPLE BLOTCH AND STEMPYLIUM LEAF BLIGHT, as these fungi can produce purple pigmentation and dark spores.    ',\n",
       "  'Solutions': 'There are several control methods available for managing Downy mildew in onions, including chemical, biological, and cultural control.        \\n\\nChemical Control: Spray at the first sign of the disease. After the first spray, scout fields and make subsequent applications when weather conditions are favorable for the disease.     Rotate with fungicides from different mode-of-action groups to reduce the risk of fungicide resistance development.     Fungicides may be applied on a 7-day schedule (only as consistent with the label), if necessary.     For all fungicides, thorough coverage of foliage is important in the control of downy mildew.     Apply appropriate foliar fungicides taking care to apply thoroughly to waxy leaves.     Chlorothalonil and mancozeb are the main protectant fungicides for downy mildew.        \\n\\nBiological Control: Seed treatment, as well as leaf spraying with Pseudomonas fluorescens, can be an effective measure for controlling downy mildew (4 to 5 g per kg of seed).     Seeds treated with this beneficial bacteria increase seedling strength and inhibit sporulation of the downy mildew pathogen.     Since the effectiveness is markedly higher, it is recommended to control downy mildew with P. fluorescens through seed treatment and leaf spraying.        \\n\\nCultural Control: Use a 3-year rotation away from Allium crops in fields where the disease has occurred.     Use disease-free bulbs, sets, and seed. Remove and destroy material of any Allium plants, including residue from the previous crop, volunteer plants, and culls from storage.     Avoid entering fields when leaves are wet. Avoid injuring the crop with herbicides and other.',\n",
       "  'Causal Organisms': 'Fungus',\n",
       "  'Affected Plant Parts': 'underside of the leaf',\n",
       "  'Affected Plant Stages': 'underside of the leaf'},\n",
       " {'Crop': 'Onion',\n",
       "  'Scientific': 'Allium cepa',\n",
       "  'Stress': 'Beet Armyworm',\n",
       "  'Description': 'Beet Armyworm -  is an early season pest that attacks grass crops like small grains and corn. It is not a common economic pest,     but occasionally can occur in high numbers and cause severe damage to seedlings and whorl stage corn. Armyworm, in field corn,     is always associated with the presence of grassy weeds within fields prior to planting or during the season. Moths will not lay eggs on corn plants but prefer     other grass plants.',\n",
       "  'Solutions': 'There are several control methods available for managing armyworms in onions, including chemical, biological, and cultural control.        \\n\\nChemical Control: Hawaiian populations of beet armyworm have been easily controlled with insecticides in contrast to mainland populations. Bacterial insecticides (Bacillus thuringiensis) are more effective today then in the past because of deliberate selection for activity against this pest. In using insecticides, it is very important that users achieve good coverage of targeted plants and make applications when the pest is in early larval stages.\\n\\nBiological Control: Little is known about the occurrence and importance of natural enemies in Hawaii. Frontina archippivora is known to parasitize the pest, but its impact on control is unknown.\\n\\nCultural Control: Adoption of certain cultural practices might be helpful in reducing the impact of this pest. Management of broad leaf weeds and rapid disposal of crop residues after harvest are the most important practices. ',\n",
       "  'Causal Organisms': 'pest, insect',\n",
       "  'Affected Plant Parts': 'seedlings, consume large portions of leaves',\n",
       "  'Affected Plant Stages': 'seedling and vegetative growing stages of the plants'},\n",
       " {'Crop': 'Onion',\n",
       "  'Scientific': 'Allium cepa',\n",
       "  'Stress': 'Leaf Miners Trail',\n",
       "  'Description': '    Leafminer - Adults have yellow heads, knees, sides of abdomens; otherwise mostly dark gray, just over 1/10 inch long.    Pupae are red-brown, slightly longer than adults.    Larvae are white to yellow, up to about 1/3 inch long.    Eggs are white, about 1/50 inch long, found on leaves.    Adult feeding holes found in rows, with milky white sap coming out.    ',\n",
       "  'Solutions': 'There are several control methods available for managing leaf miners in onions, including chemical, biological, and cultural control.        \\n\\nChemical Control: Pyrethrin, an organic pesticide, will kill leaf miners as they leave the egg and enter the leaf.     Since they have to chew into the leaf, they ingest the poison with the leaf and die.     However, pyrethrin also kills good insects such as bees and leaf miner predators.     Use to spot-treat concentrations of leaf miners rather than blanket the whole garden. Be sure you get it on the bottom side of the leaf.        \\n\\nBiological Control: is an environmentally friendly method of managing leaf miners in onions.     The use of parasitic wasps such as Diglyphus isaea has been found to be effective in controlling the pest.     These parasitic wasps work by laying their eggs inside the pest, which leads to its death.        \\n\\nCultural Control: is an effective and environmentally friendly method of managing leaf miners on onions,     which involves the adoption of various agricultural practices such as crop rotation, sanitation, mulching, plant spacing,     and plant selection to reduce the incidence of the pest, promote crop health, and ultimately increase yield.    ',\n",
       "  'Causal Organisms': 'pest, insect',\n",
       "  'Affected Plant Parts': 'Leaves',\n",
       "  'Affected Plant Stages': 'Vegetative Stage'},\n",
       " {'Crop': 'Tomato',\n",
       "  'Scientific': 'Solanum lycopersicum',\n",
       "  'Stress': 'Powdery Mildew',\n",
       "  'Description': \"Powdery mildew is a common fungal disease that can affect tomato plants, causing significant damage to the leaves, stems, and fruits. The disease is characterized by a white,     powdery growth on the surface of the plant, which can spread rapidly and cause the plant to become stunted and weakened. Some common symptoms of powdery mildew on tomato plants include white,     powdery growth on the leaves, stems, and fruits of the plant, yellowing of the leaves and premature leaf drop, curling of the leaves and distortion of the plant's growth, and stunted growth and reduced yields of fruit.    \",\n",
       "  'Solutions': 'To control Powdery Mildew on corns, there are several methods that can be used, including chemical control, biological control, and cultural control.         \\n\\nChemical control: There are several fungicides available that can control powdery mildew on tomato plants, including copper fungicides, sulfur fungicides, and fungicides containing potassium bicarbonate or neem oil.     Follow the instructions on the fungicide label carefully, as overuse or misuse can lead to plant damage or residue on the tomatoes. Avoid applying fungicides during the hottest part of the day or when the plants are water-stressed.        \\n\\nBiological control: Biological control involves the use of natural enemies to control powdery mildew. One effective method is to apply a biofungicide containing Bacillus subtilis, a beneficial bacterium that can prevent powdery mildew from spreading.     Another option is to use predatory mites, such as Phytoseiulus persimilis or Neoseiulus californicus, which feed on powdery mildew and other plant pests.        \\n\\nCultural control: Planting resistant tomato varieties that are less susceptible to powdery mildew. Providing proper air circulation by spacing plants adequately and removing any plant debris or weeds that can harbor the fungus.     Watering the plants in the morning and avoiding overhead watering, which can promote fungal growth. Fertilizing the plants properly, as excessive nitrogen can increase susceptibility to powdery mildew. Using reflective mulches or coatings, such as kaolin clay, which can reduce the incidence of powdery mildew by reflecting sunlight and reducing leaf surface temperatures.',\n",
       "  'Causal Organisms': 'Fungi',\n",
       "  'Affected Plant Parts': 'surfaces of leaves, on shoots, and sometimes on flowers and fruit',\n",
       "  'Affected Plant Stages': 'Affects flowering, fruiting, and vegetative growing stages of the plants'},\n",
       " {'Crop': 'Tomato',\n",
       "  'Scientific': 'Solanum lycopersicum',\n",
       "  'Stress': 'Black Mold',\n",
       "  'Description': 'Black mold on tomato plants is typically caused by a fungal infection, commonly known as \"black mold\" or \"black spot.\" The fungus responsible for this condition is called Alternaria solani.     Symptoms of black mold on tomato plants may include black or brownish lesions or spots on leaves, stems, and fruit. These spots may be circular or irregular in shape, and may be raised or sunken.     The infected tissue may become dry and papery, and may eventually crack or crumble. As the infection progresses, the leaves may yellow and die, and the fruit may become distorted or mummified.     In severe cases, the plant may become stunted and eventually die. Black mold on tomatoes can spread rapidly under warm and humid conditions, making it important to control the infection as soon as it is detected.    ',\n",
       "  'Solutions': 'To control Black Mold on corns, there are several methods that can be used, including chemical control, biological control, and cultural control.    \\n\\nChemical control: There are several fungicides available that can control black mold on tomato plants, including copper fungicides, sulfur fungicides, and fungicides containing triadimefon or myclobutanil. Follow the instructions on the fungicide label carefully, as overuse or misuse can lead to plant damage or residue on the tomatoes. Avoid applying fungicides during the hottest part of the day or when the plants are water-stressed.         \\n\\nBiological control: One effective method is to apply a biofungicide containing Bacillus subtilis, a beneficial bacterium that can prevent black mold from spreading. Another option is to use predatory mites, such as Phytoseiulus persimilis or Neoseiulus californicus, which feed on black mold and other plant pests.         \\n\\nCultural control: Reducing insect infestations, as insects such as aphids and whiteflies secrete a sticky substance called honeydew, which can promote the growth of black mold. Washing off the honeydew and black mold with a strong stream of water. Pruning infected branches or leaves and disposing of them in the trash. Using reflective mulches or coatings, such as kaolin clay, which can reduce the incidence of black mold by reflecting sunlight and reducing leaf surface temperatures.    ',\n",
       "  'Causal Organisms': 'fungus',\n",
       "  'Affected Plant Parts': 'Leaves',\n",
       "  'Affected Plant Stages': 'Vegetative Stage'},\n",
       " {'Crop': 'Tomato',\n",
       "  'Scientific': 'Solanum lycopersicum',\n",
       "  'Stress': 'Fusarium Wilt',\n",
       "  'Description': 'Fusarium wilt is a common fungal disease that affects tomato plants. The disease is caused by the fungus Fusarium oxysporum and can be devastating to tomato crops.     Symptoms of fusarium wilt on tomato plants usually begin with yellowing and wilting of the lower leaves, which may appear to be scattered throughout the plant. The yellowing may progress to the entire plant, causing it to wilt and eventually die.        The fungus can survive in the soil for several years, making crop rotation an important management strategy. Fusarium wilt can also be transmitted through infected seeds, transplants, and soil. The fungus invades the roots of the tomato plant, interfering with the uptake of water and nutrients, which can lead to wilting and eventual death.    ',\n",
       "  'Solutions': 'To control Fusarium Wilt on corns, there are several methods that can be used, including chemical control, biological control, and cultural control.    \\n\\nChemical control: There are no chemicals available to cure fusarium wilt, but some fungicides can help reduce the severity of the disease. Fungicides containing chlorothalonil, mancozeb, or copper can help protect plants from fungal infections. Follow the instructions on the fungicide label carefully, as overuse or misuse can lead to plant damage or residue on the tomatoes.         \\n\\nBiological control: One effective method is to use soil-borne beneficial microorganisms, such as Trichoderma spp. or Bacillus subtilis, which can suppress the growth of the fungus that causes fusarium wilt. Another option is to use soil solarization, a process that involves covering the soil with plastic to trap heat and kill the fungus.         \\n\\nCultural control: Planting resistant tomato varieties that are less susceptible to fusarium wilt. Rotating crops, as the fungus can survive in the soil for several years and infect future tomato crops. Removing and destroying infected plants and any plant debris that can harbor the fungus. Avoiding overwatering and watering at the base of the plants rather than overhead watering, which can promote fungal growth. Using sterilized soil or soilless growing media to start seedlings. Applying organic matter, such as compost, to the soil to promote a healthy microbial community.    ',\n",
       "  'Causal Organisms': 'Fungus',\n",
       "  'Affected Plant Parts': 'Leaves, stem, and roots',\n",
       "  'Affected Plant Stages': 'seedling and vegetative growing stages of the plants'},\n",
       " {'Crop': 'Tomato',\n",
       "  'Scientific': 'Solanum lycopersicum',\n",
       "  'Stress': 'Leaf Miner',\n",
       "  'Description': \"Leaf miner is a common pest that affects tomato plants, as well as many other plants. The pest is a small, flying insect that lays eggs on the surface of the tomato plant leaves. When the eggs hatch, the larvae tunnel into the leaves, creating winding, white or yellowish-brown tracks or tunnels. These tunnels can cause significant damage to the leaves, interfering with the plant's ability to photosynthesize and produce healthy fruit.        In addition to the visible tunnels, leaf miner damage can cause the leaves to become distorted or curled, which can further impact the plant's health. Severe infestations can result in stunted growth and reduced yield. Leaf miners typically thrive in warm, humid conditions, and can be difficult to control once established.    \",\n",
       "  'Solutions': 'To control Leaf Miner on corns, there are several methods that can be used, including chemical control, biological control, and cultural control.    \\n\\nChemical control: There are several insecticides available that can control leaf miners on tomato plants, including spinosad, abamectin, and cyromazine. Follow the instructions on the insecticide label carefully, as overuse or misuse can lead to plant damage or residue on the tomatoes. Avoid applying insecticides during the hottest part of the day or when the plants are water-stressed.         \\n\\nBiological control: Biological control involves the use of natural enemies to control leaf miners. One effective method is to release parasitic wasps, such as Diglyphus spp. or Chrysocharis spp., which lay their eggs in the leaf miner larvae, killing them. Another option is to use predatory mites, such as Phytoseiulus persimilis or Neoseiulus californicus, which feed on leaf miners and other plant pests.         \\n\\nCultural control: Removing and destroying any infected leaves or plant debris that can harbor the insects. Using reflective mulches or coatings, such as aluminum foil or silver plastic, which can confuse the leaf miners and reduce their attraction to the plants. Using yellow sticky traps, which can attract and trap adult leaf miner flies. Planting resistant tomato varieties that are less susceptible to leaf miners.    ',\n",
       "  'Causal Organisms': 'pest, insect',\n",
       "  'Affected Plant Parts': 'Leaves',\n",
       "  'Affected Plant Stages': 'Vegetative Stage'}]"
      ]
     },
     "execution_count": 13,
     "metadata": {},
     "output_type": "execute_result"
    },
    {
     "ename": "",
     "evalue": "",
     "output_type": "error",
     "traceback": [
      "\u001b[1;31mThe Kernel crashed while executing code in the the current cell or a previous cell. Please review the code in the cell(s) to identify a possible cause of the failure. Click <a href='https://aka.ms/vscodeJupyterKernelCrash'>here</a> for more info. View Jupyter <a href='command:jupyter.viewOutput'>log</a> for further details."
     ]
    }
   ],
   "source": [
    "stress_details"
   ]
  },
  {
   "cell_type": "code",
   "execution_count": 1,
   "metadata": {},
   "outputs": [],
   "source": [
    "import sqlite3"
   ]
  },
  {
   "attachments": {},
   "cell_type": "markdown",
   "metadata": {},
   "source": [
    "cREATE TABLE"
   ]
  },
  {
   "cell_type": "code",
   "execution_count": 7,
   "metadata": {},
   "outputs": [],
   "source": [
    "conn = sqlite3.connect(\"Userdatabase.db\")\n",
    "cursor = conn.cursor()\n",
    "\n",
    "create_table_query = '''\n",
    "CREATE TABLE IF NOT EXISTS history (\n",
    "    id INTEGER PRIMARY KEY AUTOINCREMENT,\n",
    "    user TEXT,\n",
    "    image BLOB,\n",
    "    crop TEXT,\n",
    "    stress TEXT,\n",
    "    confidence REAL,\n",
    "    x1 INTEGER,\n",
    "    y1 INTEGER,\n",
    "    x2 INTEGER,\n",
    "    y2 INTEGER,\n",
    "    date TEXT,\n",
    "    time TEXT\n",
    ");\n",
    "'''\n",
    "\n",
    "cursor.execute(create_table_query)\n",
    "conn.commit()\n",
    "\n",
    "cursor.close()\n",
    "conn.close()"
   ]
  },
  {
   "cell_type": "code",
   "execution_count": 9,
   "metadata": {},
   "outputs": [
    {
     "name": "stdout",
     "output_type": "stream",
     "text": [
      "[('japper', 'Jasper', 'Ortega', 'sniper1234', None, None)]\n",
      "('japper', 'Jasper', 'Ortega', 'sniper1234', None, None)\n"
     ]
    }
   ],
   "source": [
    "import sqlite3\n",
    "Username = \"japper\"\n",
    "\n",
    "# Connect to the SQLite database\n",
    "# Replace 'your_database.db' with the actual database file name\n",
    "conn = sqlite3.connect('Userdatabase.db')\n",
    "\n",
    "# Create a cursor object\n",
    "cursor = conn.cursor()\n",
    "\n",
    "# Execute a query to retrieve the table names\n",
    "cursor.execute(\"SELECT * FROM users WHERE Username=?\", (Username,))\n",
    "\n",
    "# Fetch all the table names\n",
    "tables = cursor.fetchall()\n",
    "print(tables)\n",
    "# Print the table names\n",
    "for table in tables:\n",
    "    print(table)\n",
    "\n",
    "# Close the cursor and the database connection\n",
    "cursor.close()\n",
    "conn.close()"
   ]
  },
  {
   "cell_type": "code",
   "execution_count": 14,
   "metadata": {},
   "outputs": [],
   "source": [
    "conn = sqlite3.connect('Userdatabase.db')\n",
    "cursor = conn.cursor()\n",
    "\n",
    "# DROP TABLE statement\n",
    "drop_table_query = '''\n",
    "DELETE FROM history;\n",
    "'''\n",
    "\n",
    "# Execute the DROP TABLE statement\n",
    "cursor.execute(drop_table_query)\n",
    "\n",
    "# Commit the changes to the database\n",
    "conn.commit()\n",
    "\n",
    "cursor.close()\n",
    "conn.close()"
   ]
  },
  {
   "cell_type": "code",
   "execution_count": null,
   "metadata": {},
   "outputs": [],
   "source": []
  }
 ],
 "metadata": {
  "kernelspec": {
   "display_name": "cudaconda",
   "language": "python",
   "name": "python3"
  },
  "language_info": {
   "codemirror_mode": {
    "name": "ipython",
    "version": 3
   },
   "file_extension": ".py",
   "mimetype": "text/x-python",
   "name": "python",
   "nbconvert_exporter": "python",
   "pygments_lexer": "ipython3",
   "version": "3.9.0"
  },
  "orig_nbformat": 4
 },
 "nbformat": 4,
 "nbformat_minor": 2
}
