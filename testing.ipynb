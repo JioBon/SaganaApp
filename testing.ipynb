{
 "cells": [
  {
   "cell_type": "code",
   "execution_count": 28,
   "metadata": {},
   "outputs": [],
   "source": [
    "from Crop import Crop"
   ]
  },
  {
   "cell_type": "code",
   "execution_count": 38,
   "metadata": {},
   "outputs": [],
   "source": [
    "onion_stress = [\"Botrytis leaf blight\", \"Downy Mildew\", \"Armyworm\", \"Leaf Miner\"]\n",
    "onion_stressDesc = [ \n",
    "    \"\"\"Botrytis leaf blight, sometimes also referred to as Botrytis leaf spot, occurs on onions. \n",
    "    White, sunken spots on leaves are usually the first sign of infection. Spots are small, oval-shaped, and range from 0.06 to 0.25 inch (0.5–6 mm) long. \n",
    "    They sometimes have a light-green halo and may appear water-soaked. The epidermis around the spots may be silvery. \n",
    "    When numerous spots are present, leaf tips die back, and whole leaves may eventually die.\"\"\".strip(),\n",
    "    \"\"\"\n",
    "    At the field level, symptoms of downy mildew are first noticed as circular clumps of yellowed plants that are a few to many feet in diameter. \n",
    "    As the disease progresses, the yellowing patterns often enlarge in the direction of prevailing winds.\n",
    "    On individual plants, leaf tissue becomes pale green, then tan to brown or yellow, and finally collapses. Lesions may exhibit a violet-to-purple color. \n",
    "    When leaves are wet, or when humidity is very high, signs of Peronospora destructor are visible on the surface of older leaves as fine, furry, grayish-white growths. \n",
    "    These growths may later turn purple or brown as a result of a secondary infection of the lesion by other fungi, \n",
    "    such as those that cause PURPLE BLOTCH AND STEMPYLIUM LEAF BLIGHT, as these fungi can produce purple pigmentation and dark spores.\n",
    "    \"\"\".strip(),\n",
    "    \"\"\"\n",
    "\n",
    "    \"\"\".strip(),\n",
    "    \"\"\"\n",
    "    Adults have yellow heads, knees, sides of abdomens; otherwise mostly dark gray, just over 1/10 inch long.\n",
    "    Pupae are red-brown, slightly longer than adults.\n",
    "    Larvae are white to yellow, up to about 1/3 inch long.\n",
    "    Eggs are white, about 1/50 inch long, found on leaves.\n",
    "    Adult feeding holes found in rows, with milky white sap coming out.\n",
    "    \"\"\".strip()\n",
    "    ]\n",
    "onion_stressSoln = [\n",
    "    [\"apply appropriate fungicide sprays\".strip()],\n",
    "    [\"\"\"\n",
    "    Spray at the first sign of the disease. After the first spray, scout fields and make subsequent applications when weather conditions are favorable for the disease. \n",
    "    Rotate with fungicides from different mode-of-action groups to reduce the risk of fungicide resistance development. \n",
    "    Fungicides may be applied on a 7-day schedule (only as consistent with the label), if necessary. \n",
    "    For all fungicides, thorough coverage of foliage is important in the control of downy mildew. \n",
    "    apply appropriate foliar fungicides taking care to apply thoroughly to waxy leaves. \n",
    "    Chlorothalonil and mancozeb are the main protectant fungicides for downy mildew.\n",
    "    \"\"\".strip()],\n",
    "    [\"\".strip()],\n",
    "    [\"\"\"\n",
    "    Pyrethrin This organic pesticide will kill leaf miners as they leave the egg and enter the leaf. \n",
    "    Since they have to chew into the leaf, they ingest the poison with the leaf and die. \n",
    "    However, pyrethrin also kills good insects such as bee and leaf miner preditors. \n",
    "    Use to spot treat concentrations of leaf miners rather than blanket the whole garden with it. \n",
    "    Be sure you get it on the bottom side of the leaf.\n",
    "    \"\"\".strip()]\n",
    "]\n",
    "onion_data = Crop(\"Onion\", \"Allium cepa\", onion_stress,  onion_stressDesc, onion_stressSoln)"
   ]
  },
  {
   "cell_type": "code",
   "execution_count": 39,
   "metadata": {},
   "outputs": [
    {
     "name": "stdout",
     "output_type": "stream",
     "text": [
      "[{'Crop': 'Onion', 'Scientific': 'Allium cepa', 'Stress': 'Botrytis leaf blight', 'Description': 'Botrytis leaf blight, sometimes also referred to as Botrytis leaf spot, occurs on onions. \\n    White, sunken spots on leaves are usually the first sign of infection. Spots are small, oval-shaped, and range from 0.06 to 0.25 inch (0.5–6 mm) long. \\n    They sometimes have a light-green halo and may appear water-soaked. The epidermis around the spots may be silvery. \\n    When numerous spots are present, leaf tips die back, and whole leaves may eventually die.', 'Solutions': ['apply appropriate fungicide sprays']}, {'Crop': 'Onion', 'Scientific': 'Allium cepa', 'Stress': 'Downy Mildew', 'Description': 'At the field level, symptoms of downy mildew are first noticed as circular clumps of yellowed plants that are a few to many feet in diameter. \\n    As the disease progresses, the yellowing patterns often enlarge in the direction of prevailing winds.\\n    On individual plants, leaf tissue becomes pale green, then tan to brown or yellow, and finally collapses. Lesions may exhibit a violet-to-purple color. \\n    When leaves are wet, or when humidity is very high, signs of Peronospora destructor are visible on the surface of older leaves as fine, furry, grayish-white growths. \\n    These growths may later turn purple or brown as a result of a secondary infection of the lesion by other fungi, \\n    such as those that cause PURPLE BLOTCH AND STEMPYLIUM LEAF BLIGHT, as these fungi can produce purple pigmentation and dark spores.', 'Solutions': ['Spray at the first sign of the disease. After the first spray, scout fields and make subsequent applications when weather conditions are favorable for the disease. \\n    Rotate with fungicides from different mode-of-action groups to reduce the risk of fungicide resistance development. \\n    Fungicides may be applied on a 7-day schedule (only as consistent with the label), if necessary. \\n    For all fungicides, thorough coverage of foliage is important in the control of downy mildew. \\n    apply appropriate foliar fungicides taking care to apply thoroughly to waxy leaves. \\n    Chlorothalonil and mancozeb are the main protectant fungicides for downy mildew.']}, {'Crop': 'Onion', 'Scientific': 'Allium cepa', 'Stress': 'Armyworm', 'Description': '', 'Solutions': ['']}, {'Crop': 'Onion', 'Scientific': 'Allium cepa', 'Stress': 'Leaf Miner', 'Description': 'Adults have yellow heads, knees, sides of abdomens; otherwise mostly dark gray, just over 1/10 inch long.\\n    Pupae are red-brown, slightly longer than adults.\\n    Larvae are white to yellow, up to about 1/3 inch long.\\n    Eggs are white, about 1/50 inch long, found on leaves.\\n    Adult feeding holes found in rows, with milky white sap coming out.', 'Solutions': ['Pyrethrin This organic pesticide will kill leaf miners as they leave the egg and enter the leaf. \\n    Since they have to chew into the leaf, they ingest the poison with the leaf and die. \\n    However, pyrethrin also kills good insects such as bee and leaf miner preditors. \\n    Use to spot treat concentrations of leaf miners rather than blanket the whole garden with it. \\n    Be sure you get it on the bottom side of the leaf.']}]\n"
     ]
    }
   ],
   "source": [
    "print(onion_data.stress_dict)"
   ]
  },
  {
   "cell_type": "code",
   "execution_count": 40,
   "metadata": {},
   "outputs": [
    {
     "name": "stdout",
     "output_type": "stream",
     "text": [
      "{'Crop': 'Onion', 'Scientific': 'Allium cepa', 'Stress': 'Botrytis leaf blight', 'Description': 'Botrytis leaf blight, sometimes also referred to as Botrytis leaf spot, occurs on onions. \\n    White, sunken spots on leaves are usually the first sign of infection. Spots are small, oval-shaped, and range from 0.06 to 0.25 inch (0.5–6 mm) long. \\n    They sometimes have a light-green halo and may appear water-soaked. The epidermis around the spots may be silvery. \\n    When numerous spots are present, leaf tips die back, and whole leaves may eventually die.', 'Solutions': ['apply appropriate fungicide sprays']}\n",
      "{'Crop': 'Onion', 'Scientific': 'Allium cepa', 'Stress': 'Downy Mildew', 'Description': 'At the field level, symptoms of downy mildew are first noticed as circular clumps of yellowed plants that are a few to many feet in diameter. \\n    As the disease progresses, the yellowing patterns often enlarge in the direction of prevailing winds.\\n    On individual plants, leaf tissue becomes pale green, then tan to brown or yellow, and finally collapses. Lesions may exhibit a violet-to-purple color. \\n    When leaves are wet, or when humidity is very high, signs of Peronospora destructor are visible on the surface of older leaves as fine, furry, grayish-white growths. \\n    These growths may later turn purple or brown as a result of a secondary infection of the lesion by other fungi, \\n    such as those that cause PURPLE BLOTCH AND STEMPYLIUM LEAF BLIGHT, as these fungi can produce purple pigmentation and dark spores.', 'Solutions': ['Spray at the first sign of the disease. After the first spray, scout fields and make subsequent applications when weather conditions are favorable for the disease. \\n    Rotate with fungicides from different mode-of-action groups to reduce the risk of fungicide resistance development. \\n    Fungicides may be applied on a 7-day schedule (only as consistent with the label), if necessary. \\n    For all fungicides, thorough coverage of foliage is important in the control of downy mildew. \\n    apply appropriate foliar fungicides taking care to apply thoroughly to waxy leaves. \\n    Chlorothalonil and mancozeb are the main protectant fungicides for downy mildew.']}\n",
      "{'Crop': 'Onion', 'Scientific': 'Allium cepa', 'Stress': 'Armyworm', 'Description': '', 'Solutions': ['']}\n",
      "{'Crop': 'Onion', 'Scientific': 'Allium cepa', 'Stress': 'Leaf Miner', 'Description': 'Adults have yellow heads, knees, sides of abdomens; otherwise mostly dark gray, just over 1/10 inch long.\\n    Pupae are red-brown, slightly longer than adults.\\n    Larvae are white to yellow, up to about 1/3 inch long.\\n    Eggs are white, about 1/50 inch long, found on leaves.\\n    Adult feeding holes found in rows, with milky white sap coming out.', 'Solutions': ['Pyrethrin This organic pesticide will kill leaf miners as they leave the egg and enter the leaf. \\n    Since they have to chew into the leaf, they ingest the poison with the leaf and die. \\n    However, pyrethrin also kills good insects such as bee and leaf miner preditors. \\n    Use to spot treat concentrations of leaf miners rather than blanket the whole garden with it. \\n    Be sure you get it on the bottom side of the leaf.']}\n"
     ]
    }
   ],
   "source": [
    "for i in onion_data.stress_dict:\n",
    "    print(i)"
   ]
  },
  {
   "cell_type": "code",
   "execution_count": null,
   "metadata": {},
   "outputs": [],
   "source": []
  }
 ],
 "metadata": {
  "kernelspec": {
   "display_name": "cudaconda",
   "language": "python",
   "name": "python3"
  },
  "language_info": {
   "codemirror_mode": {
    "name": "ipython",
    "version": 3
   },
   "file_extension": ".py",
   "mimetype": "text/x-python",
   "name": "python",
   "nbconvert_exporter": "python",
   "pygments_lexer": "ipython3",
   "version": "3.9.16"
  },
  "orig_nbformat": 4
 },
 "nbformat": 4,
 "nbformat_minor": 2
}
